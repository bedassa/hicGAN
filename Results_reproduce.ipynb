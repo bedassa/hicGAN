{
 "cells": [
  {
   "cell_type": "markdown",
   "metadata": {},
   "source": [
    "# Evaluation and Comparison"
   ]
  },
  {
   "cell_type": "markdown",
   "metadata": {},
   "source": [
    "## sr_mats_pre is the predicted outcome"
   ]
  },
  {
   "cell_type": "code",
   "execution_count": 13,
   "metadata": {
    "collapsed": true
   },
   "outputs": [
    {
     "name": "stderr",
     "output_type": "stream",
     "text": [
      "/home/liuqiao/anaconda2/lib/python2.7/site-packages/ipykernel_launcher.py:5: RuntimeWarning: divide by zero encountered in log10\n",
      "  \"\"\"\n"
     ]
    },
    {
     "data": {
      "text/plain": [
       "0.019148212020000423"
      ]
     },
     "execution_count": 13,
     "metadata": {},
     "output_type": "execute_result"
    },
    {
     "data": {
      "text/plain": [
       "14.560460842143709"
      ]
     },
     "execution_count": 13,
     "metadata": {},
     "output_type": "execute_result"
    },
    {
     "data": {
      "text/plain": [
       "0.24753643106770698"
      ]
     },
     "execution_count": 13,
     "metadata": {},
     "output_type": "execute_result"
    }
   ],
   "source": [
    "mse_hicGAN_norm=map(compare_mse,hr_mats_test[:,:,:,0],sr_mats_pre[:,:,:,0])\n",
    "psnr_hicGAN_norm=map(calculate_psnr,hr_mats_test[:,:,:,0],sr_mats_pre[:,:,:,0])\n",
    "ssim_hicGAN_norm=map(calculate_ssim,hr_mats_test[:,:,:,0],sr_mats_pre[:,:,:,0])\n",
    "np.median(mse_hicGAN_norm)\n",
    "np.median(psnr_hicGAN_norm)\n",
    "np.median(ssim_hicGAN_norm)"
   ]
  },
  {
   "cell_type": "code",
   "execution_count": 22,
   "metadata": {
    "ExecuteTime": {
     "end_time": "2018-12-18T08:35:24.284769Z",
     "start_time": "2018-12-18T08:35:22.406252Z"
    },
    "collapsed": true
   },
   "outputs": [
    {
     "data": {
      "text/plain": [
       "17.342128202329857"
      ]
     },
     "execution_count": 22,
     "metadata": {},
     "output_type": "execute_result"
    },
    {
     "data": {
      "text/plain": [
       "12.999959273493769"
      ]
     },
     "execution_count": 22,
     "metadata": {},
     "output_type": "execute_result"
    },
    {
     "data": {
      "text/plain": [
       "0.27598158962572117"
      ]
     },
     "execution_count": 22,
     "metadata": {},
     "output_type": "execute_result"
    }
   ],
   "source": [
    "#Best for hicPlus\n",
    "mse_hicPlus=map(compare_mse,Y_test_crop,Y_pre)\n",
    "psnr_hicPlus=map(calculate_psnr,Y_test_crop,Y_pre)\n",
    "ssim_hicPlus=map(calculate_ssim,Y_test_crop,Y_pre)\n",
    "np.median(mse_hicPlus)\n",
    "np.median(psnr_hicPlus)\n",
    "np.median(ssim_hicPlus)"
   ]
  },
  {
   "cell_type": "markdown",
   "metadata": {},
   "source": [
    "## Record the sample subscripts with the same genomic distance (offset)"
   ]
  },
  {
   "cell_type": "code",
   "execution_count": 17,
   "metadata": {
    "ExecuteTime": {
     "end_time": "2018-12-18T08:38:42.827667Z",
     "start_time": "2018-12-18T08:38:42.794478Z"
    },
    "collapsed": true
   },
   "outputs": [],
   "source": [
    "\n",
    "ind_0,ind_40,ind_80,ind_120,ind_160=[],[],[],[],[]\n",
    "for i in range(len(distance_all)):\n",
    "    if not (Y_test_crop[i]==0).all():\n",
    "        if abs(distance_all[i][0])==0:\n",
    "            ind_0.append(i)\n",
    "        elif abs(distance_all[i][0])==40:\n",
    "            ind_40.append(i)\n",
    "        elif abs(distance_all[i][0])==80:\n",
    "            ind_80.append(i)\n",
    "        elif abs(distance_all[i][0])==120:\n",
    "            ind_120.append(i)\n",
    "        elif abs(distance_all[i][0])==160:\n",
    "            ind_160.append(i)\n",
    "        else:\n",
    "            print 'error'"
   ]
  },
  {
   "cell_type": "markdown",
   "metadata": {},
   "source": [
    "## Group the metrices according to the offset"
   ]
  },
  {
   "cell_type": "code",
   "execution_count": 18,
   "metadata": {
    "ExecuteTime": {
     "end_time": "2018-12-18T13:41:25.181905Z",
     "start_time": "2018-12-18T13:41:25.167662Z"
    },
    "collapsed": true
   },
   "outputs": [],
   "source": [
    "data_mse_hicGAN_norm = [np.array(mse_hicGAN_norm)[ind_0],np.array(mse_hicGAN_norm)[ind_40],np.array(mse_hicGAN_norm)[ind_80],np.array(mse_hicGAN_norm)[ind_120],np.array(mse_hicGAN_norm)[ind_160]]\n",
    "data_psnr_hicGAN_norm = [np.array(psnr_hicGAN_norm)[ind_0],np.array(psnr_hicGAN_norm)[ind_40],np.array(psnr_hicGAN_norm)[ind_80],np.array(psnr_hicGAN_norm)[ind_120],np.array(psnr_hicGAN_norm)[ind_160]]\n",
    "data_ssim_hicGAN_norm = [np.array(ssim_hicGAN_norm)[ind_0],np.array(ssim_hicGAN_norm)[ind_40],np.array(ssim_hicGAN_norm)[ind_80],np.array(ssim_hicGAN_norm)[ind_120],np.array(ssim_hicGAN_norm)[ind_160]]"
   ]
  },
  {
   "cell_type": "code",
   "execution_count": 19,
   "metadata": {
    "ExecuteTime": {
     "end_time": "2018-12-18T08:46:50.529282Z",
     "start_time": "2018-12-18T08:46:50.510070Z"
    },
    "collapsed": true
   },
   "outputs": [],
   "source": [
    "data_mse_hicPlus = [np.array(mse_hicPlus)[ind_0],np.array(mse_hicPlus)[ind_40],np.array(mse_hicPlus)[ind_80],np.array(mse_hicPlus)[ind_120],np.array(mse_hicPlus)[ind_160]]\n",
    "data_psnr_hicPlus = [np.array(psnr_hicPlus)[ind_0],np.array(psnr_hicPlus)[ind_40],np.array(psnr_hicPlus)[ind_80],np.array(psnr_hicPlus)[ind_120],np.array(psnr_hicPlus)[ind_160]]\n",
    "data_ssim_hicPlus = [np.array(ssim_hicPlus)[ind_0],np.array(ssim_hicPlus)[ind_40],np.array(ssim_hicPlus)[ind_80],np.array(ssim_hicPlus)[ind_120],np.array(ssim_hicPlus)[ind_160]]"
   ]
  },
  {
   "cell_type": "code",
   "execution_count": 355,
   "metadata": {},
   "outputs": [
    {
     "data": {
      "image/png": "[encoded data removed]",
      "text/plain": [
       "<Figure size 216x432 with 1 Axes>"
      ]
     },
     "metadata": {},
     "output_type": "display_data"
    }
   ],
   "source": [
    "data={}\n",
    "data['dis']=['0']*len(ind_0)+['40']*len(ind_40)+['80']*len(ind_80)+['120']*len(ind_120)\n",
    "data['mse'] = np.concatenate([np.array(mse_hicGAN_norm)[ind_0],np.array(mse_hicGAN_norm)[ind_40],np.array(mse_hicGAN_norm)[ind_80],np.array(mse_hicGAN_norm)[ind_120]],axis=0)\n",
    "data['psnr'] = np.concatenate([np.array(psnr_hicGAN_norm)[ind_0],np.array(psnr_hicGAN_norm)[ind_40],np.array(psnr_hicGAN_norm)[ind_80],np.array(psnr_hicGAN_norm)[ind_120]],axis=0)\n",
    "data['ssim'] = np.concatenate([np.array(ssim_hicGAN_norm)[ind_0],np.array(ssim_hicGAN_norm)[ind_40],np.array(ssim_hicGAN_norm)[ind_80],np.array(ssim_hicGAN_norm)[ind_120]],axis=0)\n",
    "fig, axes = plt.subplots(nrows=1, ncols=1, figsize=(3,6), sharey=True)\n",
    "axes = sns.violinplot(x=\"dis\", y=\"psnr\",palette='muted',width=1,saturation=0.85,linewidth=0.5,data=data,order=['0','40','80','120'])\n",
    "axes.grid(False)\n",
    "#plt.savefig('fig/boxplot_psnr2.pdf')\n",
    "plt.show()"
   ]
  },
  {
   "cell_type": "markdown",
   "metadata": {},
   "source": [
    "## Use a dic to record pairs of true value and predicted value with the same genomic distance"
   ]
  },
  {
   "cell_type": "code",
   "execution_count": 42,
   "metadata": {
    "ExecuteTime": {
     "end_time": "2018-12-18T13:41:39.181769Z",
     "start_time": "2018-12-18T13:41:36.544815Z"
    },
    "collapsed": true
   },
   "outputs": [],
   "source": [
    "#distance_all = [[offset,chrom],[offset,chrom],...,[offset,chrom]]\n",
    "#hr_mats_test: true test samples\n",
    "#sr_mats_pre: predicted test samples\n",
    "dic_norm={}\n",
    "for i in range(200):\n",
    "    dic_norm[i]=[[],[]]#true and pre\n",
    "for i in range(len(distance_all)):\n",
    "    for j in range(-39,40,1):\n",
    "        dis = distance_all[i][0]-j\n",
    "        dic_norm[abs(dis)][0]+=hr_mats_test[i,:,:,0].diagonal(offset=j).tolist()\n",
    "        dic_norm[abs(dis)][1]+=sr_mats_pre[i,:,:,0].diagonal(offset=j).tolist()"
   ]
  },
  {
   "cell_type": "code",
   "execution_count": 43,
   "metadata": {
    "collapsed": true
   },
   "outputs": [],
   "source": [
    "dic_hicPlus_norm={}\n",
    "for i in range(200):\n",
    "    dic_hicPlus_norm[i]=[[],[]]#true and pre\n",
    "for i in range(len(distance_all)):\n",
    "    for j in range(-27,28,1):\n",
    "        dis = distance_all[i][0]-j\n",
    "        dic_hicPlus_norm[abs(dis)][0]+=Y_test_crop_norm[i].diagonal(offset=j).tolist()\n",
    "        dic_hicPlus_norm[abs(dis)][1]+=Y_pre_norm[i].diagonal(offset=j).tolist()"
   ]
  },
  {
   "cell_type": "code",
   "execution_count": 44,
   "metadata": {
    "collapsed": true
   },
   "outputs": [],
   "source": [
    "dic_baseline={}\n",
    "for i in range(200):\n",
    "    dic_baseline[i]=[[],[]]#true and pre\n",
    "for i in range(len(distance_all)):\n",
    "    for j in range(-27,28,1):\n",
    "        dis = distance_all[i][0]-j\n",
    "        dic_baseline[abs(dis)][0]+=hr_mats_test[i,:,:,0].diagonal(offset=j).tolist()\n",
    "        dic_baseline[abs(dis)][1]+=lr_mats_test[i,:,:,0].diagonal(offset=j).tolist()"
   ]
  },
  {
   "cell_type": "code",
   "execution_count": 55,
   "metadata": {},
   "outputs": [
    {
     "data": {
      "text/plain": [
       "(6623, 40, 40, 1)"
      ]
     },
     "execution_count": 55,
     "metadata": {},
     "output_type": "execute_result"
    },
    {
     "data": {
      "text/plain": [
       "(6623, 40, 40, 1)"
      ]
     },
     "execution_count": 55,
     "metadata": {},
     "output_type": "execute_result"
    }
   ],
   "source": [
    "hr_mats_test.shape\n",
    "lr_mats_test.shape"
   ]
  },
  {
   "cell_type": "code",
   "execution_count": 46,
   "metadata": {
    "collapsed": true
   },
   "outputs": [],
   "source": [
    "dic_gassian={}\n",
    "for i in range(200):\n",
    "    dic_gassian[i]=[[],[]]#true and pre\n",
    "for i in range(len(distance_all)):\n",
    "    for j in range(-27,28,1):\n",
    "        dis = distance_all[i][0]-j\n",
    "        dic_gassian[abs(dis)][0]+=hr_mats_test[i,:,:,0].diagonal(offset=j).tolist()\n",
    "        dic_gassian[abs(dis)][1]+=lr_mats_test_gaussian_blur[i].diagonal(offset=j).tolist()"
   ]
  },
  {
   "cell_type": "code",
   "execution_count": 171,
   "metadata": {
    "collapsed": true
   },
   "outputs": [],
   "source": [
    "dic_rep={}\n",
    "for i in range(200):\n",
    "    dic_rep[i]=[[],[]]#true and pre\n",
    "for i in range(len(distance_all)):\n",
    "    for j in range(-27,28,1):\n",
    "        dis = distance_all[i][0]-j\n",
    "        dic_rep[abs(dis)][0]+=hr_mats_test[i,:,:,0].diagonal(offset=j).tolist()\n",
    "        dic_rep[abs(dis)][1]+=hr_mats_test_rep[i,:,:,0].diagonal(offset=j).tolist()"
   ]
  },
  {
   "cell_type": "code",
   "execution_count": 91,
   "metadata": {
    "ExecuteTime": {
     "end_time": "2018-12-18T09:51:48.436139Z",
     "start_time": "2018-12-18T09:51:46.508601Z"
    },
    "collapsed": true
   },
   "outputs": [],
   "source": [
    "dic_hicPlus={}\n",
    "for i in range(200):\n",
    "    dic_hicPlus[i]=[[],[]]#true and pre\n",
    "for i in range(len(distance_all)):\n",
    "    if i in filter_idx:\n",
    "        for j in range(-27,28,1):#the size of sample of hicPlus is 28x28\n",
    "            dis = distance_all[i][0]-j\n",
    "            dic_hicPlus[abs(dis)][0]+=Y_test_crop[i].diagonal(offset=j).tolist()\n",
    "            dic_hicPlus[abs(dis)][1]+=Y_pre[i].diagonal(offset=j).tolist()"
   ]
  },
  {
   "cell_type": "code",
   "execution_count": 47,
   "metadata": {
    "ExecuteTime": {
     "end_time": "2018-12-18T13:41:44.567185Z",
     "start_time": "2018-12-18T13:41:42.428256Z"
    }
   },
   "outputs": [
    {
     "name": "stderr",
     "output_type": "stream",
     "text": [
      "/home/liuqiao/anaconda2/lib/python2.7/site-packages/scipy/stats/stats.py:3033: RuntimeWarning: Mean of empty slice.\n",
      "  mx = x.mean()\n",
      "/home/liuqiao/anaconda2/lib/python2.7/site-packages/numpy/core/_methods.py:80: RuntimeWarning: invalid value encountered in double_scalars\n",
      "  ret = ret.dtype.type(ret / rcount)\n",
      "/home/liuqiao/anaconda2/lib/python2.7/site-packages/scipy/stats/stats.py:3034: RuntimeWarning: Mean of empty slice.\n",
      "  my = y.mean()\n",
      "/home/liuqiao/anaconda2/lib/python2.7/site-packages/scipy/stats/stats.py:3038: RuntimeWarning: invalid value encountered in double_scalars\n",
      "  r = r_num / r_den\n"
     ]
    }
   ],
   "source": [
    "y=[]\n",
    "y_baseline=[]\n",
    "y_gaussian=[]\n",
    "y_hicPlus=[]\n",
    "#y_rep=[]\n",
    "for i in range(200):\n",
    "    y.append(scipy.stats.pearsonr(dic_norm[i][0],dic_norm[i][1])[0])\n",
    "    y_hicPlus.append(scipy.stats.pearsonr(dic_hicPlus_norm[i][0],dic_hicPlus_norm[i][1])[0])\n",
    "    y_baseline.append(scipy.stats.pearsonr(dic_baseline[i][0],dic_baseline[i][1])[0])\n",
    "    y_gaussian.append(scipy.stats.pearsonr(dic_gassian[i][0],dic_gassian[i][1])[0])\n",
    "    #y_rep.append(scipy.stats.pearsonr(dic_rep[i][0],dic_rep[i][1])[0])\n",
    "    \n",
    "    "
   ]
  },
  {
   "cell_type": "code",
   "execution_count": 48,
   "metadata": {},
   "outputs": [
    {
     "data": {
      "text/plain": [
       "MannwhitneyuResult(statistic=6965.0, pvalue=7.931797403600585e-07)"
      ]
     },
     "execution_count": 48,
     "metadata": {},
     "output_type": "execute_result"
    }
   ],
   "source": [
    "mannwhitneyu(y[:100],y_hicPlus[:100],alternative='greater')"
   ]
  },
  {
   "cell_type": "code",
   "execution_count": 1174,
   "metadata": {},
   "outputs": [
    {
     "data": {
      "text/plain": [
       "[<matplotlib.lines.Line2D at 0x7fbf1c3eb590>]"
      ]
     },
     "execution_count": 1174,
     "metadata": {},
     "output_type": "execute_result"
    },
    {
     "data": {
      "text/plain": [
       "[<matplotlib.lines.Line2D at 0x7fb358992cd0>]"
      ]
     },
     "execution_count": 1174,
     "metadata": {},
     "output_type": "execute_result"
    },
    {
     "data": {
      "text/plain": [
       "[<matplotlib.lines.Line2D at 0x7fbefeb8a190>]"
      ]
     },
     "execution_count": 1174,
     "metadata": {},
     "output_type": "execute_result"
    },
    {
     "data": {
      "text/plain": [
       "[<matplotlib.lines.Line2D at 0x7fb35a3d0490>]"
      ]
     },
     "execution_count": 1174,
     "metadata": {},
     "output_type": "execute_result"
    },
    {
     "data": {
      "text/plain": [
       "(0.3, 1)"
      ]
     },
     "execution_count": 1174,
     "metadata": {},
     "output_type": "execute_result"
    },
    {
     "data": {
      "text/plain": [
       "Text(0.5,0,'Genomic distance(10kb)')"
      ]
     },
     "execution_count": 1174,
     "metadata": {},
     "output_type": "execute_result"
    },
    {
     "data": {
      "text/plain": [
       "Text(0,0.5,'Pearson r')"
      ]
     },
     "execution_count": 1174,
     "metadata": {},
     "output_type": "execute_result"
    },
    {
     "data": {
      "text/plain": [
       "(0, 100)"
      ]
     },
     "execution_count": 1174,
     "metadata": {},
     "output_type": "execute_result"
    },
    {
     "data": {
      "text/plain": [
       "<matplotlib.legend.Legend at 0x7fb35a3fa290>"
      ]
     },
     "execution_count": 1174,
     "metadata": {},
     "output_type": "execute_result"
    },
    {
     "data": {
      "image/png": "[encoded data removed]",
      "text/plain": [
       "<Figure size 432x288 with 1 Axes>"
      ]
     },
     "metadata": {},
     "output_type": "display_data"
    }
   ],
   "source": [
    "import seaborn as sns\n",
    "sns.set_style(\"whitegrid\") \n",
    "fig, axes = plt.subplots(nrows=1, ncols=1, figsize=(6, 4), sharey=True)\n",
    "axes.grid(False)\n",
    "axes.plot(list(range(200)),y,'r',label='hicGAN')\n",
    "axes.plot(list(range(200)),y_hicPlus,'g',label='HiCPlus')\n",
    "axes.plot(list(range(200)),y_gaussian,'k',linestyle='dashed',label='2D Gaussian')\n",
    "#axes.plot(list(range(200)),y_rep,'k',linestyle='dashed',label='Biological Rep2')\n",
    "axes.plot(list(range(200)),y_baseline,'k',label='Baseline')\n",
    "\n",
    "plt.ylim(0.3,1)\n",
    "plt.xlabel('Genomic distance(10kb)')\n",
    "plt.ylabel('Pearson r')\n",
    "plt.xlim(0,100)\n",
    "plt.legend()\n",
    "#plt.savefig('fig/comparison_pearson.pdf')\n",
    "plt.show()"
   ]
  }
 ],
 "metadata": {
  "kernelspec": {
   "display_name": "Python 2",
   "language": "python",
   "name": "python2"
  },
  "language_info": {
   "codemirror_mode": {
    "name": "ipython",
    "version": 2
   },
   "file_extension": ".py",
   "mimetype": "text/x-python",
   "name": "python",
   "nbconvert_exporter": "python",
   "pygments_lexer": "ipython2",
   "version": "2.7.14"
  },
  "toc": {
   "base_numbering": 1,
   "nav_menu": {},
   "number_sections": true,
   "sideBar": true,
   "skip_h1_title": false,
   "title_cell": "Table of Contents",
   "title_sidebar": "Contents",
   "toc_cell": false,
   "toc_position": {},
   "toc_section_display": true,
   "toc_window_display": false
  }
 },
 "nbformat": 4,
 "nbformat_minor": 2
}
