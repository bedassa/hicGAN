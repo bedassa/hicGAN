{
 "cells": [
  {
   "cell_type": "markdown",
   "metadata": {},
   "source": [
    "# Generate data"
   ]
  },
  {
   "cell_type": "code",
   "execution_count": 1,
   "metadata": {
    "ExecuteTime": {
     "end_time": "2018-12-19T03:11:40.002203Z",
     "start_time": "2018-12-19T03:11:34.339246Z"
    }
   },
   "outputs": [],
   "source": [
    "import os, time, pickle, random, time, sys, math\n",
    "from datetime import datetime\n",
    "import numpy as np\n",
    "from time import localtime, strftime\n",
    "import logging, scipy\n",
    "import hickle as hkl\n",
    "os.environ[\"CUDA_VISIBLE_DEVICES\"] = \"5,6\"\n",
    "import tensorflow as tf\n",
    "import tensorlayer as tl\n",
    "from tensorlayer.layers import *\n",
    "import matplotlib.pyplot as plt"
   ]
  },
  {
   "cell_type": "code",
   "execution_count": 2,
   "metadata": {
    "ExecuteTime": {
     "end_time": "2018-12-19T03:11:45.506078Z",
     "start_time": "2018-12-19T03:11:45.472692Z"
    }
   },
   "outputs": [
    {
     "name": "stdout",
     "output_type": "stream",
     "text": [
      "[TL] [!] checkpoint_easy exists ...\n"
     ]
    },
    {
     "data": {
      "text/plain": [
       "True"
      ]
     },
     "execution_count": 2,
     "metadata": {},
     "output_type": "execute_result"
    },
    {
     "name": "stdout",
     "output_type": "stream",
     "text": [
      "[TL] [!] samples exists ...\n"
     ]
    },
    {
     "data": {
      "text/plain": [
       "True"
      ]
     },
     "execution_count": 2,
     "metadata": {},
     "output_type": "execute_result"
    },
    {
     "name": "stdout",
     "output_type": "stream",
     "text": [
      "[TL] [!] log_easy exists ...\n"
     ]
    },
    {
     "data": {
      "text/plain": [
       "True"
      ]
     },
     "execution_count": 2,
     "metadata": {},
     "output_type": "execute_result"
    }
   ],
   "source": [
    "#GPU setting and Global parameters\n",
    "\n",
    "checkpoint = \"checkpoint_easy\"\n",
    "log_dir = \"log_easy\"\n",
    "save_dir_gan = \"samples\"\n",
    "tl.global_flag['mode']='hicgan'\n",
    "tl.files.exists_or_mkdir(checkpoint)\n",
    "tl.files.exists_or_mkdir(save_dir_gan)\n",
    "tl.files.exists_or_mkdir(log_dir)\n",
    "batch_size = 16\n",
    "lr_init = 1e-4\n",
    "beta1 = 0.9\n",
    "## initialize G\n",
    "#n_epoch_init = 100\n",
    "n_epoch_init = 10\n",
    "n_epoch = 100\n",
    "lr_decay = 0.1\n",
    "decay_every = int(n_epoch / 2)\n",
    "ni = int(np.sqrt(batch_size))"
   ]
  },
  {
   "cell_type": "code",
   "execution_count": 5,
   "metadata": {
    "ExecuteTime": {
     "end_time": "2018-12-14T03:03:31.652412Z",
     "start_time": "2018-12-14T03:03:31.616724Z"
    }
   },
   "outputs": [],
   "source": [
    "#Data preparation and preprocessing\n",
    "def hic_matrix_extraction(DPATH,res=10000,norm_method='NONE'):\n",
    "    chrom_list = list(range(1,23))#chr1-chr22\n",
    "    hr_contacts_dict={}\n",
    "    for each in chrom_list:\n",
    "        hr_hic_file = '%s/intra_%s/chr%d_10k_intra_%s.txt'%(DPATH,norm_method,each,norm_method)\n",
    "        chrom_len = {item.split()[0]:int(item.strip().split()[1]) for item in open('%s/chromosome.txt'%DPATH).readlines()}\n",
    "        mat_dim = int(math.ceil(chrom_len['chr%d'%each]*1.0/res))\n",
    "        hr_contact_matrix = np.zeros((mat_dim,mat_dim))\n",
    "        for line in open(hr_hic_file).readlines():\n",
    "            idx1, idx2, value = int(line.strip().split('\\t')[0]),int(line.strip().split('\\t')[1]),float(line.strip().split('\\t')[2])\n",
    "            hr_contact_matrix[idx1/res][idx2/res] = value\n",
    "        hr_contact_matrix+= hr_contact_matrix.T - np.diag(hr_contact_matrix.diagonal())\n",
    "        hr_contacts_dict['chr%d'%each] = hr_contact_matrix\n",
    "    lr_contacts_dict={}\n",
    "    for each in chrom_list:\n",
    "        lr_hic_file = '%s/intra_%s/chr%d_10k_intra_%s_downsample_ratio16.txt'%(DPATH,norm_method,each,norm_method)\n",
    "        chrom_len = {item.split()[0]:int(item.strip().split()[1]) for item in open('%s/chromosome.txt'%DPATH).readlines()}\n",
    "        mat_dim = int(math.ceil(chrom_len['chr%d'%each]*1.0/res))\n",
    "        lr_contact_matrix = np.zeros((mat_dim,mat_dim))\n",
    "        for line in open(lr_hic_file).readlines():\n",
    "            idx1, idx2, value = int(line.strip().split('\\t')[0]),int(line.strip().split('\\t')[1]),float(line.strip().split('\\t')[2])\n",
    "            lr_contact_matrix[idx1/res][idx2/res] = value\n",
    "        lr_contact_matrix+= lr_contact_matrix.T - np.diag(lr_contact_matrix.diagonal())\n",
    "        lr_contacts_dict['chr%d'%each] = lr_contact_matrix\n",
    "\n",
    "    nb_hr_contacts={item:sum(sum(hr_contacts_dict[item])) for item in hr_contacts_dict.keys()}\n",
    "    nb_lr_contacts={item:sum(sum(lr_contacts_dict[item])) for item in lr_contacts_dict.keys()}\n",
    "    max_hr_contact = max([nb_hr_contacts[item] for item in nb_hr_contacts.keys()])\n",
    "    max_lr_contact = max([nb_lr_contacts[item] for item in nb_lr_contacts.keys()])\n",
    "    \n",
    "    return hr_contacts_dict,lr_contacts_dict,max_hr_contact,max_lr_contact"
   ]
  },
  {
   "cell_type": "code",
   "execution_count": 6,
   "metadata": {
    "ExecuteTime": {
     "end_time": "2018-12-14T03:27:52.475318Z",
     "start_time": "2018-12-14T03:03:32.081171Z"
    }
   },
   "outputs": [],
   "source": [
    "hr_contacts_dict,lr_contacts_dict,max_hr_contact,max_lr_contact = hic_matrix_extraction('/home/liuqiao/software/HiCPlus/data/GM12878_primary/aligned_read_pairs')"
   ]
  },
  {
   "cell_type": "code",
   "execution_count": 7,
   "metadata": {
    "ExecuteTime": {
     "end_time": "2018-12-14T03:32:15.602567Z",
     "start_time": "2018-12-14T03:27:52.478834Z"
    }
   },
   "outputs": [],
   "source": [
    "hr_contacts_norm_dict = {item:np.log2(hr_contacts_dict[item]*max_hr_contact/sum(sum(hr_contacts_dict[item]))+1) for item in hr_contacts_dict.keys()}\n",
    "lr_contacts_norm_dict = {item:np.log2(lr_contacts_dict[item]*max_lr_contact/sum(sum(lr_contacts_dict[item]))+1) for item in lr_contacts_dict.keys()}"
   ]
  },
  {
   "cell_type": "code",
   "execution_count": 8,
   "metadata": {
    "ExecuteTime": {
     "end_time": "2018-12-14T03:32:48.734625Z",
     "start_time": "2018-12-14T03:32:15.605288Z"
    }
   },
   "outputs": [],
   "source": [
    "max_hr_contact_norm={item:hr_contacts_norm_dict[item].max() for item in hr_contacts_dict.keys()}\n",
    "max_lr_contact_norm={item:lr_contacts_norm_dict[item].max() for item in lr_contacts_dict.keys()}"
   ]
  },
  {
   "cell_type": "code",
   "execution_count": null,
   "metadata": {},
   "outputs": [],
   "source": []
  },
  {
   "cell_type": "code",
   "execution_count": 23,
   "metadata": {
    "ExecuteTime": {
     "end_time": "2018-12-15T09:13:01.596625Z",
     "start_time": "2018-12-15T09:13:01.509633Z"
    }
   },
   "outputs": [],
   "source": [
    "#Data preparation and preprocessing for hicgan\n",
    "def crop_hic_matrix_by_chrom(chrom, size=40 ,thred=200):\n",
    "    #thred=2M/resolution\n",
    "    def hic_normlize(mat):\n",
    "        row,col = mat.shape\n",
    "        mat_trans = np.log2(mat*max_contact/sum(sum(mat))+1)\n",
    "        mat_trans /=0.5*mat_trans.max()\n",
    "        mat_trans-=1\n",
    "        return mat_trans\n",
    "    crop_mats_hr=[]\n",
    "    crop_mats_lr=[]\n",
    "    distance=[]\n",
    "    \n",
    "    row,col = hr_contacts_norm_dict[chrom].shape\n",
    "    if row<=thred or col<=thred:\n",
    "        print 'HiC matrix size wrong!'\n",
    "        sys.exit()\n",
    "    def quality_control(mat,thred=0.05):\n",
    "        if len(mat.nonzero()[0])<thred*mat.shape[0]*mat.shape[1]:\n",
    "            return False\n",
    "        else:\n",
    "            return True\n",
    "        \n",
    "    for idx1 in range(0,row-size,size):\n",
    "        for idx2 in range(0,col-size,size):\n",
    "            if abs(idx1-idx2)<thred:\n",
    "                if quality_control(lr_contacts_norm_dict[chrom][idx1:idx1+size,idx2:idx2+size]):\n",
    "                #if True:\n",
    "                    lr_contact_norm = lr_contacts_norm_dict[chrom][idx1:idx1+size,idx2:idx2+size]\n",
    "                    lr_contact_norm_scaled = lr_contact_norm*2.0/max_lr_contact_norm[chrom]-1\n",
    "                    distance.append([idx1-idx2,chrom])\n",
    "                    hr_contact_norm = hr_contacts_norm_dict[chrom][idx1:idx1+size,idx2:idx2+size]\n",
    "                    hr_contact_norm_scaled = hr_contact_norm*2.0/max_hr_contact_norm[chrom]-1\n",
    "                    crop_mats_lr.append(lr_contact_norm_scaled)\n",
    "                    crop_mats_hr.append(hr_contact_norm_scaled)\n",
    "    crop_mats_hr = np.concatenate([item[np.newaxis,:] for item in crop_mats_hr],axis=0)\n",
    "    crop_mats_lr = np.concatenate([item[np.newaxis,:] for item in crop_mats_lr],axis=0)\n",
    "    return crop_mats_hr,crop_mats_lr,distance\n",
    "def training_data_split(train_chrom_list):\n",
    "    random.seed(100)\n",
    "    distance_all=[]\n",
    "    assert len(train_chrom_list)>0\n",
    "    hr_mats_train,lr_mats_train=[],[]\n",
    "    for chrom in train_chrom_list:\n",
    "        crop_mats_hr,crop_mats_lr,distance = crop_hic_matrix_by_chrom(chrom, size=40 ,thred=200)\n",
    "        distance_all+=distance\n",
    "        hr_mats_train.append(crop_mats_hr)\n",
    "        lr_mats_train.append(crop_mats_lr)\n",
    "    hr_mats_train = np.concatenate(hr_mats_train,axis=0)\n",
    "    lr_mats_train = np.concatenate(lr_mats_train,axis=0)\n",
    "    hr_mats_train=hr_mats_train[:,np.newaxis]\n",
    "    lr_mats_train=lr_mats_train[:,np.newaxis]\n",
    "    hr_mats_train=hr_mats_train.transpose((0,2,3,1))\n",
    "    lr_mats_train=lr_mats_train.transpose((0,2,3,1))\n",
    "    #train_shuffle_list = list(range(len(hr_mats_train)))\n",
    "    #hr_mats_train = hr_mats_train[train_shuffle_list]\n",
    "    #lr_mats_train = lr_mats_train[train_shuffle_list]\n",
    "    return hr_mats_train,lr_mats_train,distance_all\n",
    "\n"
   ]
  },
  {
   "cell_type": "code",
   "execution_count": 12,
   "metadata": {
    "ExecuteTime": {
     "end_time": "2018-12-15T08:57:00.952286Z",
     "start_time": "2018-12-15T08:57:00.892825Z"
    }
   },
   "outputs": [],
   "source": [
    "#Data preparation and preprocessing for HICplus\n",
    "def crop_hic_matrix_by_chrom(chrom, size=40 ,thred=200):\n",
    "    #thred=2M/resolution\n",
    "    def hic_normlize(mat):\n",
    "        row,col = mat.shape\n",
    "        mat_trans = np.log2(mat*max_contact/sum(sum(mat))+1)\n",
    "        mat_trans /=0.5*mat_trans.max()\n",
    "        mat_trans-=1\n",
    "        return mat_trans\n",
    "    crop_mats_hr=[]\n",
    "    crop_mats_lr=[]\n",
    "    distance=[]\n",
    "    row,col = hr_contacts_norm_dict[chrom].shape\n",
    "    if row<=thred or col<=thred:\n",
    "        print 'HiC matrix size wrong!'\n",
    "        sys.exit()\n",
    "    def quality_control(mat,thred=0.05):\n",
    "        if len(mat.nonzero()[0])<thred*mat.shape[0]*mat.shape[1]:\n",
    "            return False\n",
    "        else:\n",
    "            return True\n",
    "        \n",
    "    for idx1 in range(0,row-size,size):\n",
    "        for idx2 in range(0,col-size,size):\n",
    "            if abs(idx1-idx2)<thred:\n",
    "                #if quality_control(lr_contacts_norm_dict[chrom][idx1:idx1+size,idx2:idx2+size]):\n",
    "                if True:\n",
    "                    lr_contact_norm = lr_contacts_norm_dict[chrom][idx1:idx1+size,idx2:idx2+size]\n",
    "                    hr_contact_norm = hr_contacts_norm_dict[chrom][idx1+6:idx1+size-6,idx2+6:idx2+size-6]\n",
    "                    distance.append(abs(idx1-idx2))\n",
    "                    crop_mats_lr.append(lr_contact_norm)\n",
    "                    crop_mats_hr.append(hr_contact_norm)\n",
    "                    #crop_mats_lr.append(lr_contact_norm_scaled)\n",
    "                    #crop_mats_hr.append(hr_contact_norm_scaled)\n",
    "    crop_mats_hr = np.concatenate([item[np.newaxis,:] for item in crop_mats_hr],axis=0)\n",
    "    crop_mats_lr = np.concatenate([item[np.newaxis,:] for item in crop_mats_lr],axis=0)\n",
    "    return crop_mats_hr,crop_mats_lr,distance\n",
    "def training_data_split(train_chrom_list):\n",
    "    random.seed(100)\n",
    "    distance_all=[]\n",
    "    assert len(train_chrom_list)>0\n",
    "    hr_mats_train,lr_mats_train=[],[]\n",
    "    distance_all = []\n",
    "    for chrom in train_chrom_list:\n",
    "        crop_mats_hr,crop_mats_lr,distance = crop_hic_matrix_by_chrom(chrom, size=40 ,thred=200)\n",
    "        distance_all+=distance\n",
    "        hr_mats_train.append(crop_mats_hr)\n",
    "        lr_mats_train.append(crop_mats_lr)\n",
    "    hr_mats_train = np.concatenate(hr_mats_train,axis=0)\n",
    "    lr_mats_train = np.concatenate(lr_mats_train,axis=0)\n",
    "    #hr_mats_train=hr_mats_train[:,np.newaxis]\n",
    "    lr_mats_train=lr_mats_train[:,np.newaxis]\n",
    "    #hr_mats_train=hr_mats_train.transpose((0,2,3,1))\n",
    "    #lr_mats_train=lr_mats_train.transpose((0,2,3,1))\n",
    "    #train_shuffle_list = list(range(len(hr_mats_train)))\n",
    "    #hr_mats_train = hr_mats_train[train_shuffle_list]\n",
    "    #lr_mats_train = lr_mats_train[train_shuffle_list]\n",
    "    return hr_mats_train,lr_mats_train,distance_all\n",
    "\n"
   ]
  },
  {
   "cell_type": "code",
   "execution_count": 24,
   "metadata": {
    "ExecuteTime": {
     "end_time": "2018-12-15T09:13:12.376664Z",
     "start_time": "2018-12-15T09:13:04.085434Z"
    }
   },
   "outputs": [
    {
     "data": {
      "text/plain": [
       "(52497, 40, 40, 1)"
      ]
     },
     "execution_count": 24,
     "metadata": {},
     "output_type": "execute_result"
    },
    {
     "data": {
      "text/plain": [
       "(52497, 40, 40, 1)"
      ]
     },
     "execution_count": 24,
     "metadata": {},
     "output_type": "execute_result"
    },
    {
     "data": {
      "text/plain": [
       "(5578, 40, 40, 1)"
      ]
     },
     "execution_count": 24,
     "metadata": {},
     "output_type": "execute_result"
    },
    {
     "data": {
      "text/plain": [
       "(5578, 40, 40, 1)"
      ]
     },
     "execution_count": 24,
     "metadata": {},
     "output_type": "execute_result"
    }
   ],
   "source": [
    "hr_mats_train,lr_mats_train,_ = training_data_split(['chr%d'%idx for idx in list(range(1,18))])\n",
    "hr_mats_test,lr_mats_test,distance_all = training_data_split(['chr%d'%idx for idx in list(range(18,23))])\n",
    "hr_mats_train.shape\n",
    "lr_mats_train.shape\n",
    "hr_mats_test.shape\n",
    "lr_mats_test.shape"
   ]
  },
  {
   "cell_type": "code",
   "execution_count": 3,
   "metadata": {
    "ExecuteTime": {
     "end_time": "2018-12-16T09:52:01.928706Z",
     "start_time": "2018-12-16T09:51:04.689730Z"
    }
   },
   "outputs": [],
   "source": [
    "lr_mats_train,hr_mats_train,_ = hkl.load('./GM12878_primary/train_data.hkl')\n",
    "lr_mats_test,hr_mats_test,distance_all = hkl.load('./GM12878_primary/test_data.hkl')\n"
   ]
  },
  {
   "cell_type": "code",
   "execution_count": 5,
   "metadata": {
    "ExecuteTime": {
     "end_time": "2018-12-16T09:55:30.175222Z",
     "start_time": "2018-12-16T09:55:30.161308Z"
    }
   },
   "outputs": [
    {
     "data": {
      "text/plain": [
       "(52497, 40, 40, 1)"
      ]
     },
     "execution_count": 5,
     "metadata": {},
     "output_type": "execute_result"
    },
    {
     "data": {
      "text/plain": [
       "(5578, 40, 40, 1)"
      ]
     },
     "execution_count": 5,
     "metadata": {},
     "output_type": "execute_result"
    }
   ],
   "source": [
    "lr_mats_train.shape\n",
    "lr_mats_test.shape"
   ]
  },
  {
   "cell_type": "markdown",
   "metadata": {},
   "source": [
    "# Building model"
   ]
  },
  {
   "cell_type": "code",
   "execution_count": 9,
   "metadata": {
    "ExecuteTime": {
     "end_time": "2018-10-09T14:31:34.254792Z",
     "start_time": "2018-10-09T14:31:28.799307Z"
    }
   },
   "outputs": [],
   "source": [
    "#save data, full data-> no quality control\n",
    "hkl.dump([lr_mats_train,hr_mats_train],'train_data_full.hkl')\n",
    "hkl.dump([lr_mats_test,hr_mats_test],'test_data_full.hkl')\n",
    "hkl.dump(distance_all,'test_data_distance_dic.hkl')"
   ]
  },
  {
   "cell_type": "code",
   "execution_count": 26,
   "metadata": {
    "ExecuteTime": {
     "end_time": "2018-12-16T10:12:20.423392Z",
     "start_time": "2018-12-16T10:12:19.819456Z"
    }
   },
   "outputs": [
    {
     "data": {
      "text/plain": [
       "<matplotlib.image.AxesImage at 0x7f14c221a4d0>"
      ]
     },
     "execution_count": 26,
     "metadata": {},
     "output_type": "execute_result"
    },
    {
     "data": {
      "text/plain": [
       "<matplotlib.colorbar.Colorbar at 0x7f14c24d8610>"
      ]
     },
     "execution_count": 26,
     "metadata": {},
     "output_type": "execute_result"
    },
    {
     "data": {
      "image/png": "[encoded data removed]",
      "text/plain": [
       "<matplotlib.figure.Figure at 0x7f14c1de0c10>"
      ]
     },
     "metadata": {},
     "output_type": "display_data"
    },
    {
     "data": {
      "text/plain": [
       "<matplotlib.image.AxesImage at 0x7f14c241b150>"
      ]
     },
     "execution_count": 26,
     "metadata": {},
     "output_type": "execute_result"
    },
    {
     "data": {
      "text/plain": [
       "<matplotlib.colorbar.Colorbar at 0x7f14c23dbad0>"
      ]
     },
     "execution_count": 26,
     "metadata": {},
     "output_type": "execute_result"
    },
    {
     "data": {
      "image/png": "[encoded data removed]",
      "text/plain": [
       "<matplotlib.figure.Figure at 0x7f14c24a5ed0>"
      ]
     },
     "metadata": {},
     "output_type": "display_data"
    }
   ],
   "source": [
    "idx=6\n",
    "cmaps = ['Greys','Reds','YlOrBr','YlOrRd','hot']\n",
    "cmap = plt.get_cmap(cmaps[3])\n",
    "plt.imshow(hr_mats_test[idx,:,:,0],cmap=cmap)\n",
    "plt.grid(False)\n",
    "plt.colorbar()\n",
    "plt.show()\n",
    "plt.imshow(lr_mats_test[idx,:,:,0],cmap=cmap)\n",
    "plt.grid(False)\n",
    "plt.colorbar()\n",
    "plt.show()"
   ]
  },
  {
   "cell_type": "code",
   "execution_count": 82,
   "metadata": {
    "ExecuteTime": {
     "end_time": "2018-09-17T14:14:28.681690Z",
     "start_time": "2018-09-17T14:14:24.026847Z"
    },
    "collapsed": true
   },
   "outputs": [],
   "source": [
    "import hickle as hkl\n",
    "hkl.dump([hr_mats_train_scaled,lr_mats_train_scaled],'train_data.hkl')"
   ]
  },
  {
   "cell_type": "code",
   "execution_count": 44,
   "metadata": {
    "ExecuteTime": {
     "end_time": "2018-10-07T12:43:46.641832Z",
     "start_time": "2018-10-07T12:43:46.401777Z"
    }
   },
   "outputs": [],
   "source": [
    "sample_hr = hr_contacts_norm_dict['chr17'][7000:7100,7000:7100]\n",
    "sample_lr = lr_contacts_norm_dict['chr17'][7000:7100,7000:7100]\n",
    "sample_hr=sample_hr*2.0/max_hr_contact_norm['chr17']-1\n",
    "sample_lr=sample_lr*2.0/max_lr_contact_norm['chr17']-1\n",
    "hkl.dump(sample_hr,'test_sample_hr.hkl')\n",
    "hkl.dump(sample_lr,'test_sample_lr.hkl')"
   ]
  },
  {
   "cell_type": "code",
   "execution_count": 50,
   "metadata": {
    "ExecuteTime": {
     "end_time": "2018-10-07T12:49:16.208504Z",
     "start_time": "2018-10-07T12:49:16.202529Z"
    }
   },
   "outputs": [
    {
     "data": {
      "text/plain": [
       "(1, 100, 100, 1)"
      ]
     },
     "execution_count": 50,
     "metadata": {},
     "output_type": "execute_result"
    }
   ],
   "source": [
    "sample_test_in = sample_lr[np.newaxis,:,np.newaxis]\n",
    "sample_test_in = sample_test_in.transpose((0,1,3,2))\n",
    "sample_test_in.shape"
   ]
  },
  {
   "cell_type": "code",
   "execution_count": 119,
   "metadata": {
    "ExecuteTime": {
     "end_time": "2018-09-18T14:28:09.759836Z",
     "start_time": "2018-09-18T14:28:09.487817Z"
    }
   },
   "outputs": [
    {
     "data": {
      "image/png": "[encoded data removed]",
      "text/plain": [
       "<matplotlib.figure.Figure at 0x7f909d087ed0>"
      ]
     },
     "metadata": {},
     "output_type": "display_data"
    },
    {
     "data": {
      "text/plain": [
       "(100, 100, 1)"
      ]
     },
     "execution_count": 119,
     "metadata": {},
     "output_type": "execute_result"
    }
   ],
   "source": [
    "def generate_sample(chrom,start,end,is_hr=False,res=10000):\n",
    "    #start,end in Mb\n",
    "    if is_hr:\n",
    "        hic_matrix = hr_contacts_norm_dict[chrom]\n",
    "        max_contact = max_hr_contact\n",
    "    else:\n",
    "        hic_matrix = lr_contacts_norm_dict[chrom]\n",
    "        max_contact = max_lr_contact\n",
    "    def hic_normlize(mat):\n",
    "        row,col = mat.shape\n",
    "        mat_trans = np.log2(mat*max_contact/sum(sum(mat))+1)\n",
    "        mat_trans /=0.5*mat_trans.max()\n",
    "        mat_trans-=1\n",
    "        return mat_trans\n",
    "    #hic_matrix+= hic_matrix.T - np.diag(hic_matrix.diagonal())\n",
    "    #hic_matrix = hic_normlize(hic_matrix)\n",
    "    \n",
    "    start_idx = start*1000000/res\n",
    "    end_idx = end*1000000/res\n",
    "    sample_data = hic_matrix[start_idx:end_idx,start_idx:end_idx]\n",
    "    # why sample_data.max() not max_contact\n",
    "    sample_data = sample_data*2.0/sample_data.max()-1\n",
    "    cmaps = ['Greys','Reds','YlOrBr','YlOrRd','hot']\n",
    "    cmap = plt.get_cmap(cmaps[3])\n",
    "    plt.imshow(sample_data,cmap=cmap)\n",
    "    plt.grid(False)\n",
    "    plt.colorbar()\n",
    "    plt.show()\n",
    "    return sample_data\n",
    "\n",
    "test_sample = generate_sample('chr17',70,71,is_hr=True,res=10000)\n",
    "test_sample = test_sample[:,np.newaxis]\n",
    "test_sample=test_sample.transpose((0,2,1))\n",
    "test_sample.shape\n",
    "    "
   ]
  },
  {
   "cell_type": "code",
   "execution_count": 276,
   "metadata": {
    "ExecuteTime": {
     "end_time": "2018-12-18T13:24:48.924157Z",
     "start_time": "2018-12-18T13:24:48.889852Z"
    }
   },
   "outputs": [
    {
     "ename": "NameError",
     "evalue": "name 'neg_g' is not defined",
     "output_type": "error",
     "traceback": [
      "\u001b[0;31m---------------------------------------------------------------------------\u001b[0m",
      "\u001b[0;31mNameError\u001b[0m                                 Traceback (most recent call last)",
      "\u001b[0;32m<ipython-input-276-58dd2f6802cd>\u001b[0m in \u001b[0;36m<module>\u001b[0;34m()\u001b[0m\n\u001b[0;32m----> 1\u001b[0;31m \u001b[0;32mdel\u001b[0m \u001b[0mneg_g\u001b[0m\u001b[0;34m\u001b[0m\u001b[0m\n\u001b[0m",
      "\u001b[0;31mNameError\u001b[0m: name 'neg_g' is not defined"
     ]
    }
   ],
   "source": []
  },
  {
   "cell_type": "code",
   "execution_count": 4,
   "metadata": {
    "ExecuteTime": {
     "end_time": "2018-12-19T03:12:06.318387Z",
     "start_time": "2018-12-19T03:11:59.035371Z"
    },
    "scrolled": true
   },
   "outputs": [
    {
     "name": "stdout",
     "output_type": "stream",
     "text": [
      "[TL] InputLayer  hicGAN_g/in: (?, ?, ?, 1)\n",
      "[TL] Conv2d hicGAN_g/n64s1/c: n_filter: 64 filter_size: (3, 3) strides: (1, 1) pad: SAME act: relu\n",
      "[TL] Conv2d hicGAN_g/n64s1/c1/0: n_filter: 64 filter_size: (3, 3) strides: (1, 1) pad: SAME act: No Activation\n",
      "[TL] BatchNormLayer hicGAN_g/n64s1/b1/0: decay: 0.900000 epsilon: 0.000010 act: relu is_train: False\n",
      "[TL] Conv2d hicGAN_g/n64s1/c2/0: n_filter: 64 filter_size: (3, 3) strides: (1, 1) pad: SAME act: No Activation\n",
      "[TL] BatchNormLayer hicGAN_g/n64s1/b2/0: decay: 0.900000 epsilon: 0.000010 act: No Activation is_train: False\n",
      "[TL] ElementwiseLayer hicGAN_g/b_residual_add/0: size: (?, ?, ?, 64) fn: add\n",
      "[TL] Conv2d hicGAN_g/n64s1/c1/1: n_filter: 64 filter_size: (3, 3) strides: (1, 1) pad: SAME act: No Activation\n",
      "[TL] BatchNormLayer hicGAN_g/n64s1/b1/1: decay: 0.900000 epsilon: 0.000010 act: relu is_train: False\n",
      "[TL] Conv2d hicGAN_g/n64s1/c2/1: n_filter: 64 filter_size: (3, 3) strides: (1, 1) pad: SAME act: No Activation\n",
      "[TL] BatchNormLayer hicGAN_g/n64s1/b2/1: decay: 0.900000 epsilon: 0.000010 act: No Activation is_train: False\n",
      "[TL] ElementwiseLayer hicGAN_g/b_residual_add/1: size: (?, ?, ?, 64) fn: add\n",
      "[TL] Conv2d hicGAN_g/n64s1/c1/2: n_filter: 64 filter_size: (3, 3) strides: (1, 1) pad: SAME act: No Activation\n",
      "[TL] BatchNormLayer hicGAN_g/n64s1/b1/2: decay: 0.900000 epsilon: 0.000010 act: relu is_train: False\n",
      "[TL] Conv2d hicGAN_g/n64s1/c2/2: n_filter: 64 filter_size: (3, 3) strides: (1, 1) pad: SAME act: No Activation\n",
      "[TL] BatchNormLayer hicGAN_g/n64s1/b2/2: decay: 0.900000 epsilon: 0.000010 act: No Activation is_train: False\n",
      "[TL] ElementwiseLayer hicGAN_g/b_residual_add/2: size: (?, ?, ?, 64) fn: add\n",
      "[TL] Conv2d hicGAN_g/n64s1/c/m: n_filter: 64 filter_size: (3, 3) strides: (1, 1) pad: SAME act: No Activation\n",
      "[TL] BatchNormLayer hicGAN_g/n64s1/b/m: decay: 0.900000 epsilon: 0.000010 act: No Activation is_train: False\n",
      "[TL] ElementwiseLayer hicGAN_g/add3: size: (?, ?, ?, 64) fn: add\n",
      "[TL] Conv2d hicGAN_g/n256s1/1: n_filter: 128 filter_size: (3, 3) strides: (1, 1) pad: SAME act: No Activation\n",
      "[TL] Conv2d hicGAN_g/out: n_filter: 1 filter_size: (1, 1) strides: (1, 1) pad: SAME act: tanh\n"
     ]
    }
   ],
   "source": [
    "t_image = tf.placeholder('float32', [None, None, None, 1], name='image_input')\n",
    "net_g = hicGAN_g(t_image, is_train=False, reuse=False)"
   ]
  },
  {
   "cell_type": "code",
   "execution_count": 33,
   "metadata": {
    "ExecuteTime": {
     "end_time": "2018-12-16T11:46:27.627783Z",
     "start_time": "2018-12-16T11:46:25.470459Z"
    }
   },
   "outputs": [
    {
     "name": "stdout",
     "output_type": "stream",
     "text": [
      "[TL] [*] Load ./checkpoint_v1.1/g_hicgan_400.npz SUCCESS!\n"
     ]
    },
    {
     "data": {
      "text/plain": [
       "<tensorlayer.layers.convolution.simplified_conv.Conv2d at 0x7f15e4105d90>"
      ]
     },
     "execution_count": 33,
     "metadata": {},
     "output_type": "execute_result"
    },
    {
     "data": {
      "text/plain": [
       "<matplotlib.image.AxesImage at 0x7f143071d490>"
      ]
     },
     "execution_count": 33,
     "metadata": {},
     "output_type": "execute_result"
    },
    {
     "data": {
      "text/plain": [
       "<matplotlib.colorbar.Colorbar at 0x7f14306e8290>"
      ]
     },
     "execution_count": 33,
     "metadata": {},
     "output_type": "execute_result"
    },
    {
     "data": {
      "image/png": "[encoded data removed]",
      "text/plain": [
       "<matplotlib.figure.Figure at 0x7f1440f99c90>"
      ]
     },
     "metadata": {},
     "output_type": "display_data"
    },
    {
     "data": {
      "text/plain": [
       "<matplotlib.image.AxesImage at 0x7f143066cbd0>"
      ]
     },
     "execution_count": 33,
     "metadata": {},
     "output_type": "execute_result"
    },
    {
     "data": {
      "text/plain": [
       "<matplotlib.colorbar.Colorbar at 0x7f14227fcad0>"
      ]
     },
     "execution_count": 33,
     "metadata": {},
     "output_type": "execute_result"
    },
    {
     "data": {
      "image/png": "[encoded data removed]",
      "text/plain": [
       "<matplotlib.figure.Figure at 0x7f143069d1d0>"
      ]
     },
     "metadata": {},
     "output_type": "display_data"
    },
    {
     "data": {
      "text/plain": [
       "<matplotlib.image.AxesImage at 0x7f1422701790>"
      ]
     },
     "execution_count": 33,
     "metadata": {},
     "output_type": "execute_result"
    },
    {
     "data": {
      "text/plain": [
       "<matplotlib.colorbar.Colorbar at 0x7f14226cf650>"
      ]
     },
     "execution_count": 33,
     "metadata": {},
     "output_type": "execute_result"
    },
    {
     "data": {
      "image/png": "[encoded data removed]",
      "text/plain": [
       "<matplotlib.figure.Figure at 0x7f14227af590>"
      ]
     },
     "metadata": {},
     "output_type": "display_data"
    }
   ],
   "source": [
    "sample_hr = hkl.load('test_sample_hr.hkl')\n",
    "sample_lr = hkl.load('test_sample_lr.hkl')\n",
    "sample_test_in = sample_lr[np.newaxis,:,np.newaxis]\n",
    "sample_test_in = sample_test_in.transpose((0,1,3,2))\n",
    "gan_idx = 400\n",
    "sess = tf.Session(config=tf.ConfigProto(allow_soft_placement=True, log_device_placement=False))\n",
    "tl.layers.initialize_global_variables(sess)\n",
    "tl.files.load_and_assign_npz(sess=sess, name='./checkpoint_v1.1/g_hicgan_%d.npz'%gan_idx, network=net_g)\n",
    "sample_test_out = sess.run(net_g.outputs, {t_image: sample_test_in})\n",
    "cmaps = ['Greys','Reds','YlOrBr','YlOrRd','hot']\n",
    "cmap = plt.get_cmap(cmaps[3])\n",
    "plt.imshow(sample_test_in[0,:,:,0],cmap=cmap)\n",
    "plt.grid(False)\n",
    "plt.colorbar()\n",
    "plt.show()\n",
    "plt.imshow(sample_test_out[0,:,:,0],cmap=cmap)\n",
    "plt.grid(False)\n",
    "plt.colorbar()\n",
    "plt.show()\n",
    "plt.imshow(sample_hr,cmap=cmap)\n",
    "plt.grid(False)\n",
    "plt.colorbar()\n",
    "plt.show()"
   ]
  },
  {
   "cell_type": "code",
   "execution_count": 43,
   "metadata": {
    "ExecuteTime": {
     "end_time": "2018-12-17T08:36:02.352915Z",
     "start_time": "2018-12-17T08:36:02.339450Z"
    }
   },
   "outputs": [],
   "source": [
    "def evaluate(gan_idx,batch=64):\n",
    "    sess = tf.Session(config=tf.ConfigProto(allow_soft_placement=True, log_device_placement=False))\n",
    "    tl.layers.initialize_global_variables(sess)\n",
    "    tl.files.load_and_assign_npz(sess=sess, name='./checkpoint_v1.1/g_hicgan_%d.npz'%gan_idx, network=net_g)\n",
    "    out = np.zeros(lr_mats_test.shape)\n",
    "    for i in range(out.shape[0]/batch):\n",
    "        out[batch*i:batch*(i+1)] = sess.run(net_g.outputs, {t_image: lr_mats_test[batch*i:batch*(i+1)]})\n",
    "    out[batch*(i+1):] = sess.run(net_g.outputs, {t_image: lr_mats_test[batch*(i+1):]})\n",
    "    return out\n"
   ]
  },
  {
   "cell_type": "code",
   "execution_count": 66,
   "metadata": {
    "ExecuteTime": {
     "end_time": "2018-12-17T08:51:34.250829Z",
     "start_time": "2018-12-17T08:51:34.004933Z"
    }
   },
   "outputs": [
    {
     "data": {
      "text/plain": [
       "5578"
      ]
     },
     "execution_count": 66,
     "metadata": {},
     "output_type": "execute_result"
    },
    {
     "data": {
      "text/plain": [
       "0.20295453475122527"
      ]
     },
     "execution_count": 66,
     "metadata": {},
     "output_type": "execute_result"
    },
    {
     "data": {
      "text/plain": [
       "0.21176355779840705"
      ]
     },
     "execution_count": 66,
     "metadata": {},
     "output_type": "execute_result"
    }
   ],
   "source": [
    "a=map(compare_mse,out[:,:,:,0],lr_mats_test[:,:,:,0])\n",
    "len(a)\n",
    "np.mean(a)\n",
    "np.median(a)"
   ]
  },
  {
   "cell_type": "code",
   "execution_count": 121,
   "metadata": {
    "ExecuteTime": {
     "end_time": "2018-12-17T20:38:50.395237Z",
     "start_time": "2018-12-17T15:08:56.694981Z"
    }
   },
   "outputs": [
    {
     "name": "stdout",
     "output_type": "stream",
     "text": [
      "0\n",
      "[TL] [*] Load ./checkpoint_v1.1/g_hicgan_0.npz SUCCESS!\n",
      "[TL] [*] Load ./checkpoint_v1.1/g_hicgan_5.npz SUCCESS!\n",
      "[TL] [*] Load ./checkpoint_v1.1/g_hicgan_10.npz SUCCESS!\n",
      "[TL] [*] Load ./checkpoint_v1.1/g_hicgan_15.npz SUCCESS!\n",
      "[TL] [*] Load ./checkpoint_v1.1/g_hicgan_20.npz SUCCESS!\n",
      "[TL] [*] Load ./checkpoint_v1.1/g_hicgan_25.npz SUCCESS!\n",
      "[TL] [*] Load ./checkpoint_v1.1/g_hicgan_30.npz SUCCESS!\n",
      "[TL] [*] Load ./checkpoint_v1.1/g_hicgan_35.npz SUCCESS!\n",
      "[TL] [*] Load ./checkpoint_v1.1/g_hicgan_40.npz SUCCESS!\n",
      "[TL] [*] Load ./checkpoint_v1.1/g_hicgan_45.npz SUCCESS!\n",
      "[TL] [*] Load ./checkpoint_v1.1/g_hicgan_50.npz SUCCESS!\n",
      "[TL] [*] Load ./checkpoint_v1.1/g_hicgan_55.npz SUCCESS!\n",
      "[TL] [*] Load ./checkpoint_v1.1/g_hicgan_60.npz SUCCESS!\n",
      "[TL] [*] Load ./checkpoint_v1.1/g_hicgan_65.npz SUCCESS!\n",
      "[TL] [*] Load ./checkpoint_v1.1/g_hicgan_70.npz SUCCESS!\n",
      "[TL] [*] Load ./checkpoint_v1.1/g_hicgan_75.npz SUCCESS!\n",
      "[TL] [*] Load ./checkpoint_v1.1/g_hicgan_80.npz SUCCESS!\n",
      "[TL] [*] Load ./checkpoint_v1.1/g_hicgan_85.npz SUCCESS!\n",
      "[TL] [*] Load ./checkpoint_v1.1/g_hicgan_90.npz SUCCESS!\n",
      "[TL] [*] Load ./checkpoint_v1.1/g_hicgan_95.npz SUCCESS!\n",
      "100\n",
      "[TL] [*] Load ./checkpoint_v1.1/g_hicgan_100.npz SUCCESS!\n",
      "[TL] [*] Load ./checkpoint_v1.1/g_hicgan_105.npz SUCCESS!\n",
      "[TL] [*] Load ./checkpoint_v1.1/g_hicgan_110.npz SUCCESS!\n",
      "[TL] [*] Load ./checkpoint_v1.1/g_hicgan_115.npz SUCCESS!\n",
      "[TL] [*] Load ./checkpoint_v1.1/g_hicgan_120.npz SUCCESS!\n",
      "[TL] [*] Load ./checkpoint_v1.1/g_hicgan_125.npz SUCCESS!\n",
      "[TL] [*] Load ./checkpoint_v1.1/g_hicgan_130.npz SUCCESS!\n",
      "[TL] [*] Load ./checkpoint_v1.1/g_hicgan_135.npz SUCCESS!\n",
      "[TL] [*] Load ./checkpoint_v1.1/g_hicgan_140.npz SUCCESS!\n",
      "[TL] [*] Load ./checkpoint_v1.1/g_hicgan_145.npz SUCCESS!\n",
      "[TL] [*] Load ./checkpoint_v1.1/g_hicgan_150.npz SUCCESS!\n",
      "[TL] [*] Load ./checkpoint_v1.1/g_hicgan_155.npz SUCCESS!\n",
      "[TL] [*] Load ./checkpoint_v1.1/g_hicgan_160.npz SUCCESS!\n",
      "[TL] [*] Load ./checkpoint_v1.1/g_hicgan_165.npz SUCCESS!\n",
      "[TL] [*] Load ./checkpoint_v1.1/g_hicgan_170.npz SUCCESS!\n",
      "[TL] [*] Load ./checkpoint_v1.1/g_hicgan_175.npz SUCCESS!\n",
      "[TL] [*] Load ./checkpoint_v1.1/g_hicgan_180.npz SUCCESS!\n",
      "[TL] [*] Load ./checkpoint_v1.1/g_hicgan_185.npz SUCCESS!\n",
      "[TL] [*] Load ./checkpoint_v1.1/g_hicgan_190.npz SUCCESS!\n",
      "[TL] [*] Load ./checkpoint_v1.1/g_hicgan_195.npz SUCCESS!\n",
      "200\n",
      "[TL] [*] Load ./checkpoint_v1.1/g_hicgan_200.npz SUCCESS!\n",
      "[TL] [*] Load ./checkpoint_v1.1/g_hicgan_205.npz SUCCESS!\n",
      "[TL] [*] Load ./checkpoint_v1.1/g_hicgan_210.npz SUCCESS!\n",
      "[TL] [*] Load ./checkpoint_v1.1/g_hicgan_215.npz SUCCESS!\n",
      "[TL] [*] Load ./checkpoint_v1.1/g_hicgan_220.npz SUCCESS!\n",
      "[TL] [*] Load ./checkpoint_v1.1/g_hicgan_225.npz SUCCESS!\n",
      "[TL] [*] Load ./checkpoint_v1.1/g_hicgan_230.npz SUCCESS!\n",
      "[TL] [*] Load ./checkpoint_v1.1/g_hicgan_235.npz SUCCESS!\n",
      "[TL] [*] Load ./checkpoint_v1.1/g_hicgan_240.npz SUCCESS!\n",
      "[TL] [*] Load ./checkpoint_v1.1/g_hicgan_245.npz SUCCESS!\n",
      "[TL] [*] Load ./checkpoint_v1.1/g_hicgan_250.npz SUCCESS!\n",
      "[TL] [*] Load ./checkpoint_v1.1/g_hicgan_255.npz SUCCESS!\n",
      "[TL] [*] Load ./checkpoint_v1.1/g_hicgan_260.npz SUCCESS!\n",
      "[TL] [*] Load ./checkpoint_v1.1/g_hicgan_265.npz SUCCESS!\n",
      "[TL] [*] Load ./checkpoint_v1.1/g_hicgan_270.npz SUCCESS!\n",
      "[TL] [*] Load ./checkpoint_v1.1/g_hicgan_275.npz SUCCESS!\n",
      "[TL] [*] Load ./checkpoint_v1.1/g_hicgan_280.npz SUCCESS!\n",
      "[TL] [*] Load ./checkpoint_v1.1/g_hicgan_285.npz SUCCESS!\n",
      "[TL] [*] Load ./checkpoint_v1.1/g_hicgan_290.npz SUCCESS!\n",
      "[TL] [*] Load ./checkpoint_v1.1/g_hicgan_295.npz SUCCESS!\n",
      "300\n",
      "[TL] [*] Load ./checkpoint_v1.1/g_hicgan_300.npz SUCCESS!\n",
      "[TL] [*] Load ./checkpoint_v1.1/g_hicgan_305.npz SUCCESS!\n",
      "[TL] [*] Load ./checkpoint_v1.1/g_hicgan_310.npz SUCCESS!\n",
      "[TL] [*] Load ./checkpoint_v1.1/g_hicgan_315.npz SUCCESS!\n",
      "[TL] [*] Load ./checkpoint_v1.1/g_hicgan_320.npz SUCCESS!\n",
      "[TL] [*] Load ./checkpoint_v1.1/g_hicgan_325.npz SUCCESS!\n",
      "[TL] [*] Load ./checkpoint_v1.1/g_hicgan_330.npz SUCCESS!\n",
      "[TL] [*] Load ./checkpoint_v1.1/g_hicgan_335.npz SUCCESS!\n",
      "[TL] [*] Load ./checkpoint_v1.1/g_hicgan_340.npz SUCCESS!\n",
      "[TL] [*] Load ./checkpoint_v1.1/g_hicgan_345.npz SUCCESS!\n",
      "[TL] [*] Load ./checkpoint_v1.1/g_hicgan_350.npz SUCCESS!\n",
      "[TL] [*] Load ./checkpoint_v1.1/g_hicgan_355.npz SUCCESS!\n",
      "[TL] [*] Load ./checkpoint_v1.1/g_hicgan_360.npz SUCCESS!\n",
      "[TL] [*] Load ./checkpoint_v1.1/g_hicgan_365.npz SUCCESS!\n",
      "[TL] [*] Load ./checkpoint_v1.1/g_hicgan_370.npz SUCCESS!\n",
      "[TL] [*] Load ./checkpoint_v1.1/g_hicgan_375.npz SUCCESS!\n",
      "[TL] [*] Load ./checkpoint_v1.1/g_hicgan_380.npz SUCCESS!\n",
      "[TL] [*] Load ./checkpoint_v1.1/g_hicgan_385.npz SUCCESS!\n",
      "[TL] [*] Load ./checkpoint_v1.1/g_hicgan_390.npz SUCCESS!\n",
      "[TL] [*] Load ./checkpoint_v1.1/g_hicgan_395.npz SUCCESS!\n",
      "400\n",
      "[TL] [*] Load ./checkpoint_v1.1/g_hicgan_400.npz SUCCESS!\n",
      "[TL] [*] Load ./checkpoint_v1.1/g_hicgan_405.npz SUCCESS!\n",
      "[TL] [*] Load ./checkpoint_v1.1/g_hicgan_410.npz SUCCESS!\n",
      "[TL] [*] Load ./checkpoint_v1.1/g_hicgan_415.npz SUCCESS!\n",
      "[TL] [*] Load ./checkpoint_v1.1/g_hicgan_420.npz SUCCESS!\n",
      "[TL] [*] Load ./checkpoint_v1.1/g_hicgan_425.npz SUCCESS!\n",
      "[TL] [*] Load ./checkpoint_v1.1/g_hicgan_430.npz SUCCESS!\n",
      "[TL] [*] Load ./checkpoint_v1.1/g_hicgan_435.npz SUCCESS!\n",
      "[TL] [*] Load ./checkpoint_v1.1/g_hicgan_440.npz SUCCESS!\n",
      "[TL] [*] Load ./checkpoint_v1.1/g_hicgan_445.npz SUCCESS!\n",
      "[TL] [*] Load ./checkpoint_v1.1/g_hicgan_450.npz SUCCESS!\n",
      "[TL] [*] Load ./checkpoint_v1.1/g_hicgan_455.npz SUCCESS!\n",
      "[TL] [*] Load ./checkpoint_v1.1/g_hicgan_460.npz SUCCESS!\n",
      "[TL] [*] Load ./checkpoint_v1.1/g_hicgan_465.npz SUCCESS!\n",
      "[TL] [*] Load ./checkpoint_v1.1/g_hicgan_470.npz SUCCESS!\n",
      "[TL] [*] Load ./checkpoint_v1.1/g_hicgan_475.npz SUCCESS!\n",
      "[TL] [*] Load ./checkpoint_v1.1/g_hicgan_480.npz SUCCESS!\n",
      "[TL] [*] Load ./checkpoint_v1.1/g_hicgan_485.npz SUCCESS!\n",
      "[TL] [*] Load ./checkpoint_v1.1/g_hicgan_490.npz SUCCESS!\n",
      "[TL] [*] Load ./checkpoint_v1.1/g_hicgan_495.npz SUCCESS!\n",
      "500\n",
      "[TL] [*] Load ./checkpoint_v1.1/g_hicgan_500.npz SUCCESS!\n",
      "[TL] [*] Load ./checkpoint_v1.1/g_hicgan_505.npz SUCCESS!\n",
      "[TL] [*] Load ./checkpoint_v1.1/g_hicgan_510.npz SUCCESS!\n",
      "[TL] [*] Load ./checkpoint_v1.1/g_hicgan_515.npz SUCCESS!\n",
      "[TL] [*] Load ./checkpoint_v1.1/g_hicgan_520.npz SUCCESS!\n",
      "[TL] [*] Load ./checkpoint_v1.1/g_hicgan_525.npz SUCCESS!\n",
      "[TL] [*] Load ./checkpoint_v1.1/g_hicgan_530.npz SUCCESS!\n",
      "[TL] [*] Load ./checkpoint_v1.1/g_hicgan_535.npz SUCCESS!\n",
      "[TL] [*] Load ./checkpoint_v1.1/g_hicgan_540.npz SUCCESS!\n",
      "[TL] [*] Load ./checkpoint_v1.1/g_hicgan_545.npz SUCCESS!\n",
      "[TL] [*] Load ./checkpoint_v1.1/g_hicgan_550.npz SUCCESS!\n",
      "[TL] [*] Load ./checkpoint_v1.1/g_hicgan_555.npz SUCCESS!\n",
      "[TL] [*] Load ./checkpoint_v1.1/g_hicgan_560.npz SUCCESS!\n",
      "[TL] [*] Load ./checkpoint_v1.1/g_hicgan_565.npz SUCCESS!\n",
      "[TL] [*] Load ./checkpoint_v1.1/g_hicgan_570.npz SUCCESS!\n",
      "[TL] [*] Load ./checkpoint_v1.1/g_hicgan_575.npz SUCCESS!\n",
      "[TL] [*] Load ./checkpoint_v1.1/g_hicgan_580.npz SUCCESS!\n",
      "[TL] [*] Load ./checkpoint_v1.1/g_hicgan_585.npz SUCCESS!\n",
      "[TL] [*] Load ./checkpoint_v1.1/g_hicgan_590.npz SUCCESS!\n",
      "[TL] [*] Load ./checkpoint_v1.1/g_hicgan_595.npz SUCCESS!\n",
      "600\n",
      "[TL] [*] Load ./checkpoint_v1.1/g_hicgan_600.npz SUCCESS!\n",
      "[TL] [*] Load ./checkpoint_v1.1/g_hicgan_605.npz SUCCESS!\n",
      "[TL] [*] Load ./checkpoint_v1.1/g_hicgan_610.npz SUCCESS!\n",
      "[TL] [*] Load ./checkpoint_v1.1/g_hicgan_615.npz SUCCESS!\n",
      "[TL] [*] Load ./checkpoint_v1.1/g_hicgan_620.npz SUCCESS!\n",
      "[TL] [*] Load ./checkpoint_v1.1/g_hicgan_625.npz SUCCESS!\n",
      "[TL] [*] Load ./checkpoint_v1.1/g_hicgan_630.npz SUCCESS!\n",
      "[TL] [*] Load ./checkpoint_v1.1/g_hicgan_635.npz SUCCESS!\n",
      "[TL] [*] Load ./checkpoint_v1.1/g_hicgan_640.npz SUCCESS!\n",
      "[TL] [*] Load ./checkpoint_v1.1/g_hicgan_645.npz SUCCESS!\n",
      "[TL] [*] Load ./checkpoint_v1.1/g_hicgan_650.npz SUCCESS!\n",
      "[TL] [*] Load ./checkpoint_v1.1/g_hicgan_655.npz SUCCESS!\n",
      "[TL] [*] Load ./checkpoint_v1.1/g_hicgan_660.npz SUCCESS!\n",
      "[TL] [*] Load ./checkpoint_v1.1/g_hicgan_665.npz SUCCESS!\n",
      "[TL] [*] Load ./checkpoint_v1.1/g_hicgan_670.npz SUCCESS!\n",
      "[TL] [*] Load ./checkpoint_v1.1/g_hicgan_675.npz SUCCESS!\n",
      "[TL] [*] Load ./checkpoint_v1.1/g_hicgan_680.npz SUCCESS!\n",
      "[TL] [*] Load ./checkpoint_v1.1/g_hicgan_685.npz SUCCESS!\n",
      "[TL] [*] Load ./checkpoint_v1.1/g_hicgan_690.npz SUCCESS!\n",
      "[TL] [*] Load ./checkpoint_v1.1/g_hicgan_695.npz SUCCESS!\n",
      "700\n",
      "[TL] [*] Load ./checkpoint_v1.1/g_hicgan_700.npz SUCCESS!\n",
      "[TL] [*] Load ./checkpoint_v1.1/g_hicgan_705.npz SUCCESS!\n"
     ]
    },
    {
     "name": "stdout",
     "output_type": "stream",
     "text": [
      "[TL] [*] Load ./checkpoint_v1.1/g_hicgan_710.npz SUCCESS!\n",
      "[TL] [*] Load ./checkpoint_v1.1/g_hicgan_715.npz SUCCESS!\n",
      "[TL] [*] Load ./checkpoint_v1.1/g_hicgan_720.npz SUCCESS!\n",
      "[TL] [*] Load ./checkpoint_v1.1/g_hicgan_725.npz SUCCESS!\n",
      "[TL] [*] Load ./checkpoint_v1.1/g_hicgan_730.npz SUCCESS!\n",
      "[TL] [*] Load ./checkpoint_v1.1/g_hicgan_735.npz SUCCESS!\n",
      "[TL] [*] Load ./checkpoint_v1.1/g_hicgan_740.npz SUCCESS!\n",
      "[TL] [*] Load ./checkpoint_v1.1/g_hicgan_745.npz SUCCESS!\n",
      "[TL] [*] Load ./checkpoint_v1.1/g_hicgan_750.npz SUCCESS!\n",
      "[TL] [*] Load ./checkpoint_v1.1/g_hicgan_755.npz SUCCESS!\n",
      "[TL] [*] Load ./checkpoint_v1.1/g_hicgan_760.npz SUCCESS!\n",
      "[TL] [*] Load ./checkpoint_v1.1/g_hicgan_765.npz SUCCESS!\n",
      "[TL] [*] Load ./checkpoint_v1.1/g_hicgan_770.npz SUCCESS!\n",
      "[TL] [*] Load ./checkpoint_v1.1/g_hicgan_775.npz SUCCESS!\n",
      "[TL] [*] Load ./checkpoint_v1.1/g_hicgan_780.npz SUCCESS!\n",
      "[TL] [*] Load ./checkpoint_v1.1/g_hicgan_785.npz SUCCESS!\n",
      "[TL] [*] Load ./checkpoint_v1.1/g_hicgan_790.npz SUCCESS!\n",
      "[TL] [*] Load ./checkpoint_v1.1/g_hicgan_795.npz SUCCESS!\n",
      "800\n",
      "[TL] [*] Load ./checkpoint_v1.1/g_hicgan_800.npz SUCCESS!\n",
      "[TL] [*] Load ./checkpoint_v1.1/g_hicgan_805.npz SUCCESS!\n",
      "[TL] [*] Load ./checkpoint_v1.1/g_hicgan_810.npz SUCCESS!\n",
      "[TL] [*] Load ./checkpoint_v1.1/g_hicgan_815.npz SUCCESS!\n",
      "[TL] [*] Load ./checkpoint_v1.1/g_hicgan_820.npz SUCCESS!\n",
      "[TL] [*] Load ./checkpoint_v1.1/g_hicgan_825.npz SUCCESS!\n",
      "[TL] [*] Load ./checkpoint_v1.1/g_hicgan_830.npz SUCCESS!\n",
      "[TL] [*] Load ./checkpoint_v1.1/g_hicgan_835.npz SUCCESS!\n",
      "[TL] [*] Load ./checkpoint_v1.1/g_hicgan_840.npz SUCCESS!\n",
      "[TL] [*] Load ./checkpoint_v1.1/g_hicgan_845.npz SUCCESS!\n",
      "[TL] [*] Load ./checkpoint_v1.1/g_hicgan_850.npz SUCCESS!\n",
      "[TL] [*] Load ./checkpoint_v1.1/g_hicgan_855.npz SUCCESS!\n",
      "[TL] [*] Load ./checkpoint_v1.1/g_hicgan_860.npz SUCCESS!\n",
      "[TL] [*] Load ./checkpoint_v1.1/g_hicgan_865.npz SUCCESS!\n",
      "[TL] [*] Load ./checkpoint_v1.1/g_hicgan_870.npz SUCCESS!\n",
      "[TL] [*] Load ./checkpoint_v1.1/g_hicgan_875.npz SUCCESS!\n",
      "[TL] [*] Load ./checkpoint_v1.1/g_hicgan_880.npz SUCCESS!\n",
      "[TL] [*] Load ./checkpoint_v1.1/g_hicgan_885.npz SUCCESS!\n",
      "[TL] [*] Load ./checkpoint_v1.1/g_hicgan_890.npz SUCCESS!\n",
      "[TL] [*] Load ./checkpoint_v1.1/g_hicgan_895.npz SUCCESS!\n",
      "900\n",
      "[TL] [*] Load ./checkpoint_v1.1/g_hicgan_900.npz SUCCESS!\n",
      "[TL] [*] Load ./checkpoint_v1.1/g_hicgan_905.npz SUCCESS!\n",
      "[TL] [*] Load ./checkpoint_v1.1/g_hicgan_910.npz SUCCESS!\n",
      "[TL] [*] Load ./checkpoint_v1.1/g_hicgan_915.npz SUCCESS!\n",
      "[TL] [*] Load ./checkpoint_v1.1/g_hicgan_920.npz SUCCESS!\n",
      "[TL] [*] Load ./checkpoint_v1.1/g_hicgan_925.npz SUCCESS!\n",
      "[TL] [*] Load ./checkpoint_v1.1/g_hicgan_930.npz SUCCESS!\n",
      "[TL] [*] Load ./checkpoint_v1.1/g_hicgan_935.npz SUCCESS!\n",
      "[TL] [*] Load ./checkpoint_v1.1/g_hicgan_940.npz SUCCESS!\n",
      "[TL] [*] Load ./checkpoint_v1.1/g_hicgan_945.npz SUCCESS!\n",
      "[TL] [*] Load ./checkpoint_v1.1/g_hicgan_950.npz SUCCESS!\n",
      "[TL] [*] Load ./checkpoint_v1.1/g_hicgan_955.npz SUCCESS!\n",
      "[TL] [*] Load ./checkpoint_v1.1/g_hicgan_960.npz SUCCESS!\n",
      "[TL] [*] Load ./checkpoint_v1.1/g_hicgan_965.npz SUCCESS!\n",
      "[TL] [*] Load ./checkpoint_v1.1/g_hicgan_970.npz SUCCESS!\n",
      "[TL] [*] Load ./checkpoint_v1.1/g_hicgan_975.npz SUCCESS!\n",
      "[TL] [*] Load ./checkpoint_v1.1/g_hicgan_980.npz SUCCESS!\n",
      "[TL] [*] Load ./checkpoint_v1.1/g_hicgan_985.npz SUCCESS!\n",
      "[TL] [*] Load ./checkpoint_v1.1/g_hicgan_990.npz SUCCESS!\n",
      "[TL] [*] Load ./checkpoint_v1.1/g_hicgan_995.npz SUCCESS!\n",
      "1000\n",
      "[TL] [*] Load ./checkpoint_v1.1/g_hicgan_1000.npz SUCCESS!\n",
      "[TL] [*] Load ./checkpoint_v1.1/g_hicgan_1005.npz SUCCESS!\n",
      "[TL] [*] Load ./checkpoint_v1.1/g_hicgan_1010.npz SUCCESS!\n",
      "[TL] [*] Load ./checkpoint_v1.1/g_hicgan_1015.npz SUCCESS!\n",
      "[TL] [*] Load ./checkpoint_v1.1/g_hicgan_1020.npz SUCCESS!\n",
      "[TL] [*] Load ./checkpoint_v1.1/g_hicgan_1025.npz SUCCESS!\n",
      "[TL] [*] Load ./checkpoint_v1.1/g_hicgan_1030.npz SUCCESS!\n",
      "[TL] [*] Load ./checkpoint_v1.1/g_hicgan_1035.npz SUCCESS!\n",
      "[TL] [*] Load ./checkpoint_v1.1/g_hicgan_1040.npz SUCCESS!\n",
      "[TL] [*] Load ./checkpoint_v1.1/g_hicgan_1045.npz SUCCESS!\n",
      "[TL] [*] Load ./checkpoint_v1.1/g_hicgan_1050.npz SUCCESS!\n",
      "[TL] [*] Load ./checkpoint_v1.1/g_hicgan_1055.npz SUCCESS!\n",
      "[TL] [*] Load ./checkpoint_v1.1/g_hicgan_1060.npz SUCCESS!\n",
      "[TL] [*] Load ./checkpoint_v1.1/g_hicgan_1065.npz SUCCESS!\n",
      "[TL] [*] Load ./checkpoint_v1.1/g_hicgan_1070.npz SUCCESS!\n",
      "[TL] [*] Load ./checkpoint_v1.1/g_hicgan_1075.npz SUCCESS!\n",
      "[TL] [*] Load ./checkpoint_v1.1/g_hicgan_1080.npz SUCCESS!\n",
      "[TL] [*] Load ./checkpoint_v1.1/g_hicgan_1085.npz SUCCESS!\n",
      "[TL] [*] Load ./checkpoint_v1.1/g_hicgan_1090.npz SUCCESS!\n",
      "[TL] [*] Load ./checkpoint_v1.1/g_hicgan_1095.npz SUCCESS!\n",
      "1100\n",
      "[TL] [*] Load ./checkpoint_v1.1/g_hicgan_1100.npz SUCCESS!\n",
      "[TL] [*] Load ./checkpoint_v1.1/g_hicgan_1105.npz SUCCESS!\n",
      "[TL] [*] Load ./checkpoint_v1.1/g_hicgan_1110.npz SUCCESS!\n",
      "[TL] [*] Load ./checkpoint_v1.1/g_hicgan_1115.npz SUCCESS!\n",
      "[TL] [*] Load ./checkpoint_v1.1/g_hicgan_1120.npz SUCCESS!\n",
      "[TL] [*] Load ./checkpoint_v1.1/g_hicgan_1125.npz SUCCESS!\n",
      "[TL] [*] Load ./checkpoint_v1.1/g_hicgan_1130.npz SUCCESS!\n",
      "[TL] [*] Load ./checkpoint_v1.1/g_hicgan_1135.npz SUCCESS!\n",
      "[TL] [*] Load ./checkpoint_v1.1/g_hicgan_1140.npz SUCCESS!\n",
      "[TL] [*] Load ./checkpoint_v1.1/g_hicgan_1145.npz SUCCESS!\n",
      "[TL] [*] Load ./checkpoint_v1.1/g_hicgan_1150.npz SUCCESS!\n",
      "[TL] [*] Load ./checkpoint_v1.1/g_hicgan_1155.npz SUCCESS!\n",
      "[TL] [*] Load ./checkpoint_v1.1/g_hicgan_1160.npz SUCCESS!\n",
      "[TL] [*] Load ./checkpoint_v1.1/g_hicgan_1165.npz SUCCESS!\n",
      "[TL] [*] Load ./checkpoint_v1.1/g_hicgan_1170.npz SUCCESS!\n",
      "[TL] [*] Load ./checkpoint_v1.1/g_hicgan_1175.npz SUCCESS!\n",
      "[TL] [*] Load ./checkpoint_v1.1/g_hicgan_1180.npz SUCCESS!\n",
      "[TL] [*] Load ./checkpoint_v1.1/g_hicgan_1185.npz SUCCESS!\n",
      "[TL] [*] Load ./checkpoint_v1.1/g_hicgan_1190.npz SUCCESS!\n",
      "[TL] [*] Load ./checkpoint_v1.1/g_hicgan_1195.npz SUCCESS!\n",
      "1200\n",
      "[TL] [*] Load ./checkpoint_v1.1/g_hicgan_1200.npz SUCCESS!\n",
      "[TL] [*] Load ./checkpoint_v1.1/g_hicgan_1205.npz SUCCESS!\n",
      "[TL] [*] Load ./checkpoint_v1.1/g_hicgan_1210.npz SUCCESS!\n",
      "[TL] [*] Load ./checkpoint_v1.1/g_hicgan_1215.npz SUCCESS!\n",
      "[TL] [*] Load ./checkpoint_v1.1/g_hicgan_1220.npz SUCCESS!\n",
      "[TL] [*] Load ./checkpoint_v1.1/g_hicgan_1225.npz SUCCESS!\n",
      "[TL] [*] Load ./checkpoint_v1.1/g_hicgan_1230.npz SUCCESS!\n",
      "[TL] [*] Load ./checkpoint_v1.1/g_hicgan_1235.npz SUCCESS!\n",
      "[TL] [*] Load ./checkpoint_v1.1/g_hicgan_1240.npz SUCCESS!\n",
      "[TL] [*] Load ./checkpoint_v1.1/g_hicgan_1245.npz SUCCESS!\n",
      "[TL] [*] Load ./checkpoint_v1.1/g_hicgan_1250.npz SUCCESS!\n",
      "[TL] [*] Load ./checkpoint_v1.1/g_hicgan_1255.npz SUCCESS!\n",
      "[TL] [*] Load ./checkpoint_v1.1/g_hicgan_1260.npz SUCCESS!\n",
      "[TL] [*] Load ./checkpoint_v1.1/g_hicgan_1265.npz SUCCESS!\n",
      "[TL] [*] Load ./checkpoint_v1.1/g_hicgan_1270.npz SUCCESS!\n",
      "[TL] [*] Load ./checkpoint_v1.1/g_hicgan_1275.npz SUCCESS!\n",
      "[TL] [*] Load ./checkpoint_v1.1/g_hicgan_1280.npz SUCCESS!\n",
      "[TL] [*] Load ./checkpoint_v1.1/g_hicgan_1285.npz SUCCESS!\n",
      "[TL] [*] Load ./checkpoint_v1.1/g_hicgan_1290.npz SUCCESS!\n",
      "[TL] [*] Load ./checkpoint_v1.1/g_hicgan_1295.npz SUCCESS!\n",
      "1300\n",
      "[TL] [*] Load ./checkpoint_v1.1/g_hicgan_1300.npz SUCCESS!\n",
      "[TL] [*] Load ./checkpoint_v1.1/g_hicgan_1305.npz SUCCESS!\n",
      "[TL] [*] Load ./checkpoint_v1.1/g_hicgan_1310.npz SUCCESS!\n",
      "[TL] [*] Load ./checkpoint_v1.1/g_hicgan_1315.npz SUCCESS!\n",
      "[TL] [*] Load ./checkpoint_v1.1/g_hicgan_1320.npz SUCCESS!\n",
      "[TL] [*] Load ./checkpoint_v1.1/g_hicgan_1325.npz SUCCESS!\n",
      "[TL] [*] Load ./checkpoint_v1.1/g_hicgan_1330.npz SUCCESS!\n",
      "[TL] [*] Load ./checkpoint_v1.1/g_hicgan_1335.npz SUCCESS!\n",
      "[TL] [*] Load ./checkpoint_v1.1/g_hicgan_1340.npz SUCCESS!\n",
      "[TL] [*] Load ./checkpoint_v1.1/g_hicgan_1345.npz SUCCESS!\n",
      "[TL] [*] Load ./checkpoint_v1.1/g_hicgan_1350.npz SUCCESS!\n",
      "[TL] [*] Load ./checkpoint_v1.1/g_hicgan_1355.npz SUCCESS!\n",
      "[TL] [*] Load ./checkpoint_v1.1/g_hicgan_1360.npz SUCCESS!\n",
      "[TL] [*] Load ./checkpoint_v1.1/g_hicgan_1365.npz SUCCESS!\n",
      "[TL] [*] Load ./checkpoint_v1.1/g_hicgan_1370.npz SUCCESS!\n",
      "[TL] [*] Load ./checkpoint_v1.1/g_hicgan_1375.npz SUCCESS!\n",
      "[TL] [*] Load ./checkpoint_v1.1/g_hicgan_1380.npz SUCCESS!\n",
      "[TL] [*] Load ./checkpoint_v1.1/g_hicgan_1385.npz SUCCESS!\n",
      "[TL] [*] Load ./checkpoint_v1.1/g_hicgan_1390.npz SUCCESS!\n",
      "[TL] [*] Load ./checkpoint_v1.1/g_hicgan_1395.npz SUCCESS!\n",
      "1400\n",
      "[TL] [*] Load ./checkpoint_v1.1/g_hicgan_1400.npz SUCCESS!\n",
      "[TL] [*] Load ./checkpoint_v1.1/g_hicgan_1405.npz SUCCESS!\n"
     ]
    },
    {
     "name": "stdout",
     "output_type": "stream",
     "text": [
      "[TL] [*] Load ./checkpoint_v1.1/g_hicgan_1410.npz SUCCESS!\n",
      "[TL] [*] Load ./checkpoint_v1.1/g_hicgan_1415.npz SUCCESS!\n",
      "[TL] [*] Load ./checkpoint_v1.1/g_hicgan_1420.npz SUCCESS!\n",
      "[TL] [*] Load ./checkpoint_v1.1/g_hicgan_1425.npz SUCCESS!\n",
      "[TL] [*] Load ./checkpoint_v1.1/g_hicgan_1430.npz SUCCESS!\n",
      "[TL] [*] Load ./checkpoint_v1.1/g_hicgan_1435.npz SUCCESS!\n",
      "[TL] [*] Load ./checkpoint_v1.1/g_hicgan_1440.npz SUCCESS!\n",
      "[TL] [*] Load ./checkpoint_v1.1/g_hicgan_1445.npz SUCCESS!\n",
      "[TL] [*] Load ./checkpoint_v1.1/g_hicgan_1450.npz SUCCESS!\n",
      "[TL] [*] Load ./checkpoint_v1.1/g_hicgan_1455.npz SUCCESS!\n",
      "[TL] [*] Load ./checkpoint_v1.1/g_hicgan_1460.npz SUCCESS!\n",
      "[TL] [*] Load ./checkpoint_v1.1/g_hicgan_1465.npz SUCCESS!\n",
      "[TL] [*] Load ./checkpoint_v1.1/g_hicgan_1470.npz SUCCESS!\n",
      "[TL] [*] Load ./checkpoint_v1.1/g_hicgan_1475.npz SUCCESS!\n",
      "[TL] [*] Load ./checkpoint_v1.1/g_hicgan_1480.npz SUCCESS!\n",
      "[TL] [*] Load ./checkpoint_v1.1/g_hicgan_1485.npz SUCCESS!\n",
      "[TL] [*] Load ./checkpoint_v1.1/g_hicgan_1490.npz SUCCESS!\n",
      "[TL] [*] Load ./checkpoint_v1.1/g_hicgan_1495.npz SUCCESS!\n",
      "1500\n",
      "[TL] [*] Load ./checkpoint_v1.1/g_hicgan_1500.npz SUCCESS!\n",
      "[TL] [*] Load ./checkpoint_v1.1/g_hicgan_1505.npz SUCCESS!\n",
      "[TL] [*] Load ./checkpoint_v1.1/g_hicgan_1510.npz SUCCESS!\n",
      "[TL] [*] Load ./checkpoint_v1.1/g_hicgan_1515.npz SUCCESS!\n",
      "[TL] [*] Load ./checkpoint_v1.1/g_hicgan_1520.npz SUCCESS!\n",
      "[TL] [*] Load ./checkpoint_v1.1/g_hicgan_1525.npz SUCCESS!\n",
      "[TL] [*] Load ./checkpoint_v1.1/g_hicgan_1530.npz SUCCESS!\n",
      "[TL] [*] Load ./checkpoint_v1.1/g_hicgan_1535.npz SUCCESS!\n",
      "[TL] [*] Load ./checkpoint_v1.1/g_hicgan_1540.npz SUCCESS!\n",
      "[TL] [*] Load ./checkpoint_v1.1/g_hicgan_1545.npz SUCCESS!\n",
      "[TL] [*] Load ./checkpoint_v1.1/g_hicgan_1550.npz SUCCESS!\n",
      "[TL] [*] Load ./checkpoint_v1.1/g_hicgan_1555.npz SUCCESS!\n",
      "[TL] [*] Load ./checkpoint_v1.1/g_hicgan_1560.npz SUCCESS!\n",
      "[TL] [*] Load ./checkpoint_v1.1/g_hicgan_1565.npz SUCCESS!\n",
      "[TL] [*] Load ./checkpoint_v1.1/g_hicgan_1570.npz SUCCESS!\n",
      "[TL] [*] Load ./checkpoint_v1.1/g_hicgan_1575.npz SUCCESS!\n",
      "[TL] [*] Load ./checkpoint_v1.1/g_hicgan_1580.npz SUCCESS!\n",
      "[TL] [*] Load ./checkpoint_v1.1/g_hicgan_1585.npz SUCCESS!\n",
      "[TL] [*] Load ./checkpoint_v1.1/g_hicgan_1590.npz SUCCESS!\n",
      "[TL] [*] Load ./checkpoint_v1.1/g_hicgan_1595.npz SUCCESS!\n",
      "1600\n",
      "[TL] [*] Load ./checkpoint_v1.1/g_hicgan_1600.npz SUCCESS!\n",
      "[TL] [*] Load ./checkpoint_v1.1/g_hicgan_1605.npz SUCCESS!\n",
      "[TL] [*] Load ./checkpoint_v1.1/g_hicgan_1610.npz SUCCESS!\n",
      "[TL] [*] Load ./checkpoint_v1.1/g_hicgan_1615.npz SUCCESS!\n",
      "[TL] [*] Load ./checkpoint_v1.1/g_hicgan_1620.npz SUCCESS!\n",
      "[TL] [*] Load ./checkpoint_v1.1/g_hicgan_1625.npz SUCCESS!\n",
      "[TL] [*] Load ./checkpoint_v1.1/g_hicgan_1630.npz SUCCESS!\n",
      "[TL] [*] Load ./checkpoint_v1.1/g_hicgan_1635.npz SUCCESS!\n",
      "[TL] [*] Load ./checkpoint_v1.1/g_hicgan_1640.npz SUCCESS!\n",
      "[TL] [*] Load ./checkpoint_v1.1/g_hicgan_1645.npz SUCCESS!\n",
      "[TL] [*] Load ./checkpoint_v1.1/g_hicgan_1650.npz SUCCESS!\n",
      "[TL] [*] Load ./checkpoint_v1.1/g_hicgan_1655.npz SUCCESS!\n",
      "[TL] [*] Load ./checkpoint_v1.1/g_hicgan_1660.npz SUCCESS!\n",
      "[TL] [*] Load ./checkpoint_v1.1/g_hicgan_1665.npz SUCCESS!\n",
      "[TL] [*] Load ./checkpoint_v1.1/g_hicgan_1670.npz SUCCESS!\n",
      "[TL] [*] Load ./checkpoint_v1.1/g_hicgan_1675.npz SUCCESS!\n",
      "[TL] [*] Load ./checkpoint_v1.1/g_hicgan_1680.npz SUCCESS!\n",
      "[TL] [*] Load ./checkpoint_v1.1/g_hicgan_1685.npz SUCCESS!\n",
      "[TL] [*] Load ./checkpoint_v1.1/g_hicgan_1690.npz SUCCESS!\n",
      "[TL] [*] Load ./checkpoint_v1.1/g_hicgan_1695.npz SUCCESS!\n",
      "1700\n",
      "[TL] [*] Load ./checkpoint_v1.1/g_hicgan_1700.npz SUCCESS!\n",
      "[TL] [*] Load ./checkpoint_v1.1/g_hicgan_1705.npz SUCCESS!\n",
      "[TL] [*] Load ./checkpoint_v1.1/g_hicgan_1710.npz SUCCESS!\n",
      "[TL] [*] Load ./checkpoint_v1.1/g_hicgan_1715.npz SUCCESS!\n",
      "[TL] [*] Load ./checkpoint_v1.1/g_hicgan_1720.npz SUCCESS!\n",
      "[TL] [*] Load ./checkpoint_v1.1/g_hicgan_1725.npz SUCCESS!\n",
      "[TL] [*] Load ./checkpoint_v1.1/g_hicgan_1730.npz SUCCESS!\n",
      "[TL] [*] Load ./checkpoint_v1.1/g_hicgan_1735.npz SUCCESS!\n",
      "[TL] [*] Load ./checkpoint_v1.1/g_hicgan_1740.npz SUCCESS!\n",
      "[TL] [*] Load ./checkpoint_v1.1/g_hicgan_1745.npz SUCCESS!\n",
      "[TL] [*] Load ./checkpoint_v1.1/g_hicgan_1750.npz SUCCESS!\n",
      "[TL] [*] Load ./checkpoint_v1.1/g_hicgan_1755.npz SUCCESS!\n",
      "[TL] [*] Load ./checkpoint_v1.1/g_hicgan_1760.npz SUCCESS!\n",
      "[TL] [*] Load ./checkpoint_v1.1/g_hicgan_1765.npz SUCCESS!\n",
      "[TL] [*] Load ./checkpoint_v1.1/g_hicgan_1770.npz SUCCESS!\n",
      "[TL] [*] Load ./checkpoint_v1.1/g_hicgan_1775.npz SUCCESS!\n",
      "[TL] [*] Load ./checkpoint_v1.1/g_hicgan_1780.npz SUCCESS!\n",
      "[TL] [*] Load ./checkpoint_v1.1/g_hicgan_1785.npz SUCCESS!\n",
      "[TL] [*] Load ./checkpoint_v1.1/g_hicgan_1790.npz SUCCESS!\n",
      "[TL] [*] Load ./checkpoint_v1.1/g_hicgan_1795.npz SUCCESS!\n",
      "1800\n",
      "[TL] [*] Load ./checkpoint_v1.1/g_hicgan_1800.npz SUCCESS!\n",
      "[TL] [*] Load ./checkpoint_v1.1/g_hicgan_1805.npz SUCCESS!\n",
      "[TL] [*] Load ./checkpoint_v1.1/g_hicgan_1810.npz SUCCESS!\n",
      "[TL] [*] Load ./checkpoint_v1.1/g_hicgan_1815.npz SUCCESS!\n",
      "[TL] [*] Load ./checkpoint_v1.1/g_hicgan_1820.npz SUCCESS!\n",
      "[TL] [*] Load ./checkpoint_v1.1/g_hicgan_1825.npz SUCCESS!\n",
      "[TL] [*] Load ./checkpoint_v1.1/g_hicgan_1830.npz SUCCESS!\n",
      "[TL] [*] Load ./checkpoint_v1.1/g_hicgan_1835.npz SUCCESS!\n",
      "[TL] [*] Load ./checkpoint_v1.1/g_hicgan_1840.npz SUCCESS!\n",
      "[TL] [*] Load ./checkpoint_v1.1/g_hicgan_1845.npz SUCCESS!\n",
      "[TL] [*] Load ./checkpoint_v1.1/g_hicgan_1850.npz SUCCESS!\n",
      "[TL] [*] Load ./checkpoint_v1.1/g_hicgan_1855.npz SUCCESS!\n",
      "[TL] [*] Load ./checkpoint_v1.1/g_hicgan_1860.npz SUCCESS!\n",
      "[TL] [*] Load ./checkpoint_v1.1/g_hicgan_1865.npz SUCCESS!\n",
      "[TL] [*] Load ./checkpoint_v1.1/g_hicgan_1870.npz SUCCESS!\n",
      "[TL] [*] Load ./checkpoint_v1.1/g_hicgan_1875.npz SUCCESS!\n",
      "[TL] [*] Load ./checkpoint_v1.1/g_hicgan_1880.npz SUCCESS!\n",
      "[TL] [*] Load ./checkpoint_v1.1/g_hicgan_1885.npz SUCCESS!\n",
      "[TL] [*] Load ./checkpoint_v1.1/g_hicgan_1890.npz SUCCESS!\n",
      "[TL] [*] Load ./checkpoint_v1.1/g_hicgan_1895.npz SUCCESS!\n",
      "1900\n",
      "[TL] [*] Load ./checkpoint_v1.1/g_hicgan_1900.npz SUCCESS!\n",
      "[TL] [*] Load ./checkpoint_v1.1/g_hicgan_1905.npz SUCCESS!\n",
      "[TL] [*] Load ./checkpoint_v1.1/g_hicgan_1910.npz SUCCESS!\n",
      "[TL] [*] Load ./checkpoint_v1.1/g_hicgan_1915.npz SUCCESS!\n",
      "[TL] [*] Load ./checkpoint_v1.1/g_hicgan_1920.npz SUCCESS!\n",
      "[TL] [*] Load ./checkpoint_v1.1/g_hicgan_1925.npz SUCCESS!\n",
      "[TL] [*] Load ./checkpoint_v1.1/g_hicgan_1930.npz SUCCESS!\n",
      "[TL] [*] Load ./checkpoint_v1.1/g_hicgan_1935.npz SUCCESS!\n",
      "[TL] [*] Load ./checkpoint_v1.1/g_hicgan_1940.npz SUCCESS!\n",
      "[TL] [*] Load ./checkpoint_v1.1/g_hicgan_1945.npz SUCCESS!\n",
      "[TL] [*] Load ./checkpoint_v1.1/g_hicgan_1950.npz SUCCESS!\n",
      "[TL] [*] Load ./checkpoint_v1.1/g_hicgan_1955.npz SUCCESS!\n",
      "[TL] [*] Load ./checkpoint_v1.1/g_hicgan_1960.npz SUCCESS!\n",
      "[TL] [*] Load ./checkpoint_v1.1/g_hicgan_1965.npz SUCCESS!\n",
      "[TL] [*] Load ./checkpoint_v1.1/g_hicgan_1970.npz SUCCESS!\n",
      "[TL] [*] Load ./checkpoint_v1.1/g_hicgan_1975.npz SUCCESS!\n",
      "[TL] [*] Load ./checkpoint_v1.1/g_hicgan_1980.npz SUCCESS!\n",
      "[TL] [*] Load ./checkpoint_v1.1/g_hicgan_1985.npz SUCCESS!\n",
      "[TL] [*] Load ./checkpoint_v1.1/g_hicgan_1990.npz SUCCESS!\n",
      "[TL] [*] Load ./checkpoint_v1.1/g_hicgan_1995.npz SUCCESS!\n",
      "2000\n",
      "[TL] [*] Load ./checkpoint_v1.1/g_hicgan_2000.npz SUCCESS!\n",
      "[TL] [*] Load ./checkpoint_v1.1/g_hicgan_2005.npz SUCCESS!\n",
      "[TL] [*] Load ./checkpoint_v1.1/g_hicgan_2010.npz SUCCESS!\n",
      "[TL] [*] Load ./checkpoint_v1.1/g_hicgan_2015.npz SUCCESS!\n",
      "[TL] [*] Load ./checkpoint_v1.1/g_hicgan_2020.npz SUCCESS!\n",
      "[TL] [*] Load ./checkpoint_v1.1/g_hicgan_2025.npz SUCCESS!\n",
      "[TL] [*] Load ./checkpoint_v1.1/g_hicgan_2030.npz SUCCESS!\n",
      "[TL] [*] Load ./checkpoint_v1.1/g_hicgan_2035.npz SUCCESS!\n",
      "[TL] [*] Load ./checkpoint_v1.1/g_hicgan_2040.npz SUCCESS!\n",
      "[TL] [*] Load ./checkpoint_v1.1/g_hicgan_2045.npz SUCCESS!\n",
      "[TL] [*] Load ./checkpoint_v1.1/g_hicgan_2050.npz SUCCESS!\n",
      "[TL] [*] Load ./checkpoint_v1.1/g_hicgan_2055.npz SUCCESS!\n",
      "[TL] [*] Load ./checkpoint_v1.1/g_hicgan_2060.npz SUCCESS!\n",
      "[TL] [*] Load ./checkpoint_v1.1/g_hicgan_2065.npz SUCCESS!\n",
      "[TL] [*] Load ./checkpoint_v1.1/g_hicgan_2070.npz SUCCESS!\n",
      "[TL] [*] Load ./checkpoint_v1.1/g_hicgan_2075.npz SUCCESS!\n",
      "[TL] [*] Load ./checkpoint_v1.1/g_hicgan_2080.npz SUCCESS!\n",
      "[TL] [*] Load ./checkpoint_v1.1/g_hicgan_2085.npz SUCCESS!\n",
      "[TL] [*] Load ./checkpoint_v1.1/g_hicgan_2090.npz SUCCESS!\n",
      "[TL] [*] Load ./checkpoint_v1.1/g_hicgan_2095.npz SUCCESS!\n",
      "2100\n",
      "[TL] [*] Load ./checkpoint_v1.1/g_hicgan_2100.npz SUCCESS!\n"
     ]
    },
    {
     "name": "stdout",
     "output_type": "stream",
     "text": [
      "[TL] [*] Load ./checkpoint_v1.1/g_hicgan_2105.npz SUCCESS!\n",
      "[TL] [*] Load ./checkpoint_v1.1/g_hicgan_2110.npz SUCCESS!\n",
      "[TL] [*] Load ./checkpoint_v1.1/g_hicgan_2115.npz SUCCESS!\n",
      "[TL] [*] Load ./checkpoint_v1.1/g_hicgan_2120.npz SUCCESS!\n",
      "[TL] [*] Load ./checkpoint_v1.1/g_hicgan_2125.npz SUCCESS!\n",
      "[TL] [*] Load ./checkpoint_v1.1/g_hicgan_2130.npz SUCCESS!\n",
      "[TL] [*] Load ./checkpoint_v1.1/g_hicgan_2135.npz SUCCESS!\n",
      "[TL] [*] Load ./checkpoint_v1.1/g_hicgan_2140.npz SUCCESS!\n",
      "[TL] [*] Load ./checkpoint_v1.1/g_hicgan_2145.npz SUCCESS!\n",
      "[TL] [*] Load ./checkpoint_v1.1/g_hicgan_2150.npz SUCCESS!\n",
      "[TL] [*] Load ./checkpoint_v1.1/g_hicgan_2155.npz SUCCESS!\n",
      "[TL] [*] Load ./checkpoint_v1.1/g_hicgan_2160.npz SUCCESS!\n",
      "[TL] [*] Load ./checkpoint_v1.1/g_hicgan_2165.npz SUCCESS!\n",
      "[TL] [*] Load ./checkpoint_v1.1/g_hicgan_2170.npz SUCCESS!\n",
      "[TL] [*] Load ./checkpoint_v1.1/g_hicgan_2175.npz SUCCESS!\n",
      "[TL] [*] Load ./checkpoint_v1.1/g_hicgan_2180.npz SUCCESS!\n",
      "[TL] [*] Load ./checkpoint_v1.1/g_hicgan_2185.npz SUCCESS!\n",
      "[TL] [*] Load ./checkpoint_v1.1/g_hicgan_2190.npz SUCCESS!\n",
      "[TL] [*] Load ./checkpoint_v1.1/g_hicgan_2195.npz SUCCESS!\n",
      "2200\n",
      "[TL] [*] Load ./checkpoint_v1.1/g_hicgan_2200.npz SUCCESS!\n",
      "[TL] [*] Load ./checkpoint_v1.1/g_hicgan_2205.npz SUCCESS!\n",
      "[TL] [*] Load ./checkpoint_v1.1/g_hicgan_2210.npz SUCCESS!\n",
      "[TL] [*] Load ./checkpoint_v1.1/g_hicgan_2215.npz SUCCESS!\n",
      "[TL] [*] Load ./checkpoint_v1.1/g_hicgan_2220.npz SUCCESS!\n",
      "[TL] [*] Load ./checkpoint_v1.1/g_hicgan_2225.npz SUCCESS!\n",
      "[TL] [*] Load ./checkpoint_v1.1/g_hicgan_2230.npz SUCCESS!\n",
      "[TL] [*] Load ./checkpoint_v1.1/g_hicgan_2235.npz SUCCESS!\n",
      "[TL] [*] Load ./checkpoint_v1.1/g_hicgan_2240.npz SUCCESS!\n",
      "[TL] [*] Load ./checkpoint_v1.1/g_hicgan_2245.npz SUCCESS!\n",
      "[TL] [*] Load ./checkpoint_v1.1/g_hicgan_2250.npz SUCCESS!\n",
      "[TL] [*] Load ./checkpoint_v1.1/g_hicgan_2255.npz SUCCESS!\n",
      "[TL] [*] Load ./checkpoint_v1.1/g_hicgan_2260.npz SUCCESS!\n",
      "[TL] [*] Load ./checkpoint_v1.1/g_hicgan_2265.npz SUCCESS!\n",
      "[TL] [*] Load ./checkpoint_v1.1/g_hicgan_2270.npz SUCCESS!\n",
      "[TL] [*] Load ./checkpoint_v1.1/g_hicgan_2275.npz SUCCESS!\n",
      "[TL] [*] Load ./checkpoint_v1.1/g_hicgan_2280.npz SUCCESS!\n",
      "[TL] [*] Load ./checkpoint_v1.1/g_hicgan_2285.npz SUCCESS!\n",
      "[TL] [*] Load ./checkpoint_v1.1/g_hicgan_2290.npz SUCCESS!\n",
      "[TL] [*] Load ./checkpoint_v1.1/g_hicgan_2295.npz SUCCESS!\n",
      "2300\n",
      "[TL] [*] Load ./checkpoint_v1.1/g_hicgan_2300.npz SUCCESS!\n",
      "[TL] [*] Load ./checkpoint_v1.1/g_hicgan_2305.npz SUCCESS!\n",
      "[TL] [*] Load ./checkpoint_v1.1/g_hicgan_2310.npz SUCCESS!\n",
      "[TL] [*] Load ./checkpoint_v1.1/g_hicgan_2315.npz SUCCESS!\n",
      "[TL] [*] Load ./checkpoint_v1.1/g_hicgan_2320.npz SUCCESS!\n",
      "[TL] [*] Load ./checkpoint_v1.1/g_hicgan_2325.npz SUCCESS!\n",
      "[TL] [*] Load ./checkpoint_v1.1/g_hicgan_2330.npz SUCCESS!\n",
      "[TL] [*] Load ./checkpoint_v1.1/g_hicgan_2335.npz SUCCESS!\n",
      "[TL] [*] Load ./checkpoint_v1.1/g_hicgan_2340.npz SUCCESS!\n",
      "[TL] [*] Load ./checkpoint_v1.1/g_hicgan_2345.npz SUCCESS!\n",
      "[TL] [*] Load ./checkpoint_v1.1/g_hicgan_2350.npz SUCCESS!\n",
      "[TL] [*] Load ./checkpoint_v1.1/g_hicgan_2355.npz SUCCESS!\n",
      "[TL] [*] Load ./checkpoint_v1.1/g_hicgan_2360.npz SUCCESS!\n",
      "[TL] [*] Load ./checkpoint_v1.1/g_hicgan_2365.npz SUCCESS!\n",
      "[TL] [*] Load ./checkpoint_v1.1/g_hicgan_2370.npz SUCCESS!\n",
      "[TL] [*] Load ./checkpoint_v1.1/g_hicgan_2375.npz SUCCESS!\n",
      "[TL] [*] Load ./checkpoint_v1.1/g_hicgan_2380.npz SUCCESS!\n",
      "[TL] [*] Load ./checkpoint_v1.1/g_hicgan_2385.npz SUCCESS!\n",
      "[TL] [*] Load ./checkpoint_v1.1/g_hicgan_2390.npz SUCCESS!\n",
      "[TL] [*] Load ./checkpoint_v1.1/g_hicgan_2395.npz SUCCESS!\n",
      "2400\n",
      "[TL] [*] Load ./checkpoint_v1.1/g_hicgan_2400.npz SUCCESS!\n",
      "[TL] [*] Load ./checkpoint_v1.1/g_hicgan_2405.npz SUCCESS!\n",
      "[TL] [*] Load ./checkpoint_v1.1/g_hicgan_2410.npz SUCCESS!\n",
      "[TL] [*] Load ./checkpoint_v1.1/g_hicgan_2415.npz SUCCESS!\n",
      "[TL] [*] Load ./checkpoint_v1.1/g_hicgan_2420.npz SUCCESS!\n",
      "[TL] [*] Load ./checkpoint_v1.1/g_hicgan_2425.npz SUCCESS!\n",
      "[TL] [*] Load ./checkpoint_v1.1/g_hicgan_2430.npz SUCCESS!\n",
      "[TL] [*] Load ./checkpoint_v1.1/g_hicgan_2435.npz SUCCESS!\n",
      "[TL] [*] Load ./checkpoint_v1.1/g_hicgan_2440.npz SUCCESS!\n",
      "[TL] [*] Load ./checkpoint_v1.1/g_hicgan_2445.npz SUCCESS!\n",
      "[TL] [*] Load ./checkpoint_v1.1/g_hicgan_2450.npz SUCCESS!\n",
      "[TL] [*] Load ./checkpoint_v1.1/g_hicgan_2455.npz SUCCESS!\n",
      "[TL] [*] Load ./checkpoint_v1.1/g_hicgan_2460.npz SUCCESS!\n",
      "[TL] [*] Load ./checkpoint_v1.1/g_hicgan_2465.npz SUCCESS!\n",
      "[TL] [*] Load ./checkpoint_v1.1/g_hicgan_2470.npz SUCCESS!\n",
      "[TL] [*] Load ./checkpoint_v1.1/g_hicgan_2475.npz SUCCESS!\n",
      "[TL] [*] Load ./checkpoint_v1.1/g_hicgan_2480.npz SUCCESS!\n",
      "[TL] [*] Load ./checkpoint_v1.1/g_hicgan_2485.npz SUCCESS!\n",
      "[TL] [*] Load ./checkpoint_v1.1/g_hicgan_2490.npz SUCCESS!\n",
      "[TL] [*] Load ./checkpoint_v1.1/g_hicgan_2495.npz SUCCESS!\n",
      "2500\n",
      "[TL] [*] Load ./checkpoint_v1.1/g_hicgan_2500.npz SUCCESS!\n",
      "[TL] [*] Load ./checkpoint_v1.1/g_hicgan_2505.npz SUCCESS!\n",
      "[TL] [*] Load ./checkpoint_v1.1/g_hicgan_2510.npz SUCCESS!\n",
      "[TL] [*] Load ./checkpoint_v1.1/g_hicgan_2515.npz SUCCESS!\n",
      "[TL] [*] Load ./checkpoint_v1.1/g_hicgan_2520.npz SUCCESS!\n",
      "[TL] [*] Load ./checkpoint_v1.1/g_hicgan_2525.npz SUCCESS!\n",
      "[TL] [*] Load ./checkpoint_v1.1/g_hicgan_2530.npz SUCCESS!\n",
      "[TL] [*] Load ./checkpoint_v1.1/g_hicgan_2535.npz SUCCESS!\n",
      "[TL] [*] Load ./checkpoint_v1.1/g_hicgan_2540.npz SUCCESS!\n",
      "[TL] [*] Load ./checkpoint_v1.1/g_hicgan_2545.npz SUCCESS!\n",
      "[TL] [*] Load ./checkpoint_v1.1/g_hicgan_2550.npz SUCCESS!\n",
      "[TL] [*] Load ./checkpoint_v1.1/g_hicgan_2555.npz SUCCESS!\n",
      "[TL] [*] Load ./checkpoint_v1.1/g_hicgan_2560.npz SUCCESS!\n",
      "[TL] [*] Load ./checkpoint_v1.1/g_hicgan_2565.npz SUCCESS!\n",
      "[TL] [*] Load ./checkpoint_v1.1/g_hicgan_2570.npz SUCCESS!\n",
      "[TL] [*] Load ./checkpoint_v1.1/g_hicgan_2575.npz SUCCESS!\n",
      "[TL] [*] Load ./checkpoint_v1.1/g_hicgan_2580.npz SUCCESS!\n",
      "[TL] [*] Load ./checkpoint_v1.1/g_hicgan_2585.npz SUCCESS!\n",
      "[TL] [*] Load ./checkpoint_v1.1/g_hicgan_2590.npz SUCCESS!\n",
      "[TL] [*] Load ./checkpoint_v1.1/g_hicgan_2595.npz SUCCESS!\n",
      "2600\n",
      "[TL] [*] Load ./checkpoint_v1.1/g_hicgan_2600.npz SUCCESS!\n",
      "[TL] [*] Load ./checkpoint_v1.1/g_hicgan_2605.npz SUCCESS!\n",
      "[TL] [*] Load ./checkpoint_v1.1/g_hicgan_2610.npz SUCCESS!\n",
      "[TL] [*] Load ./checkpoint_v1.1/g_hicgan_2615.npz SUCCESS!\n",
      "[TL] [*] Load ./checkpoint_v1.1/g_hicgan_2620.npz SUCCESS!\n",
      "[TL] [*] Load ./checkpoint_v1.1/g_hicgan_2625.npz SUCCESS!\n",
      "[TL] [*] Load ./checkpoint_v1.1/g_hicgan_2630.npz SUCCESS!\n",
      "[TL] [*] Load ./checkpoint_v1.1/g_hicgan_2635.npz SUCCESS!\n",
      "[TL] [*] Load ./checkpoint_v1.1/g_hicgan_2640.npz SUCCESS!\n",
      "[TL] [*] Load ./checkpoint_v1.1/g_hicgan_2645.npz SUCCESS!\n",
      "[TL] [*] Load ./checkpoint_v1.1/g_hicgan_2650.npz SUCCESS!\n",
      "[TL] [*] Load ./checkpoint_v1.1/g_hicgan_2655.npz SUCCESS!\n",
      "[TL] [*] Load ./checkpoint_v1.1/g_hicgan_2660.npz SUCCESS!\n",
      "[TL] [*] Load ./checkpoint_v1.1/g_hicgan_2665.npz SUCCESS!\n",
      "[TL] [*] Load ./checkpoint_v1.1/g_hicgan_2670.npz SUCCESS!\n",
      "[TL] [*] Load ./checkpoint_v1.1/g_hicgan_2675.npz SUCCESS!\n",
      "[TL] [*] Load ./checkpoint_v1.1/g_hicgan_2680.npz SUCCESS!\n",
      "[TL] [*] Load ./checkpoint_v1.1/g_hicgan_2685.npz SUCCESS!\n",
      "[TL] [*] Load ./checkpoint_v1.1/g_hicgan_2690.npz SUCCESS!\n",
      "[TL] [*] Load ./checkpoint_v1.1/g_hicgan_2695.npz SUCCESS!\n",
      "2700\n",
      "[TL] [*] Load ./checkpoint_v1.1/g_hicgan_2700.npz SUCCESS!\n",
      "[TL] [*] Load ./checkpoint_v1.1/g_hicgan_2705.npz SUCCESS!\n",
      "[TL] [*] Load ./checkpoint_v1.1/g_hicgan_2710.npz SUCCESS!\n",
      "[TL] [*] Load ./checkpoint_v1.1/g_hicgan_2715.npz SUCCESS!\n",
      "[TL] [*] Load ./checkpoint_v1.1/g_hicgan_2720.npz SUCCESS!\n",
      "[TL] [*] Load ./checkpoint_v1.1/g_hicgan_2725.npz SUCCESS!\n",
      "[TL] [*] Load ./checkpoint_v1.1/g_hicgan_2730.npz SUCCESS!\n",
      "[TL] [*] Load ./checkpoint_v1.1/g_hicgan_2735.npz SUCCESS!\n",
      "[TL] [*] Load ./checkpoint_v1.1/g_hicgan_2740.npz SUCCESS!\n",
      "[TL] [*] Load ./checkpoint_v1.1/g_hicgan_2745.npz SUCCESS!\n",
      "[TL] [*] Load ./checkpoint_v1.1/g_hicgan_2750.npz SUCCESS!\n",
      "[TL] [*] Load ./checkpoint_v1.1/g_hicgan_2755.npz SUCCESS!\n",
      "[TL] [*] Load ./checkpoint_v1.1/g_hicgan_2760.npz SUCCESS!\n",
      "[TL] [*] Load ./checkpoint_v1.1/g_hicgan_2765.npz SUCCESS!\n",
      "[TL] [*] Load ./checkpoint_v1.1/g_hicgan_2770.npz SUCCESS!\n",
      "[TL] [*] Load ./checkpoint_v1.1/g_hicgan_2775.npz SUCCESS!\n",
      "[TL] [*] Load ./checkpoint_v1.1/g_hicgan_2780.npz SUCCESS!\n",
      "[TL] [*] Load ./checkpoint_v1.1/g_hicgan_2785.npz SUCCESS!\n",
      "[TL] [*] Load ./checkpoint_v1.1/g_hicgan_2790.npz SUCCESS!\n",
      "[TL] [*] Load ./checkpoint_v1.1/g_hicgan_2795.npz SUCCESS!\n"
     ]
    },
    {
     "name": "stdout",
     "output_type": "stream",
     "text": [
      "2800\n",
      "[TL] [*] Load ./checkpoint_v1.1/g_hicgan_2800.npz SUCCESS!\n",
      "[TL] [*] Load ./checkpoint_v1.1/g_hicgan_2805.npz SUCCESS!\n",
      "[TL] [*] Load ./checkpoint_v1.1/g_hicgan_2810.npz SUCCESS!\n",
      "[TL] [*] Load ./checkpoint_v1.1/g_hicgan_2815.npz SUCCESS!\n",
      "[TL] [*] Load ./checkpoint_v1.1/g_hicgan_2820.npz SUCCESS!\n",
      "[TL] [*] Load ./checkpoint_v1.1/g_hicgan_2825.npz SUCCESS!\n",
      "[TL] [*] Load ./checkpoint_v1.1/g_hicgan_2830.npz SUCCESS!\n",
      "[TL] [*] Load ./checkpoint_v1.1/g_hicgan_2835.npz SUCCESS!\n",
      "[TL] [*] Load ./checkpoint_v1.1/g_hicgan_2840.npz SUCCESS!\n",
      "[TL] [*] Load ./checkpoint_v1.1/g_hicgan_2845.npz SUCCESS!\n",
      "[TL] [*] Load ./checkpoint_v1.1/g_hicgan_2850.npz SUCCESS!\n",
      "[TL] [*] Load ./checkpoint_v1.1/g_hicgan_2855.npz SUCCESS!\n",
      "[TL] [*] Load ./checkpoint_v1.1/g_hicgan_2860.npz SUCCESS!\n",
      "[TL] [*] Load ./checkpoint_v1.1/g_hicgan_2865.npz SUCCESS!\n",
      "[TL] [*] Load ./checkpoint_v1.1/g_hicgan_2870.npz SUCCESS!\n",
      "[TL] [*] Load ./checkpoint_v1.1/g_hicgan_2875.npz SUCCESS!\n",
      "[TL] [*] Load ./checkpoint_v1.1/g_hicgan_2880.npz SUCCESS!\n",
      "[TL] [*] Load ./checkpoint_v1.1/g_hicgan_2885.npz SUCCESS!\n",
      "[TL] [*] Load ./checkpoint_v1.1/g_hicgan_2890.npz SUCCESS!\n",
      "[TL] [*] Load ./checkpoint_v1.1/g_hicgan_2895.npz SUCCESS!\n",
      "2900\n",
      "[TL] [*] Load ./checkpoint_v1.1/g_hicgan_2900.npz SUCCESS!\n",
      "[TL] [*] Load ./checkpoint_v1.1/g_hicgan_2905.npz SUCCESS!\n",
      "[TL] [*] Load ./checkpoint_v1.1/g_hicgan_2910.npz SUCCESS!\n",
      "[TL] [*] Load ./checkpoint_v1.1/g_hicgan_2915.npz SUCCESS!\n",
      "[TL] [*] Load ./checkpoint_v1.1/g_hicgan_2920.npz SUCCESS!\n",
      "[TL] [*] Load ./checkpoint_v1.1/g_hicgan_2925.npz SUCCESS!\n",
      "[TL] [*] Load ./checkpoint_v1.1/g_hicgan_2930.npz SUCCESS!\n",
      "[TL] [*] Load ./checkpoint_v1.1/g_hicgan_2935.npz SUCCESS!\n",
      "[TL] [*] Load ./checkpoint_v1.1/g_hicgan_2940.npz SUCCESS!\n",
      "[TL] [*] Load ./checkpoint_v1.1/g_hicgan_2945.npz SUCCESS!\n",
      "[TL] [*] Load ./checkpoint_v1.1/g_hicgan_2950.npz SUCCESS!\n",
      "[TL] [*] Load ./checkpoint_v1.1/g_hicgan_2955.npz SUCCESS!\n",
      "[TL] [*] Load ./checkpoint_v1.1/g_hicgan_2960.npz SUCCESS!\n",
      "[TL] [*] Load ./checkpoint_v1.1/g_hicgan_2965.npz SUCCESS!\n",
      "[TL] [*] Load ./checkpoint_v1.1/g_hicgan_2970.npz SUCCESS!\n",
      "[TL] [*] Load ./checkpoint_v1.1/g_hicgan_2975.npz SUCCESS!\n",
      "[TL] [*] Load ./checkpoint_v1.1/g_hicgan_2980.npz SUCCESS!\n",
      "[TL] [*] Load ./checkpoint_v1.1/g_hicgan_2985.npz SUCCESS!\n",
      "[TL] [*] Load ./checkpoint_v1.1/g_hicgan_2990.npz SUCCESS!\n",
      "[TL] [*] Load ./checkpoint_v1.1/g_hicgan_2995.npz SUCCESS!\n"
     ]
    }
   ],
   "source": [
    "mse_median_list=[]\n",
    "for i in range(0,3000,5):\n",
    "    if i % 100==0:\n",
    "        print i\n",
    "    out = evaluate(i)\n",
    "    mse_median_list.append(np.median(map(compare_mse,out[:,:,:,0],hr_mats_test[:,:,:,0])))\n",
    "    \n",
    "    \n",
    "    \n",
    "\n",
    "    "
   ]
  },
  {
   "cell_type": "code",
   "execution_count": 124,
   "metadata": {
    "ExecuteTime": {
     "end_time": "2018-12-18T01:30:03.447727Z",
     "start_time": "2018-12-18T01:30:03.249873Z"
    }
   },
   "outputs": [
    {
     "data": {
      "text/plain": [
       "600"
      ]
     },
     "execution_count": 124,
     "metadata": {},
     "output_type": "execute_result"
    },
    {
     "data": {
      "text/plain": [
       "[<matplotlib.lines.Line2D at 0x7f0e91741e90>]"
      ]
     },
     "execution_count": 124,
     "metadata": {},
     "output_type": "execute_result"
    },
    {
     "data": {
      "text/plain": [
       "(0, 0.06)"
      ]
     },
     "execution_count": 124,
     "metadata": {},
     "output_type": "execute_result"
    },
    {
     "data": {
      "image/png": "[encoded data removed]",
      "text/plain": [
       "<matplotlib.figure.Figure at 0x7f0ea53c4450>"
      ]
     },
     "metadata": {},
     "output_type": "display_data"
    }
   ],
   "source": [
    "len(mse_median_list)\n",
    "plt.plot(list(range(600)),mse_median_list)\n",
    "plt.ylim(0,0.06)\n",
    "plt.show()"
   ]
  },
  {
   "cell_type": "code",
   "execution_count": 125,
   "metadata": {
    "ExecuteTime": {
     "end_time": "2018-12-18T01:30:21.024567Z",
     "start_time": "2018-12-18T01:30:21.018292Z"
    }
   },
   "outputs": [
    {
     "data": {
      "text/plain": [
       "45"
      ]
     },
     "execution_count": 125,
     "metadata": {},
     "output_type": "execute_result"
    }
   ],
   "source": [
    "mse_median_list.index(min(mse_median_list[:100]))"
   ]
  },
  {
   "cell_type": "code",
   "execution_count": 65,
   "metadata": {
    "ExecuteTime": {
     "end_time": "2018-12-17T08:50:58.674768Z",
     "start_time": "2018-12-17T08:50:57.915738Z"
    }
   },
   "outputs": [
    {
     "data": {
      "text/plain": [
       "<matplotlib.image.AxesImage at 0x7f1374099090>"
      ]
     },
     "execution_count": 65,
     "metadata": {},
     "output_type": "execute_result"
    },
    {
     "data": {
      "text/plain": [
       "<matplotlib.colorbar.Colorbar at 0x7f13740da310>"
      ]
     },
     "execution_count": 65,
     "metadata": {},
     "output_type": "execute_result"
    },
    {
     "data": {
      "image/png": "[encoded data removed]",
      "text/plain": [
       "<matplotlib.figure.Figure at 0x7f1374128550>"
      ]
     },
     "metadata": {},
     "output_type": "display_data"
    },
    {
     "data": {
      "text/plain": [
       "<matplotlib.image.AxesImage at 0x7f14221f4250>"
      ]
     },
     "execution_count": 65,
     "metadata": {},
     "output_type": "execute_result"
    },
    {
     "data": {
      "text/plain": [
       "<matplotlib.colorbar.Colorbar at 0x7f13d07dcbd0>"
      ]
     },
     "execution_count": 65,
     "metadata": {},
     "output_type": "execute_result"
    },
    {
     "data": {
      "image/png": "[encoded data removed]",
      "text/plain": [
       "<matplotlib.figure.Figure at 0x7f1422662fd0>"
      ]
     },
     "metadata": {},
     "output_type": "display_data"
    },
    {
     "data": {
      "text/plain": [
       "<matplotlib.image.AxesImage at 0x7f13d0761bd0>"
      ]
     },
     "execution_count": 65,
     "metadata": {},
     "output_type": "execute_result"
    },
    {
     "data": {
      "text/plain": [
       "<matplotlib.colorbar.Colorbar at 0x7f13d06ac590>"
      ]
     },
     "execution_count": 65,
     "metadata": {},
     "output_type": "execute_result"
    },
    {
     "data": {
      "image/png": "[encoded data removed]",
      "text/plain": [
       "<matplotlib.figure.Figure at 0x7f13d0774a10>"
      ]
     },
     "metadata": {},
     "output_type": "display_data"
    }
   ],
   "source": [
    "idx=7\n",
    "cmaps = ['Greys','Reds','YlOrBr','YlOrRd','hot']\n",
    "cmap = plt.get_cmap(cmaps[3])\n",
    "plt.imshow(out[idx,:,:,0],cmap=cmap)\n",
    "plt.grid(False)\n",
    "plt.colorbar()\n",
    "plt.show()\n",
    "plt.imshow(hr_mats_test[idx,:,:,0],cmap=cmap)\n",
    "plt.grid(False)\n",
    "plt.colorbar()\n",
    "plt.show()\n",
    "plt.imshow(lr_mats_test[idx,:,:,0],cmap=cmap)\n",
    "plt.grid(False)\n",
    "plt.colorbar()\n",
    "plt.show()"
   ]
  },
  {
   "cell_type": "code",
   "execution_count": 94,
   "metadata": {
    "ExecuteTime": {
     "end_time": "2018-09-26T10:15:05.878545Z",
     "start_time": "2018-09-26T10:15:05.652308Z"
    }
   },
   "outputs": [
    {
     "data": {
      "text/plain": [
       "<matplotlib.image.AxesImage at 0x7fb08cca1110>"
      ]
     },
     "execution_count": 94,
     "metadata": {},
     "output_type": "execute_result"
    },
    {
     "data": {
      "text/plain": [
       "<matplotlib.colorbar.Colorbar at 0x7fb08cc60890>"
      ]
     },
     "execution_count": 94,
     "metadata": {},
     "output_type": "execute_result"
    },
    {
     "data": {
      "image/png": "[encoded data removed]",
      "text/plain": [
       "<matplotlib.figure.Figure at 0x7fb63a536950>"
      ]
     },
     "metadata": {},
     "output_type": "display_data"
    }
   ],
   "source": [
    "\n",
    "plt.imshow(sample_out[0,:,:,0],cmap=cmap)\n",
    "plt.grid(False)\n",
    "plt.colorbar()\n",
    "plt.show()"
   ]
  },
  {
   "cell_type": "code",
   "execution_count": 88,
   "metadata": {
    "ExecuteTime": {
     "end_time": "2018-09-26T10:09:01.602288Z",
     "start_time": "2018-09-26T10:09:00.991634Z"
    }
   },
   "outputs": [
    {
     "data": {
      "text/plain": [
       "<matplotlib.image.AxesImage at 0x7fb0d87cf1d0>"
      ]
     },
     "execution_count": 88,
     "metadata": {},
     "output_type": "execute_result"
    },
    {
     "data": {
      "text/plain": [
       "<matplotlib.colorbar.Colorbar at 0x7fb0d879d390>"
      ]
     },
     "execution_count": 88,
     "metadata": {},
     "output_type": "execute_result"
    },
    {
     "data": {
      "image/png": "[encoded data removed]",
      "text/plain": [
       "<matplotlib.figure.Figure at 0x7fb0d8a8c9d0>"
      ]
     },
     "metadata": {},
     "output_type": "display_data"
    },
    {
     "data": {
      "text/plain": [
       "<matplotlib.image.AxesImage at 0x7fb0d861ba90>"
      ]
     },
     "execution_count": 88,
     "metadata": {},
     "output_type": "execute_result"
    },
    {
     "data": {
      "text/plain": [
       "<matplotlib.colorbar.Colorbar at 0x7fb0d85e7890>"
      ]
     },
     "execution_count": 88,
     "metadata": {},
     "output_type": "execute_result"
    },
    {
     "data": {
      "image/png": "[encoded data removed]",
      "text/plain": [
       "<matplotlib.figure.Figure at 0x7fb0d8648e50>"
      ]
     },
     "metadata": {},
     "output_type": "display_data"
    },
    {
     "data": {
      "text/plain": [
       "<matplotlib.image.AxesImage at 0x7fb0d836fb10>"
      ]
     },
     "execution_count": 88,
     "metadata": {},
     "output_type": "execute_result"
    },
    {
     "data": {
      "text/plain": [
       "<matplotlib.colorbar.Colorbar at 0x7fb0d833c810>"
      ]
     },
     "execution_count": 88,
     "metadata": {},
     "output_type": "execute_result"
    },
    {
     "data": {
      "image/png": "[encoded data removed]",
      "text/plain": [
       "<matplotlib.figure.Figure at 0x7fb0d863a250>"
      ]
     },
     "metadata": {},
     "output_type": "display_data"
    }
   ],
   "source": [
    "idx=6\n",
    "cmaps = ['Greys','Reds','YlOrBr','YlOrRd','hot']\n",
    "cmap = plt.get_cmap(cmaps[3])\n",
    "plt.imshow(out[idx,:,:,0],cmap=cmap)\n",
    "plt.grid(False)\n",
    "plt.colorbar()\n",
    "plt.show()\n",
    "plt.imshow(hr_mats_test[idx,:,:,0],cmap=cmap)\n",
    "plt.grid(False)\n",
    "plt.colorbar()\n",
    "plt.show()\n",
    "plt.imshow(lr_mats_test[idx,:,:,0],cmap=cmap)\n",
    "plt.grid(False)\n",
    "plt.colorbar()\n",
    "plt.show()"
   ]
  },
  {
   "cell_type": "code",
   "execution_count": 82,
   "metadata": {
    "ExecuteTime": {
     "end_time": "2018-09-14T16:34:40.212145Z",
     "start_time": "2018-09-14T16:34:31.598882Z"
    }
   },
   "outputs": [
    {
     "data": {
      "text/plain": [
       "<matplotlib.figure.Figure at 0x7f527d057b10>"
      ]
     },
     "execution_count": 82,
     "metadata": {},
     "output_type": "execute_result"
    },
    {
     "name": "stdout",
     "output_type": "stream",
     "text": [
      "[TL] [*] Load ./checkpoint/g_hicgan_10.npz SUCCESS!\n"
     ]
    },
    {
     "data": {
      "text/plain": [
       "<tensorlayer.layers.convolution.simplified_conv.Conv2d at 0x7f64e3ef4f50>"
      ]
     },
     "execution_count": 82,
     "metadata": {},
     "output_type": "execute_result"
    },
    {
     "data": {
      "text/plain": [
       "<matplotlib.axes._subplots.AxesSubplot at 0x7f527579c050>"
      ]
     },
     "execution_count": 82,
     "metadata": {},
     "output_type": "execute_result"
    },
    {
     "data": {
      "text/plain": [
       "<matplotlib.image.AxesImage at 0x7f5278504050>"
      ]
     },
     "execution_count": 82,
     "metadata": {},
     "output_type": "execute_result"
    },
    {
     "name": "stdout",
     "output_type": "stream",
     "text": [
      "[TL] [*] Load ./checkpoint/g_hicgan_30.npz SUCCESS!\n"
     ]
    },
    {
     "data": {
      "text/plain": [
       "<tensorlayer.layers.convolution.simplified_conv.Conv2d at 0x7f64e3ef4f50>"
      ]
     },
     "execution_count": 82,
     "metadata": {},
     "output_type": "execute_result"
    },
    {
     "data": {
      "text/plain": [
       "<matplotlib.axes._subplots.AxesSubplot at 0x7f527d057c50>"
      ]
     },
     "execution_count": 82,
     "metadata": {},
     "output_type": "execute_result"
    },
    {
     "data": {
      "text/plain": [
       "<matplotlib.image.AxesImage at 0x7f5263643e10>"
      ]
     },
     "execution_count": 82,
     "metadata": {},
     "output_type": "execute_result"
    },
    {
     "name": "stdout",
     "output_type": "stream",
     "text": [
      "[TL] [*] Load ./checkpoint/g_hicgan_50.npz SUCCESS!\n"
     ]
    },
    {
     "data": {
      "text/plain": [
       "<tensorlayer.layers.convolution.simplified_conv.Conv2d at 0x7f64e3ef4f50>"
      ]
     },
     "execution_count": 82,
     "metadata": {},
     "output_type": "execute_result"
    },
    {
     "data": {
      "text/plain": [
       "<matplotlib.axes._subplots.AxesSubplot at 0x7f5278504750>"
      ]
     },
     "execution_count": 82,
     "metadata": {},
     "output_type": "execute_result"
    },
    {
     "data": {
      "text/plain": [
       "<matplotlib.image.AxesImage at 0x7f5262879690>"
      ]
     },
     "execution_count": 82,
     "metadata": {},
     "output_type": "execute_result"
    },
    {
     "name": "stdout",
     "output_type": "stream",
     "text": [
      "[TL] [*] Load ./checkpoint/g_hicgan_70.npz SUCCESS!\n"
     ]
    },
    {
     "data": {
      "text/plain": [
       "<tensorlayer.layers.convolution.simplified_conv.Conv2d at 0x7f64e3ef4f50>"
      ]
     },
     "execution_count": 82,
     "metadata": {},
     "output_type": "execute_result"
    },
    {
     "data": {
      "text/plain": [
       "<matplotlib.axes._subplots.AxesSubplot at 0x7f526364d150>"
      ]
     },
     "execution_count": 82,
     "metadata": {},
     "output_type": "execute_result"
    },
    {
     "data": {
      "text/plain": [
       "<matplotlib.image.AxesImage at 0x7f5262121ed0>"
      ]
     },
     "execution_count": 82,
     "metadata": {},
     "output_type": "execute_result"
    },
    {
     "name": "stdout",
     "output_type": "stream",
     "text": [
      "[TL] [*] Load ./checkpoint/g_hicgan_90.npz SUCCESS!\n"
     ]
    },
    {
     "data": {
      "text/plain": [
       "<tensorlayer.layers.convolution.simplified_conv.Conv2d at 0x7f64e3ef4f50>"
      ]
     },
     "execution_count": 82,
     "metadata": {},
     "output_type": "execute_result"
    },
    {
     "data": {
      "text/plain": [
       "<matplotlib.axes._subplots.AxesSubplot at 0x7f5262879750>"
      ]
     },
     "execution_count": 82,
     "metadata": {},
     "output_type": "execute_result"
    },
    {
     "data": {
      "text/plain": [
       "<matplotlib.image.AxesImage at 0x7f526208c450>"
      ]
     },
     "execution_count": 82,
     "metadata": {},
     "output_type": "execute_result"
    },
    {
     "data": {
      "image/png": "[encoded data removed]",
      "text/plain": [
       "<matplotlib.figure.Figure at 0x7f527d057b10>"
      ]
     },
     "metadata": {},
     "output_type": "display_data"
    }
   ],
   "source": [
    "idx=1\n",
    "plt.figure(figsize=(20, 5))\n",
    "for epoch in range(10,100,20):   \n",
    "    sess = tf.Session(config=tf.ConfigProto(allow_soft_placement=True, log_device_placement=False))\n",
    "    tl.layers.initialize_global_variables(sess)\n",
    "    tl.files.load_and_assign_npz(sess=sess, name='./checkpoint/g_hicgan_%d.npz'%epoch, network=net_g)\n",
    "    out = sess.run(net_g.outputs, {t_image: [test_sample]})\n",
    "    cmaps = ['Greys','Reds','YlOrBr','YlOrRd','hot']\n",
    "    cmap = plt.get_cmap(cmaps[3])\n",
    "    plt.subplot(1,5,idx)\n",
    "    plt.imshow(out[0,:,:,0],cmap=cmap)\n",
    "    plt.grid(False)\n",
    "    plt.colorbar()\n",
    "    idx+=1\n",
    "#\n",
    "plt.subplots_adjust(top=0.92, bottom=0.08, left=0.10, right=0.95, hspace=0.25,\n",
    "                    wspace=0.35)\n",
    "plt.show()"
   ]
  },
  {
   "cell_type": "code",
   "execution_count": 14,
   "metadata": {
    "ExecuteTime": {
     "end_time": "2018-09-19T15:38:02.054244Z",
     "start_time": "2018-09-19T15:38:01.322342Z"
    }
   },
   "outputs": [
    {
     "name": "stdout",
     "output_type": "stream",
     "text": [
      "[TL] [*] Load ./checkpoint/g_hicgan_10.npz SUCCESS!\n"
     ]
    },
    {
     "data": {
      "text/plain": [
       "<tensorlayer.layers.convolution.simplified_conv.Conv2d at 0x7fad83d95f10>"
      ]
     },
     "execution_count": 14,
     "metadata": {},
     "output_type": "execute_result"
    },
    {
     "data": {
      "text/plain": [
       "<matplotlib.image.AxesImage at 0x7fabbc7d76d0>"
      ]
     },
     "execution_count": 14,
     "metadata": {},
     "output_type": "execute_result"
    },
    {
     "data": {
      "text/plain": [
       "<matplotlib.colorbar.Colorbar at 0x7fabbc79ab10>"
      ]
     },
     "execution_count": 14,
     "metadata": {},
     "output_type": "execute_result"
    },
    {
     "data": {
      "image/png": "[encoded data removed]",
      "text/plain": [
       "<matplotlib.figure.Figure at 0x7fad140c1710>"
      ]
     },
     "metadata": {},
     "output_type": "display_data"
    }
   ],
   "source": [
    "sess = tf.Session(config=tf.ConfigProto(allow_soft_placement=True, log_device_placement=False))\n",
    "tl.layers.initialize_global_variables(sess)\n",
    "tl.files.load_and_assign_npz(sess=sess, name='./checkpoint/g_hicgan_10.npz', network=net_g)\n",
    "out = sess.run(net_g.outputs, {t_image: [test_sample]})\n",
    "cmaps = ['Greys','Reds','YlOrBr','YlOrRd','hot']\n",
    "cmap = plt.get_cmap(cmaps[3])\n",
    "plt.imshow(out[0,:,:,0],cmap=cmap)\n",
    "plt.grid(False)\n",
    "plt.colorbar()\n",
    "plt.show()"
   ]
  },
  {
   "cell_type": "code",
   "execution_count": 56,
   "metadata": {
    "ExecuteTime": {
     "end_time": "2018-09-14T16:17:47.011590Z",
     "start_time": "2018-09-14T16:17:46.773072Z"
    }
   },
   "outputs": [
    {
     "data": {
      "text/plain": [
       "(1, 100, 100, 1)"
      ]
     },
     "execution_count": 56,
     "metadata": {},
     "output_type": "execute_result"
    },
    {
     "data": {
      "text/plain": [
       "<matplotlib.image.AxesImage at 0x7f53884eff10>"
      ]
     },
     "execution_count": 56,
     "metadata": {},
     "output_type": "execute_result"
    },
    {
     "data": {
      "text/plain": [
       "<matplotlib.colorbar.Colorbar at 0x7f538843d110>"
      ]
     },
     "execution_count": 56,
     "metadata": {},
     "output_type": "execute_result"
    },
    {
     "data": {
      "image/png": "[encoded data removed]",
      "text/plain": [
       "<matplotlib.figure.Figure at 0x7f546009a750>"
      ]
     },
     "metadata": {},
     "output_type": "display_data"
    }
   ],
   "source": [
    "out.shape\n",
    "cmaps = ['Greys','Reds','YlOrBr','YlOrRd','hot']\n",
    "cmap = plt.get_cmap(cmaps[3])\n",
    "plt.imshow(out[0,:,:,0],cmap=cmap)\n",
    "plt.grid(False)\n",
    "plt.colorbar()\n",
    "plt.show()"
   ]
  },
  {
   "cell_type": "code",
   "execution_count": null,
   "metadata": {
    "collapsed": true
   },
   "outputs": [],
   "source": []
  },
  {
   "cell_type": "code",
   "execution_count": 287,
   "metadata": {
    "ExecuteTime": {
     "end_time": "2018-12-18T13:34:13.837451Z",
     "start_time": "2018-12-18T13:34:13.833570Z"
    }
   },
   "outputs": [],
   "source": [
    "tf.reset_default_graph()"
   ]
  },
  {
   "cell_type": "code",
   "execution_count": 278,
   "metadata": {
    "ExecuteTime": {
     "end_time": "2018-12-18T13:29:07.290358Z",
     "start_time": "2018-12-18T13:29:07.090391Z"
    }
   },
   "outputs": [],
   "source": [
    "#temperal for recovering previous outcome\n",
    "def hicGAN_g(t_image, is_train=False, reuse=False):\n",
    "    w_init = tf.random_normal_initializer(stddev=0.02)\n",
    "    b_init = None  # tf.constant_initializer(value=0.0)\n",
    "    g_init = tf.random_normal_initializer(1., 0.02)\n",
    "    with tf.variable_scope(\"hicGAN_g\", reuse=reuse) as vs:\n",
    "        n = InputLayer(t_image, name='in')\n",
    "        n = Conv2d(n, 64, (3, 3), (1, 1), act=tf.nn.relu, padding='SAME', W_init=w_init, name='n64s1/c')\n",
    "        temp = n\n",
    "        # B residual blocks\n",
    "        for i in range(5):\n",
    "            nn = Conv2d(n, 64, (3, 3), (1, 1), act=None, padding='SAME', W_init=w_init, b_init=b_init, name='n64s1/c1/%s' % i)\n",
    "            nn = BatchNormLayer(nn, act=tf.nn.relu, is_train=is_train, gamma_init=g_init, name='n64s1/b1/%s' % i)\n",
    "            nn = Conv2d(nn, 64, (3, 3), (1, 1), act=None, padding='SAME', W_init=w_init, b_init=b_init, name='n64s1/c2/%s' % i)\n",
    "            nn = BatchNormLayer(nn, is_train=is_train, gamma_init=g_init, name='n64s1/b2/%s' % i)\n",
    "            nn = ElementwiseLayer([n, nn], tf.add, name='b_residual_add/%s' % i)\n",
    "            n = nn\n",
    "\n",
    "        n = Conv2d(n, 64, (3, 3), (1, 1), act=None, padding='SAME', W_init=w_init, b_init=b_init, name='n64s1/c/m')\n",
    "        n = BatchNormLayer(n, is_train=is_train, gamma_init=g_init, name='n64s1/b/m')\n",
    "        n = ElementwiseLayer([n, temp], tf.add, name='add3')\n",
    "        # B residual blacks end. output shape: (None,w,h,64)\n",
    "\n",
    "        n = Conv2d(n, 256, (3, 3), (1, 1), act=None, padding='SAME', W_init=w_init, name='n256s1/1')\n",
    "        #n = SubpixelConv2d(n, scale=2, n_out_channel=None, act=tf.nn.relu, name='pixelshufflerx2/1')\n",
    "\n",
    "        n = Conv2d(n, 256, (3, 3), (1, 1), act=None, padding='SAME', W_init=w_init, name='n256s1/2')\n",
    "        #n = SubpixelConv2d(n, scale=2, n_out_channel=None, act=tf.nn.relu, name='pixelshufflerx2/2')\n",
    "\n",
    "        n = Conv2d(n, 1, (1, 1), (1, 1), act=tf.nn.tanh, padding='SAME', W_init=w_init, name='out')\n",
    "        return n\n",
    "    \n",
    "    \n",
    "def hicGAN_d(t_image, is_train=False, reuse=False):\n",
    "    w_init = tf.random_normal_initializer(stddev=0.02)\n",
    "    b_init = None\n",
    "    g_init = tf.random_normal_initializer(1., 0.02)\n",
    "    lrelu = lambda x: tl.act.lrelu(x, 0.2)\n",
    "    with tf.variable_scope(\"hicGAN_d\", reuse=reuse) as vs:\n",
    "        n = InputLayer(t_image, name='in')\n",
    "        n = Conv2d(n, 64, (3, 3), (1, 1), act=lrelu, padding='SAME', W_init=w_init, name='n64s1/c')\n",
    "\n",
    "        n = Conv2d(n, 64, (3, 3), (2, 2), act=lrelu, padding='SAME', W_init=w_init, b_init=b_init, name='n64s2/c')\n",
    "        n = BatchNormLayer(n, is_train=is_train, gamma_init=g_init, name='n64s2/b')\n",
    "        #output shape: (None,w/2,h/2,64)\n",
    "        n = Conv2d(n, 128, (3, 3), (1, 1), act=lrelu, padding='SAME', W_init=w_init, b_init=b_init, name='n128s1/c')\n",
    "        n = BatchNormLayer(n, is_train=is_train, gamma_init=g_init, name='n128s1/b')\n",
    "\n",
    "        n = Conv2d(n, 128, (3, 3), (2, 2), act=lrelu, padding='SAME', W_init=w_init, b_init=b_init, name='n128s2/c')\n",
    "        n = BatchNormLayer(n, is_train=is_train, gamma_init=g_init, name='n128s2/b')\n",
    "        #output shape: (None,w/4,h/4,64)\n",
    "        n = Conv2d(n, 256, (3, 3), (1, 1), act=lrelu, padding='SAME', W_init=w_init, b_init=b_init, name='n256s1/c')\n",
    "        n = BatchNormLayer(n, is_train=is_train, gamma_init=g_init, name='n256s1/b')\n",
    "\n",
    "        n = Conv2d(n, 256, (3, 3), (2, 2), act=lrelu, padding='SAME', W_init=w_init, b_init=b_init, name='n256s2/c')\n",
    "        n = BatchNormLayer(n, is_train=is_train, gamma_init=g_init, name='n256s2/b')\n",
    "        #output shape: (None,w/8,h/8,256)\n",
    "        n = Conv2d(n, 512, (3, 3), (1, 1), act=lrelu, padding='SAME', W_init=w_init, b_init=b_init, name='n512s1/c')\n",
    "        n = BatchNormLayer(n, is_train=is_train, gamma_init=g_init, name='n512s1/b')\n",
    "\n",
    "        n = Conv2d(n, 512, (3, 3), (2, 2), act=lrelu, padding='SAME', W_init=w_init, b_init=b_init, name='n512s2/c')\n",
    "        n = BatchNormLayer(n, is_train=is_train, gamma_init=g_init, name='n512s2/b')\n",
    "        #output shape: (None,w/16,h/16,512)\n",
    "        n = FlattenLayer(n, name='f')\n",
    "        n = DenseLayer(n, n_units=1024, act=lrelu, name='d1024')\n",
    "        n = DenseLayer(n, n_units=1, name='out')\n",
    "\n",
    "        logits = n.outputs\n",
    "        n.outputs = tf.nn.sigmoid(n.outputs)\n",
    "\n",
    "        return n, logits"
   ]
  },
  {
   "cell_type": "code",
   "execution_count": 3,
   "metadata": {
    "ExecuteTime": {
     "end_time": "2018-12-19T03:11:53.262932Z",
     "start_time": "2018-12-19T03:11:53.103609Z"
    }
   },
   "outputs": [],
   "source": [
    "def hicGAN_g(t_image, is_train=False, reuse=False):\n",
    "    w_init = tf.random_normal_initializer(stddev=0.02)\n",
    "    b_init = None  # tf.constant_initializer(value=0.0)\n",
    "    g_init = tf.random_normal_initializer(1., 0.02)\n",
    "    with tf.variable_scope(\"hicGAN_g\", reuse=reuse) as vs:\n",
    "        n = InputLayer(t_image, name='in')\n",
    "        n = Conv2d(n, 64, (3, 3), (1, 1), act=tf.nn.relu, padding='SAME', W_init=w_init, name='n64s1/c')\n",
    "        temp = n\n",
    "        # B residual blocks\n",
    "        for i in range(3):\n",
    "            nn = Conv2d(n, 64, (3, 3), (1, 1), act=None, padding='SAME', W_init=w_init, b_init=b_init, name='n64s1/c1/%s' % i)\n",
    "            nn = BatchNormLayer(nn, act=tf.nn.relu, is_train=is_train, gamma_init=g_init, name='n64s1/b1/%s' % i)\n",
    "            nn = Conv2d(nn, 64, (3, 3), (1, 1), act=None, padding='SAME', W_init=w_init, b_init=b_init, name='n64s1/c2/%s' % i)\n",
    "            nn = BatchNormLayer(nn, is_train=is_train, gamma_init=g_init, name='n64s1/b2/%s' % i)\n",
    "            nn = ElementwiseLayer([n, nn], tf.add, name='b_residual_add/%s' % i)\n",
    "            n = nn\n",
    "\n",
    "        n = Conv2d(n, 64, (3, 3), (1, 1), act=None, padding='SAME', W_init=w_init, b_init=b_init, name='n64s1/c/m')\n",
    "        n = BatchNormLayer(n, is_train=is_train, gamma_init=g_init, name='n64s1/b/m')\n",
    "        n = ElementwiseLayer([n, temp], tf.add, name='add3')\n",
    "        # B residual blacks end. output shape: (None,w,h,64)\n",
    "\n",
    "        n = Conv2d(n, 128, (3, 3), (1, 1), act=None, padding='SAME', W_init=w_init, name='n256s1/1')\n",
    "        #n = SubpixelConv2d(n, scale=2, n_out_channel=None, act=tf.nn.relu, name='pixelshufflerx2/1')\n",
    "\n",
    "        #n = Conv2d(n, 256, (3, 3), (1, 1), act=None, padding='SAME', W_init=w_init, name='n256s1/2')\n",
    "        #n = SubpixelConv2d(n, scale=2, n_out_channel=None, act=tf.nn.relu, name='pixelshufflerx2/2')\n",
    "\n",
    "        n = Conv2d(n, 1, (1, 1), (1, 1), act=tf.nn.tanh, padding='SAME', W_init=w_init, name='out')\n",
    "        return n\n",
    "    \n",
    "    \n",
    "def hicGAN_d(t_image, is_train=False, reuse=False):\n",
    "    w_init = tf.random_normal_initializer(stddev=0.02)\n",
    "    b_init = None\n",
    "    g_init = tf.random_normal_initializer(1., 0.02)\n",
    "    lrelu = lambda x: tl.act.lrelu(x, 0.2)\n",
    "    with tf.variable_scope(\"hicGAN_d\", reuse=reuse) as vs:\n",
    "        n = InputLayer(t_image, name='in')\n",
    "        n = Conv2d(n, 64, (3, 3), (1, 1), act=lrelu, padding='SAME', W_init=w_init, name='n64s1/c')\n",
    "\n",
    "        n = Conv2d(n, 64, (3, 3), (2, 2), act=lrelu, padding='SAME', W_init=w_init, b_init=b_init, name='n64s2/c')\n",
    "        n = BatchNormLayer(n, is_train=is_train, gamma_init=g_init, name='n64s2/b')\n",
    "        #output shape: (None,w/2,h/2,64)\n",
    "        n = Conv2d(n, 128, (3, 3), (1, 1), act=lrelu, padding='SAME', W_init=w_init, b_init=b_init, name='n128s1/c')\n",
    "        n = BatchNormLayer(n, is_train=is_train, gamma_init=g_init, name='n128s1/b')\n",
    "\n",
    "        n = Conv2d(n, 128, (3, 3), (4, 4), act=lrelu, padding='SAME', W_init=w_init, b_init=b_init, name='n128s2/c')\n",
    "        n = BatchNormLayer(n, is_train=is_train, gamma_init=g_init, name='n128s2/b')\n",
    "        #output shape: (None,w/4,h/4,64)\n",
    "        #n = Conv2d(n, 256, (3, 3), (1, 1), act=lrelu, padding='SAME', W_init=w_init, b_init=b_init, name='n256s1/c')\n",
    "        #n = BatchNormLayer(n, is_train=is_train, gamma_init=g_init, name='n256s1/b')\n",
    "\n",
    "        #n = Conv2d(n, 256, (3, 3), (2, 2), act=lrelu, padding='SAME', W_init=w_init, b_init=b_init, name='n256s2/c')\n",
    "        #n = BatchNormLayer(n, is_train=is_train, gamma_init=g_init, name='n256s2/b')\n",
    "        #output shape: (None,w/8,h/8,256)\n",
    "        #n = Conv2d(n, 512, (3, 3), (1, 1), act=lrelu, padding='SAME', W_init=w_init, b_init=b_init, name='n512s1/c')\n",
    "        #n = BatchNormLayer(n, is_train=is_train, gamma_init=g_init, name='n512s1/b')\n",
    "\n",
    "        #n = Conv2d(n, 512, (3, 3), (2, 2), act=lrelu, padding='SAME', W_init=w_init, b_init=b_init, name='n512s2/c')\n",
    "        #n = BatchNormLayer(n, is_train=is_train, gamma_init=g_init, name='n512s2/b')\n",
    "        #output shape: (None,w/16,h/16,512)\n",
    "        n = FlattenLayer(n, name='f')\n",
    "        n = DenseLayer(n, n_units=1024, act=lrelu, name='d1024')\n",
    "        n = DenseLayer(n, n_units=1, name='out')\n",
    "\n",
    "        logits = n.outputs\n",
    "        n.outputs = tf.nn.sigmoid(n.outputs)\n",
    "\n",
    "        return n, logits"
   ]
  },
  {
   "cell_type": "code",
   "execution_count": 261,
   "metadata": {
    "ExecuteTime": {
     "end_time": "2018-12-18T13:04:13.994948Z",
     "start_time": "2018-12-18T13:04:06.861181Z"
    }
   },
   "outputs": [
    {
     "name": "stdout",
     "output_type": "stream",
     "text": [
      "[TL] InputLayer  hicGAN_g/in: (16, 40, 40, 1)\n",
      "[TL] Conv2d hicGAN_g/n64s1/c: n_filter: 64 filter_size: (3, 3) strides: (1, 1) pad: SAME act: relu\n",
      "[TL] Conv2d hicGAN_g/n64s1/c1/0: n_filter: 64 filter_size: (3, 3) strides: (1, 1) pad: SAME act: No Activation\n",
      "[TL] BatchNormLayer hicGAN_g/n64s1/b1/0: decay: 0.900000 epsilon: 0.000010 act: relu is_train: True\n",
      "[TL] Conv2d hicGAN_g/n64s1/c2/0: n_filter: 64 filter_size: (3, 3) strides: (1, 1) pad: SAME act: No Activation\n",
      "[TL] BatchNormLayer hicGAN_g/n64s1/b2/0: decay: 0.900000 epsilon: 0.000010 act: No Activation is_train: True\n",
      "[TL] ElementwiseLayer hicGAN_g/b_residual_add/0: size: (16, 40, 40, 64) fn: add\n",
      "[TL] Conv2d hicGAN_g/n64s1/c1/1: n_filter: 64 filter_size: (3, 3) strides: (1, 1) pad: SAME act: No Activation\n",
      "[TL] BatchNormLayer hicGAN_g/n64s1/b1/1: decay: 0.900000 epsilon: 0.000010 act: relu is_train: True\n",
      "[TL] Conv2d hicGAN_g/n64s1/c2/1: n_filter: 64 filter_size: (3, 3) strides: (1, 1) pad: SAME act: No Activation\n",
      "[TL] BatchNormLayer hicGAN_g/n64s1/b2/1: decay: 0.900000 epsilon: 0.000010 act: No Activation is_train: True\n",
      "[TL] ElementwiseLayer hicGAN_g/b_residual_add/1: size: (16, 40, 40, 64) fn: add\n",
      "[TL] Conv2d hicGAN_g/n64s1/c1/2: n_filter: 64 filter_size: (3, 3) strides: (1, 1) pad: SAME act: No Activation\n",
      "[TL] BatchNormLayer hicGAN_g/n64s1/b1/2: decay: 0.900000 epsilon: 0.000010 act: relu is_train: True\n",
      "[TL] Conv2d hicGAN_g/n64s1/c2/2: n_filter: 64 filter_size: (3, 3) strides: (1, 1) pad: SAME act: No Activation\n",
      "[TL] BatchNormLayer hicGAN_g/n64s1/b2/2: decay: 0.900000 epsilon: 0.000010 act: No Activation is_train: True\n",
      "[TL] ElementwiseLayer hicGAN_g/b_residual_add/2: size: (16, 40, 40, 64) fn: add\n",
      "[TL] Conv2d hicGAN_g/n64s1/c1/3: n_filter: 64 filter_size: (3, 3) strides: (1, 1) pad: SAME act: No Activation\n"
     ]
    },
    {
     "ename": "ValueError",
     "evalue": "Variable hicGAN_g/n64s1/c1/3/kernel does not exist, or was not created with tf.get_variable(). Did you mean to set reuse=tf.AUTO_REUSE in VarScope?",
     "output_type": "error",
     "traceback": [
      "\u001b[0;31m---------------------------------------------------------------------------\u001b[0m",
      "\u001b[0;31mValueError\u001b[0m                                Traceback (most recent call last)",
      "\u001b[0;32m<ipython-input-261-80ea2501e0eb>\u001b[0m in \u001b[0;36m<module>\u001b[0;34m()\u001b[0m\n\u001b[1;32m      2\u001b[0m \u001b[0mt_target_image\u001b[0m \u001b[0;34m=\u001b[0m \u001b[0mtf\u001b[0m\u001b[0;34m.\u001b[0m\u001b[0mplaceholder\u001b[0m\u001b[0;34m(\u001b[0m\u001b[0;34m'float32'\u001b[0m\u001b[0;34m,\u001b[0m \u001b[0;34m[\u001b[0m\u001b[0mbatch_size\u001b[0m\u001b[0;34m,\u001b[0m \u001b[0;36m40\u001b[0m\u001b[0;34m,\u001b[0m \u001b[0;36m40\u001b[0m\u001b[0;34m,\u001b[0m \u001b[0;36m1\u001b[0m\u001b[0;34m]\u001b[0m\u001b[0;34m,\u001b[0m \u001b[0mname\u001b[0m\u001b[0;34m=\u001b[0m\u001b[0;34m't_target_hic_image'\u001b[0m\u001b[0;34m)\u001b[0m\u001b[0;34m\u001b[0m\u001b[0m\n\u001b[1;32m      3\u001b[0m \u001b[0;34m\u001b[0m\u001b[0m\n\u001b[0;32m----> 4\u001b[0;31m \u001b[0mnet_g\u001b[0m \u001b[0;34m=\u001b[0m \u001b[0mhicGAN_g\u001b[0m\u001b[0;34m(\u001b[0m\u001b[0mt_image\u001b[0m\u001b[0;34m,\u001b[0m \u001b[0mis_train\u001b[0m\u001b[0;34m=\u001b[0m\u001b[0mTrue\u001b[0m\u001b[0;34m,\u001b[0m \u001b[0mreuse\u001b[0m\u001b[0;34m=\u001b[0m\u001b[0mTrue\u001b[0m\u001b[0;34m)\u001b[0m\u001b[0;34m\u001b[0m\u001b[0m\n\u001b[0m\u001b[1;32m      5\u001b[0m \u001b[0mnet_d\u001b[0m\u001b[0;34m,\u001b[0m \u001b[0mlogits_real\u001b[0m \u001b[0;34m=\u001b[0m \u001b[0mhicGAN_d\u001b[0m\u001b[0;34m(\u001b[0m\u001b[0mt_target_image\u001b[0m\u001b[0;34m,\u001b[0m \u001b[0mis_train\u001b[0m\u001b[0;34m=\u001b[0m\u001b[0mTrue\u001b[0m\u001b[0;34m,\u001b[0m \u001b[0mreuse\u001b[0m\u001b[0;34m=\u001b[0m\u001b[0mTrue\u001b[0m\u001b[0;34m)\u001b[0m\u001b[0;34m\u001b[0m\u001b[0m\n\u001b[1;32m      6\u001b[0m \u001b[0m_\u001b[0m\u001b[0;34m,\u001b[0m \u001b[0mlogits_fake\u001b[0m \u001b[0;34m=\u001b[0m \u001b[0mhicGAN_d\u001b[0m\u001b[0;34m(\u001b[0m\u001b[0mnet_g\u001b[0m\u001b[0;34m.\u001b[0m\u001b[0moutputs\u001b[0m\u001b[0;34m,\u001b[0m \u001b[0mis_train\u001b[0m\u001b[0;34m=\u001b[0m\u001b[0mTrue\u001b[0m\u001b[0;34m,\u001b[0m \u001b[0mreuse\u001b[0m\u001b[0;34m=\u001b[0m\u001b[0mTrue\u001b[0m\u001b[0;34m)\u001b[0m\u001b[0;34m\u001b[0m\u001b[0m\n",
      "\u001b[0;32m<ipython-input-259-5f6df39c11bf>\u001b[0m in \u001b[0;36mhicGAN_g\u001b[0;34m(t_image, is_train, reuse)\u001b[0m\n\u001b[1;32m     10\u001b[0m         \u001b[0;31m# B residual blocks\u001b[0m\u001b[0;34m\u001b[0m\u001b[0;34m\u001b[0m\u001b[0m\n\u001b[1;32m     11\u001b[0m         \u001b[0;32mfor\u001b[0m \u001b[0mi\u001b[0m \u001b[0;32min\u001b[0m \u001b[0mrange\u001b[0m\u001b[0;34m(\u001b[0m\u001b[0;36m5\u001b[0m\u001b[0;34m)\u001b[0m\u001b[0;34m:\u001b[0m\u001b[0;34m\u001b[0m\u001b[0m\n\u001b[0;32m---> 12\u001b[0;31m             \u001b[0mnn\u001b[0m \u001b[0;34m=\u001b[0m \u001b[0mConv2d\u001b[0m\u001b[0;34m(\u001b[0m\u001b[0mn\u001b[0m\u001b[0;34m,\u001b[0m \u001b[0;36m64\u001b[0m\u001b[0;34m,\u001b[0m \u001b[0;34m(\u001b[0m\u001b[0;36m3\u001b[0m\u001b[0;34m,\u001b[0m \u001b[0;36m3\u001b[0m\u001b[0;34m)\u001b[0m\u001b[0;34m,\u001b[0m \u001b[0;34m(\u001b[0m\u001b[0;36m1\u001b[0m\u001b[0;34m,\u001b[0m \u001b[0;36m1\u001b[0m\u001b[0;34m)\u001b[0m\u001b[0;34m,\u001b[0m \u001b[0mact\u001b[0m\u001b[0;34m=\u001b[0m\u001b[0mNone\u001b[0m\u001b[0;34m,\u001b[0m \u001b[0mpadding\u001b[0m\u001b[0;34m=\u001b[0m\u001b[0;34m'SAME'\u001b[0m\u001b[0;34m,\u001b[0m \u001b[0mW_init\u001b[0m\u001b[0;34m=\u001b[0m\u001b[0mw_init\u001b[0m\u001b[0;34m,\u001b[0m \u001b[0mb_init\u001b[0m\u001b[0;34m=\u001b[0m\u001b[0mb_init\u001b[0m\u001b[0;34m,\u001b[0m \u001b[0mname\u001b[0m\u001b[0;34m=\u001b[0m\u001b[0;34m'n64s1/c1/%s'\u001b[0m \u001b[0;34m%\u001b[0m \u001b[0mi\u001b[0m\u001b[0;34m)\u001b[0m\u001b[0;34m\u001b[0m\u001b[0m\n\u001b[0m\u001b[1;32m     13\u001b[0m             \u001b[0mnn\u001b[0m \u001b[0;34m=\u001b[0m \u001b[0mBatchNormLayer\u001b[0m\u001b[0;34m(\u001b[0m\u001b[0mnn\u001b[0m\u001b[0;34m,\u001b[0m \u001b[0mact\u001b[0m\u001b[0;34m=\u001b[0m\u001b[0mtf\u001b[0m\u001b[0;34m.\u001b[0m\u001b[0mnn\u001b[0m\u001b[0;34m.\u001b[0m\u001b[0mrelu\u001b[0m\u001b[0;34m,\u001b[0m \u001b[0mis_train\u001b[0m\u001b[0;34m=\u001b[0m\u001b[0mis_train\u001b[0m\u001b[0;34m,\u001b[0m \u001b[0mgamma_init\u001b[0m\u001b[0;34m=\u001b[0m\u001b[0mg_init\u001b[0m\u001b[0;34m,\u001b[0m \u001b[0mname\u001b[0m\u001b[0;34m=\u001b[0m\u001b[0;34m'n64s1/b1/%s'\u001b[0m \u001b[0;34m%\u001b[0m \u001b[0mi\u001b[0m\u001b[0;34m)\u001b[0m\u001b[0;34m\u001b[0m\u001b[0m\n\u001b[1;32m     14\u001b[0m             \u001b[0mnn\u001b[0m \u001b[0;34m=\u001b[0m \u001b[0mConv2d\u001b[0m\u001b[0;34m(\u001b[0m\u001b[0mnn\u001b[0m\u001b[0;34m,\u001b[0m \u001b[0;36m64\u001b[0m\u001b[0;34m,\u001b[0m \u001b[0;34m(\u001b[0m\u001b[0;36m3\u001b[0m\u001b[0;34m,\u001b[0m \u001b[0;36m3\u001b[0m\u001b[0;34m)\u001b[0m\u001b[0;34m,\u001b[0m \u001b[0;34m(\u001b[0m\u001b[0;36m1\u001b[0m\u001b[0;34m,\u001b[0m \u001b[0;36m1\u001b[0m\u001b[0;34m)\u001b[0m\u001b[0;34m,\u001b[0m \u001b[0mact\u001b[0m\u001b[0;34m=\u001b[0m\u001b[0mNone\u001b[0m\u001b[0;34m,\u001b[0m \u001b[0mpadding\u001b[0m\u001b[0;34m=\u001b[0m\u001b[0;34m'SAME'\u001b[0m\u001b[0;34m,\u001b[0m \u001b[0mW_init\u001b[0m\u001b[0;34m=\u001b[0m\u001b[0mw_init\u001b[0m\u001b[0;34m,\u001b[0m \u001b[0mb_init\u001b[0m\u001b[0;34m=\u001b[0m\u001b[0mb_init\u001b[0m\u001b[0;34m,\u001b[0m \u001b[0mname\u001b[0m\u001b[0;34m=\u001b[0m\u001b[0;34m'n64s1/c2/%s'\u001b[0m \u001b[0;34m%\u001b[0m \u001b[0mi\u001b[0m\u001b[0;34m)\u001b[0m\u001b[0;34m\u001b[0m\u001b[0m\n",
      "\u001b[0;32m/home/liuqiao/anaconda2/lib/python2.7/site-packages/tensorlayer/decorators/deprecated_alias.pyc\u001b[0m in \u001b[0;36mwrapper\u001b[0;34m(*args, **kwargs)\u001b[0m\n\u001b[1;32m     22\u001b[0m             \u001b[0mrename_kwargs\u001b[0m\u001b[0;34m(\u001b[0m\u001b[0mkwargs\u001b[0m\u001b[0;34m,\u001b[0m \u001b[0maliases\u001b[0m\u001b[0;34m,\u001b[0m \u001b[0mend_support_version\u001b[0m\u001b[0;34m,\u001b[0m \u001b[0mfunc_name\u001b[0m\u001b[0;34m)\u001b[0m\u001b[0;34m\u001b[0m\u001b[0m\n\u001b[1;32m     23\u001b[0m \u001b[0;34m\u001b[0m\u001b[0m\n\u001b[0;32m---> 24\u001b[0;31m             \u001b[0;32mreturn\u001b[0m \u001b[0mf\u001b[0m\u001b[0;34m(\u001b[0m\u001b[0;34m*\u001b[0m\u001b[0margs\u001b[0m\u001b[0;34m,\u001b[0m \u001b[0;34m**\u001b[0m\u001b[0mkwargs\u001b[0m\u001b[0;34m)\u001b[0m\u001b[0;34m\u001b[0m\u001b[0m\n\u001b[0m\u001b[1;32m     25\u001b[0m \u001b[0;34m\u001b[0m\u001b[0m\n\u001b[1;32m     26\u001b[0m         \u001b[0;32mreturn\u001b[0m \u001b[0mwrapper\u001b[0m\u001b[0;34m\u001b[0m\u001b[0m\n",
      "\u001b[0;32m/home/liuqiao/anaconda2/lib/python2.7/site-packages/tensorlayer/layers/convolution/simplified_conv.pyc\u001b[0m in \u001b[0;36m__init__\u001b[0;34m(self, prev_layer, n_filter, filter_size, strides, act, padding, dilation_rate, W_init, b_init, W_init_args, b_init_args, use_cudnn_on_gpu, data_format, name)\u001b[0m\n\u001b[1;32m    210\u001b[0m             \u001b[0;31m# reuse=None,\u001b[0m\u001b[0;34m\u001b[0m\u001b[0;34m\u001b[0m\u001b[0m\n\u001b[1;32m    211\u001b[0m         )\n\u001b[0;32m--> 212\u001b[0;31m         \u001b[0mself\u001b[0m\u001b[0;34m.\u001b[0m\u001b[0moutputs\u001b[0m \u001b[0;34m=\u001b[0m \u001b[0mconv2d\u001b[0m\u001b[0;34m(\u001b[0m\u001b[0mself\u001b[0m\u001b[0;34m.\u001b[0m\u001b[0minputs\u001b[0m\u001b[0;34m)\u001b[0m  \u001b[0;31m# must put before ``new_variables``\u001b[0m\u001b[0;34m\u001b[0m\u001b[0m\n\u001b[0m\u001b[1;32m    213\u001b[0m         \u001b[0;31m# new_variables = tf.get_collection(TF_GRAPHKEYS_VARIABLES, scope=self.name)  #vs.name)\u001b[0m\u001b[0;34m\u001b[0m\u001b[0;34m\u001b[0m\u001b[0m\n\u001b[1;32m    214\u001b[0m         \u001b[0mnew_variables\u001b[0m \u001b[0;34m=\u001b[0m \u001b[0mget_collection_trainable\u001b[0m\u001b[0;34m(\u001b[0m\u001b[0mself\u001b[0m\u001b[0;34m.\u001b[0m\u001b[0mname\u001b[0m\u001b[0;34m)\u001b[0m\u001b[0;34m\u001b[0m\u001b[0m\n",
      "\u001b[0;32m/home/liuqiao/anaconda2/lib/python2.7/site-packages/tensorflow/python/layers/base.pyc\u001b[0m in \u001b[0;36m__call__\u001b[0;34m(self, inputs, *args, **kwargs)\u001b[0m\n\u001b[1;32m    360\u001b[0m \u001b[0;34m\u001b[0m\u001b[0m\n\u001b[1;32m    361\u001b[0m       \u001b[0;31m# Actually call layer\u001b[0m\u001b[0;34m\u001b[0m\u001b[0;34m\u001b[0m\u001b[0m\n\u001b[0;32m--> 362\u001b[0;31m       \u001b[0moutputs\u001b[0m \u001b[0;34m=\u001b[0m \u001b[0msuper\u001b[0m\u001b[0;34m(\u001b[0m\u001b[0mLayer\u001b[0m\u001b[0;34m,\u001b[0m \u001b[0mself\u001b[0m\u001b[0;34m)\u001b[0m\u001b[0;34m.\u001b[0m\u001b[0m__call__\u001b[0m\u001b[0;34m(\u001b[0m\u001b[0minputs\u001b[0m\u001b[0;34m,\u001b[0m \u001b[0;34m*\u001b[0m\u001b[0margs\u001b[0m\u001b[0;34m,\u001b[0m \u001b[0;34m**\u001b[0m\u001b[0mkwargs\u001b[0m\u001b[0;34m)\u001b[0m\u001b[0;34m\u001b[0m\u001b[0m\n\u001b[0m\u001b[1;32m    363\u001b[0m \u001b[0;34m\u001b[0m\u001b[0m\n\u001b[1;32m    364\u001b[0m     \u001b[0;32mif\u001b[0m \u001b[0;32mnot\u001b[0m \u001b[0mcontext\u001b[0m\u001b[0;34m.\u001b[0m\u001b[0mexecuting_eagerly\u001b[0m\u001b[0;34m(\u001b[0m\u001b[0;34m)\u001b[0m\u001b[0;34m:\u001b[0m\u001b[0;34m\u001b[0m\u001b[0m\n",
      "\u001b[0;32m/home/liuqiao/anaconda2/lib/python2.7/site-packages/tensorflow/python/keras/engine/base_layer.pyc\u001b[0m in \u001b[0;36m__call__\u001b[0;34m(self, inputs, *args, **kwargs)\u001b[0m\n\u001b[1;32m    726\u001b[0m         \u001b[0;32mif\u001b[0m \u001b[0mall\u001b[0m\u001b[0;34m(\u001b[0m\u001b[0mhasattr\u001b[0m\u001b[0;34m(\u001b[0m\u001b[0mx\u001b[0m\u001b[0;34m,\u001b[0m \u001b[0;34m'shape'\u001b[0m\u001b[0;34m)\u001b[0m \u001b[0;32mfor\u001b[0m \u001b[0mx\u001b[0m \u001b[0;32min\u001b[0m \u001b[0minput_list\u001b[0m\u001b[0;34m)\u001b[0m\u001b[0;34m:\u001b[0m\u001b[0;34m\u001b[0m\u001b[0m\n\u001b[1;32m    727\u001b[0m           \u001b[0minput_shapes\u001b[0m \u001b[0;34m=\u001b[0m \u001b[0mnest\u001b[0m\u001b[0;34m.\u001b[0m\u001b[0mmap_structure\u001b[0m\u001b[0;34m(\u001b[0m\u001b[0;32mlambda\u001b[0m \u001b[0mx\u001b[0m\u001b[0;34m:\u001b[0m \u001b[0mx\u001b[0m\u001b[0;34m.\u001b[0m\u001b[0mshape\u001b[0m\u001b[0;34m,\u001b[0m \u001b[0minputs\u001b[0m\u001b[0;34m)\u001b[0m\u001b[0;34m\u001b[0m\u001b[0m\n\u001b[0;32m--> 728\u001b[0;31m         \u001b[0mself\u001b[0m\u001b[0;34m.\u001b[0m\u001b[0mbuild\u001b[0m\u001b[0;34m(\u001b[0m\u001b[0minput_shapes\u001b[0m\u001b[0;34m)\u001b[0m\u001b[0;34m\u001b[0m\u001b[0m\n\u001b[0m\u001b[1;32m    729\u001b[0m         \u001b[0mself\u001b[0m\u001b[0;34m.\u001b[0m\u001b[0mbuilt\u001b[0m \u001b[0;34m=\u001b[0m \u001b[0mTrue\u001b[0m\u001b[0;34m\u001b[0m\u001b[0m\n\u001b[1;32m    730\u001b[0m \u001b[0;34m\u001b[0m\u001b[0m\n",
      "\u001b[0;32m/home/liuqiao/anaconda2/lib/python2.7/site-packages/tensorflow/python/keras/layers/convolutional.pyc\u001b[0m in \u001b[0;36mbuild\u001b[0;34m(self, input_shape)\u001b[0m\n\u001b[1;32m    159\u001b[0m         \u001b[0mconstraint\u001b[0m\u001b[0;34m=\u001b[0m\u001b[0mself\u001b[0m\u001b[0;34m.\u001b[0m\u001b[0mkernel_constraint\u001b[0m\u001b[0;34m,\u001b[0m\u001b[0;34m\u001b[0m\u001b[0m\n\u001b[1;32m    160\u001b[0m         \u001b[0mtrainable\u001b[0m\u001b[0;34m=\u001b[0m\u001b[0mTrue\u001b[0m\u001b[0;34m,\u001b[0m\u001b[0;34m\u001b[0m\u001b[0m\n\u001b[0;32m--> 161\u001b[0;31m         dtype=self.dtype)\n\u001b[0m\u001b[1;32m    162\u001b[0m     \u001b[0;32mif\u001b[0m \u001b[0mself\u001b[0m\u001b[0;34m.\u001b[0m\u001b[0muse_bias\u001b[0m\u001b[0;34m:\u001b[0m\u001b[0;34m\u001b[0m\u001b[0m\n\u001b[1;32m    163\u001b[0m       self.bias = self.add_weight(\n",
      "\u001b[0;32m/home/liuqiao/anaconda2/lib/python2.7/site-packages/tensorflow/python/layers/base.pyc\u001b[0m in \u001b[0;36madd_weight\u001b[0;34m(self, name, shape, dtype, initializer, regularizer, trainable, constraint, use_resource, synchronization, aggregation, partitioner)\u001b[0m\n\u001b[1;32m    274\u001b[0m             \u001b[0msynchronization\u001b[0m\u001b[0;34m=\u001b[0m\u001b[0msynchronization\u001b[0m\u001b[0;34m,\u001b[0m\u001b[0;34m\u001b[0m\u001b[0m\n\u001b[1;32m    275\u001b[0m             \u001b[0maggregation\u001b[0m\u001b[0;34m=\u001b[0m\u001b[0maggregation\u001b[0m\u001b[0;34m,\u001b[0m\u001b[0;34m\u001b[0m\u001b[0m\n\u001b[0;32m--> 276\u001b[0;31m             getter=vs.get_variable)\n\u001b[0m\u001b[1;32m    277\u001b[0m \u001b[0;34m\u001b[0m\u001b[0m\n\u001b[1;32m    278\u001b[0m         \u001b[0;32mif\u001b[0m \u001b[0mregularizer\u001b[0m\u001b[0;34m:\u001b[0m\u001b[0;34m\u001b[0m\u001b[0m\n",
      "\u001b[0;32m/home/liuqiao/anaconda2/lib/python2.7/site-packages/tensorflow/python/keras/engine/base_layer.pyc\u001b[0m in \u001b[0;36madd_weight\u001b[0;34m(self, name, shape, dtype, initializer, regularizer, trainable, constraint, partitioner, use_resource, synchronization, aggregation, getter)\u001b[0m\n\u001b[1;32m    563\u001b[0m         \u001b[0muse_resource\u001b[0m\u001b[0;34m=\u001b[0m\u001b[0muse_resource\u001b[0m\u001b[0;34m,\u001b[0m\u001b[0;34m\u001b[0m\u001b[0m\n\u001b[1;32m    564\u001b[0m         \u001b[0msynchronization\u001b[0m\u001b[0;34m=\u001b[0m\u001b[0msynchronization\u001b[0m\u001b[0;34m,\u001b[0m\u001b[0;34m\u001b[0m\u001b[0m\n\u001b[0;32m--> 565\u001b[0;31m         aggregation=aggregation)\n\u001b[0m\u001b[1;32m    566\u001b[0m \u001b[0;34m\u001b[0m\u001b[0m\n\u001b[1;32m    567\u001b[0m     \u001b[0;32mif\u001b[0m \u001b[0mregularizer\u001b[0m \u001b[0;32mis\u001b[0m \u001b[0;32mnot\u001b[0m \u001b[0mNone\u001b[0m\u001b[0;34m:\u001b[0m\u001b[0;34m\u001b[0m\u001b[0m\n",
      "\u001b[0;32m/home/liuqiao/anaconda2/lib/python2.7/site-packages/tensorflow/python/training/checkpointable/base.pyc\u001b[0m in \u001b[0;36m_add_variable_with_custom_getter\u001b[0;34m(self, name, shape, dtype, initializer, getter, overwrite, **kwargs_for_getter)\u001b[0m\n\u001b[1;32m    533\u001b[0m     new_variable = getter(\n\u001b[1;32m    534\u001b[0m         \u001b[0mname\u001b[0m\u001b[0;34m=\u001b[0m\u001b[0mname\u001b[0m\u001b[0;34m,\u001b[0m \u001b[0mshape\u001b[0m\u001b[0;34m=\u001b[0m\u001b[0mshape\u001b[0m\u001b[0;34m,\u001b[0m \u001b[0mdtype\u001b[0m\u001b[0;34m=\u001b[0m\u001b[0mdtype\u001b[0m\u001b[0;34m,\u001b[0m \u001b[0minitializer\u001b[0m\u001b[0;34m=\u001b[0m\u001b[0minitializer\u001b[0m\u001b[0;34m,\u001b[0m\u001b[0;34m\u001b[0m\u001b[0m\n\u001b[0;32m--> 535\u001b[0;31m         **kwargs_for_getter)\n\u001b[0m\u001b[1;32m    536\u001b[0m \u001b[0;34m\u001b[0m\u001b[0m\n\u001b[1;32m    537\u001b[0m     \u001b[0;31m# If we set an initializer and the variable processed it, tracking will not\u001b[0m\u001b[0;34m\u001b[0m\u001b[0;34m\u001b[0m\u001b[0m\n",
      "\u001b[0;32m/home/liuqiao/anaconda2/lib/python2.7/site-packages/tensorflow/python/ops/variable_scope.pyc\u001b[0m in \u001b[0;36mget_variable\u001b[0;34m(name, shape, dtype, initializer, regularizer, trainable, collections, caching_device, partitioner, validate_shape, use_resource, custom_getter, constraint, synchronization, aggregation)\u001b[0m\n\u001b[1;32m   1465\u001b[0m       \u001b[0mconstraint\u001b[0m\u001b[0;34m=\u001b[0m\u001b[0mconstraint\u001b[0m\u001b[0;34m,\u001b[0m\u001b[0;34m\u001b[0m\u001b[0m\n\u001b[1;32m   1466\u001b[0m       \u001b[0msynchronization\u001b[0m\u001b[0;34m=\u001b[0m\u001b[0msynchronization\u001b[0m\u001b[0;34m,\u001b[0m\u001b[0;34m\u001b[0m\u001b[0m\n\u001b[0;32m-> 1467\u001b[0;31m       aggregation=aggregation)\n\u001b[0m\u001b[1;32m   1468\u001b[0m \u001b[0;34m\u001b[0m\u001b[0m\n\u001b[1;32m   1469\u001b[0m \u001b[0;34m\u001b[0m\u001b[0m\n",
      "\u001b[0;32m/home/liuqiao/anaconda2/lib/python2.7/site-packages/tensorflow/python/ops/variable_scope.pyc\u001b[0m in \u001b[0;36mget_variable\u001b[0;34m(self, var_store, name, shape, dtype, initializer, regularizer, reuse, trainable, collections, caching_device, partitioner, validate_shape, use_resource, custom_getter, constraint, synchronization, aggregation)\u001b[0m\n\u001b[1;32m   1215\u001b[0m           \u001b[0mconstraint\u001b[0m\u001b[0;34m=\u001b[0m\u001b[0mconstraint\u001b[0m\u001b[0;34m,\u001b[0m\u001b[0;34m\u001b[0m\u001b[0m\n\u001b[1;32m   1216\u001b[0m           \u001b[0msynchronization\u001b[0m\u001b[0;34m=\u001b[0m\u001b[0msynchronization\u001b[0m\u001b[0;34m,\u001b[0m\u001b[0;34m\u001b[0m\u001b[0m\n\u001b[0;32m-> 1217\u001b[0;31m           aggregation=aggregation)\n\u001b[0m\u001b[1;32m   1218\u001b[0m \u001b[0;34m\u001b[0m\u001b[0m\n\u001b[1;32m   1219\u001b[0m   def _get_partitioned_variable(self,\n",
      "\u001b[0;32m/home/liuqiao/anaconda2/lib/python2.7/site-packages/tensorflow/python/ops/variable_scope.pyc\u001b[0m in \u001b[0;36mget_variable\u001b[0;34m(self, name, shape, dtype, initializer, regularizer, reuse, trainable, collections, caching_device, partitioner, validate_shape, use_resource, custom_getter, constraint, synchronization, aggregation)\u001b[0m\n\u001b[1;32m    525\u001b[0m           \u001b[0mconstraint\u001b[0m\u001b[0;34m=\u001b[0m\u001b[0mconstraint\u001b[0m\u001b[0;34m,\u001b[0m\u001b[0;34m\u001b[0m\u001b[0m\n\u001b[1;32m    526\u001b[0m           \u001b[0msynchronization\u001b[0m\u001b[0;34m=\u001b[0m\u001b[0msynchronization\u001b[0m\u001b[0;34m,\u001b[0m\u001b[0;34m\u001b[0m\u001b[0m\n\u001b[0;32m--> 527\u001b[0;31m           aggregation=aggregation)\n\u001b[0m\u001b[1;32m    528\u001b[0m \u001b[0;34m\u001b[0m\u001b[0m\n\u001b[1;32m    529\u001b[0m   def _get_partitioned_variable(self,\n",
      "\u001b[0;32m/home/liuqiao/anaconda2/lib/python2.7/site-packages/tensorflow/python/ops/variable_scope.pyc\u001b[0m in \u001b[0;36m_true_getter\u001b[0;34m(name, shape, dtype, initializer, regularizer, reuse, trainable, collections, caching_device, partitioner, validate_shape, use_resource, constraint, synchronization, aggregation)\u001b[0m\n\u001b[1;32m    479\u001b[0m           \u001b[0mconstraint\u001b[0m\u001b[0;34m=\u001b[0m\u001b[0mconstraint\u001b[0m\u001b[0;34m,\u001b[0m\u001b[0;34m\u001b[0m\u001b[0m\n\u001b[1;32m    480\u001b[0m           \u001b[0msynchronization\u001b[0m\u001b[0;34m=\u001b[0m\u001b[0msynchronization\u001b[0m\u001b[0;34m,\u001b[0m\u001b[0;34m\u001b[0m\u001b[0m\n\u001b[0;32m--> 481\u001b[0;31m           aggregation=aggregation)\n\u001b[0m\u001b[1;32m    482\u001b[0m \u001b[0;34m\u001b[0m\u001b[0m\n\u001b[1;32m    483\u001b[0m     \u001b[0;31m# Set trainable value based on synchronization value.\u001b[0m\u001b[0;34m\u001b[0m\u001b[0;34m\u001b[0m\u001b[0m\n",
      "\u001b[0;32m/home/liuqiao/anaconda2/lib/python2.7/site-packages/tensorflow/python/ops/variable_scope.pyc\u001b[0m in \u001b[0;36m_get_single_variable\u001b[0;34m(self, name, shape, dtype, initializer, regularizer, partition_info, reuse, trainable, collections, caching_device, validate_shape, use_resource, constraint, synchronization, aggregation)\u001b[0m\n\u001b[1;32m    864\u001b[0m       raise ValueError(\"Variable %s does not exist, or was not created with \"\n\u001b[1;32m    865\u001b[0m                        \u001b[0;34m\"tf.get_variable(). Did you mean to set \"\u001b[0m\u001b[0;34m\u001b[0m\u001b[0m\n\u001b[0;32m--> 866\u001b[0;31m                        \"reuse=tf.AUTO_REUSE in VarScope?\" % name)\n\u001b[0m\u001b[1;32m    867\u001b[0m     \u001b[0;32mif\u001b[0m \u001b[0;32mnot\u001b[0m \u001b[0mshape\u001b[0m\u001b[0;34m.\u001b[0m\u001b[0mis_fully_defined\u001b[0m\u001b[0;34m(\u001b[0m\u001b[0;34m)\u001b[0m \u001b[0;32mand\u001b[0m \u001b[0;32mnot\u001b[0m \u001b[0minitializing_from_value\u001b[0m\u001b[0;34m:\u001b[0m\u001b[0;34m\u001b[0m\u001b[0m\n\u001b[1;32m    868\u001b[0m       raise ValueError(\"Shape of a new variable (%s) must be fully defined, \"\n",
      "\u001b[0;31mValueError\u001b[0m: Variable hicGAN_g/n64s1/c1/3/kernel does not exist, or was not created with tf.get_variable(). Did you mean to set reuse=tf.AUTO_REUSE in VarScope?"
     ]
    }
   ],
   "source": [
    "t_image = tf.placeholder('float32', [batch_size, 40, 40, 1], name='input_to_generator')\n",
    "t_target_image = tf.placeholder('float32', [batch_size, 40, 40, 1], name='t_target_hic_image')\n",
    "\n",
    "net_g = hicGAN_g(t_image, is_train=True, reuse=True)\n",
    "net_d, logits_real = hicGAN_d(t_target_image, is_train=True, reuse=True)\n",
    "_, logits_fake = hicGAN_d(net_g.outputs, is_train=True, reuse=True)\n",
    "\n",
    "net_g_test = hicGAN_g(t_image, is_train=False, reuse=True)\n",
    "d_loss1 = tl.cost.sigmoid_cross_entropy(logits_real, tf.ones_like(logits_real), name='d1')\n",
    "d_loss2 = tl.cost.sigmoid_cross_entropy(logits_fake, tf.zeros_like(logits_fake), name='d2')\n",
    "d_loss = d_loss1 + d_loss2\n",
    "g_gan_loss = 1e-3 * tl.cost.sigmoid_cross_entropy(logits_fake, tf.ones_like(logits_fake), name='g')\n",
    "mse_loss = tl.cost.mean_squared_error(net_g.outputs, t_target_image, is_mean=True)\n",
    "g_loss = mse_loss + g_gan_loss\n",
    "g_vars = tl.layers.get_variables_with_name('hicGAN_g', True, True)\n",
    "d_vars = tl.layers.get_variables_with_name('hicGAN_d', True, True)\n",
    "\n",
    "with tf.variable_scope('learning_rate'):\n",
    "    lr_v = tf.Variable(lr_init, trainable=False)\n",
    "\n",
    "g_optim_init = tf.train.AdamOptimizer(lr_v, beta1=beta1).minimize(mse_loss, var_list=g_vars)\n",
    "g_optim = tf.train.AdamOptimizer(lr_v, beta1=beta1).minimize(g_loss, var_list=g_vars)\n",
    "d_optim = tf.train.AdamOptimizer(lr_v, beta1=beta1).minimize(d_loss, var_list=d_vars)"
   ]
  },
  {
   "cell_type": "markdown",
   "metadata": {},
   "source": [
    "# Evaluation and Comparison"
   ]
  },
  {
   "cell_type": "code",
   "execution_count": 5,
   "metadata": {
    "ExecuteTime": {
     "end_time": "2018-12-19T03:12:21.138165Z",
     "start_time": "2018-12-19T03:12:21.132913Z"
    }
   },
   "outputs": [],
   "source": [
    "from skimage.measure import compare_ssim\n",
    "from skimage.measure import compare_mse\n",
    "from skimage.measure import compare_psnr"
   ]
  },
  {
   "cell_type": "code",
   "execution_count": 10,
   "metadata": {
    "ExecuteTime": {
     "end_time": "2018-12-19T03:15:15.306232Z",
     "start_time": "2018-12-19T03:15:11.079290Z"
    }
   },
   "outputs": [],
   "source": [
    "lr_mats_test,hr_mats_test,distance_all=hkl.load('./GM12878_primary/test_data_log_trans_scaled_sym.hkl')"
   ]
  },
  {
   "cell_type": "code",
   "execution_count": 8,
   "metadata": {
    "ExecuteTime": {
     "end_time": "2018-12-19T03:13:11.784866Z",
     "start_time": "2018-12-19T03:13:10.334645Z"
    }
   },
   "outputs": [
    {
     "name": "stdout",
     "output_type": "stream",
     "text": [
      "[TL] [*] Load ./checkpoint_easy/g_hicgan_300.npz SUCCESS!\n"
     ]
    }
   ],
   "source": [
    "def evaluate(gan_idx,batch=64):\n",
    "    sess = tf.Session(config=tf.ConfigProto(allow_soft_placement=True, log_device_placement=False))\n",
    "    tl.layers.initialize_global_variables(sess)\n",
    "    tl.files.load_and_assign_npz(sess=sess, name='./checkpoint_easy/g_hicgan_%d.npz'%gan_idx, network=net_g)\n",
    "    out = np.zeros(lr_mats_test.shape)\n",
    "    for i in range(out.shape[0]/batch):\n",
    "        out[batch*i:batch*(i+1)] = sess.run(net_g.outputs, {t_image: lr_mats_test[batch*i:batch*(i+1)]})\n",
    "    out[batch*(i+1):] = sess.run(net_g.outputs, {t_image: lr_mats_test[batch*(i+1):]})\n",
    "    return out\n",
    "sr_mats_pre = evaluate(300)"
   ]
  },
  {
   "cell_type": "code",
   "execution_count": 11,
   "metadata": {
    "ExecuteTime": {
     "end_time": "2018-12-19T03:15:22.201624Z",
     "start_time": "2018-12-19T03:15:21.736592Z"
    }
   },
   "outputs": [],
   "source": [
    "#transform from norm to reads count\n",
    "def trans_norm2readscount_hr(chrom,mat):\n",
    "    max_hr_contact = max([nb_hr_contacts[item] for item in nb_hr_contacts.keys()])\n",
    "    mat_hat=(mat+1)*0.5*max_hr_contact_norm[chrom]\n",
    "    return (np.exp2(mat_hat)-1)*nb_hr_contacts[chrom]/max_hr_contact\n",
    "    \n",
    "max_hr_contact_norm = hkl.load('./GM12878_primary/max_hr_contact_norm.hkl')\n",
    "max_lr_contact_norm = hkl.load('./GM12878_primary/max_lr_contact_norm.hkl')\n",
    "nb_hr_contacts = hkl.load('./GM12878_primary/nb_hr_contacts.hkl')\n",
    "nb_lr_contacts = hkl.load('./GM12878_primary/nb_lr_contacts.hkl')\n",
    "chrom_list=[item[1] for item in distance_all]\n",
    "sr_mats_pre_readscount=map(trans_norm2readscount_hr,chrom_list,sr_mats_pre[:,:,:,0])\n",
    "#for validation there is nothing wrong, compare hr_mats_test_readscount and hr_mats_test from test_data_raw_count.hkl\n",
    "#they should be exactly the same\n",
    "#hr_mats_test_readscount=map(trans_norm2readscount_hr,chrom_list,hr_mats_test[:,:,:,0])\n"
   ]
  },
  {
   "cell_type": "code",
   "execution_count": 12,
   "metadata": {
    "ExecuteTime": {
     "end_time": "2018-12-19T03:16:16.878403Z",
     "start_time": "2018-12-19T03:16:12.091788Z"
    }
   },
   "outputs": [],
   "source": [
    "_,hr_mats_test_readscount,_ = hkl.load('./GM12878_primary/test_data_raw_count.hkl')"
   ]
  },
  {
   "cell_type": "code",
   "execution_count": 217,
   "metadata": {
    "ExecuteTime": {
     "end_time": "2018-12-18T09:38:24.237046Z",
     "start_time": "2018-12-18T09:38:23.152629Z"
    }
   },
   "outputs": [
    {
     "data": {
      "text/plain": [
       "<matplotlib.image.AxesImage at 0x7f0e98f86f90>"
      ]
     },
     "execution_count": 217,
     "metadata": {},
     "output_type": "execute_result"
    },
    {
     "data": {
      "text/plain": [
       "<matplotlib.colorbar.Colorbar at 0x7f0e98edf290>"
      ]
     },
     "execution_count": 217,
     "metadata": {},
     "output_type": "execute_result"
    },
    {
     "data": {
      "image/png": "[encoded data removed]",
      "text/plain": [
       "<matplotlib.figure.Figure at 0x7f0e98fc1410>"
      ]
     },
     "metadata": {},
     "output_type": "display_data"
    },
    {
     "data": {
      "text/plain": [
       "<matplotlib.image.AxesImage at 0x7f0e98e53890>"
      ]
     },
     "execution_count": 217,
     "metadata": {},
     "output_type": "execute_result"
    },
    {
     "data": {
      "text/plain": [
       "<matplotlib.colorbar.Colorbar at 0x7f0e98e1e7d0>"
      ]
     },
     "execution_count": 217,
     "metadata": {},
     "output_type": "execute_result"
    },
    {
     "data": {
      "image/png": "[encoded data removed]",
      "text/plain": [
       "<matplotlib.figure.Figure at 0x7f0e99116f50>"
      ]
     },
     "metadata": {},
     "output_type": "display_data"
    },
    {
     "data": {
      "text/plain": [
       "<matplotlib.image.AxesImage at 0x7f0e98d9c8d0>"
      ]
     },
     "execution_count": 217,
     "metadata": {},
     "output_type": "execute_result"
    },
    {
     "data": {
      "text/plain": [
       "<matplotlib.colorbar.Colorbar at 0x7f0e98d6b7d0>"
      ]
     },
     "execution_count": 217,
     "metadata": {},
     "output_type": "execute_result"
    },
    {
     "data": {
      "image/png": "[encoded data removed]",
      "text/plain": [
       "<matplotlib.figure.Figure at 0x7f0e98e42490>"
      ]
     },
     "metadata": {},
     "output_type": "display_data"
    }
   ],
   "source": [
    "idx=40\n",
    "cmaps = ['Greys','Reds','YlOrBr','YlOrRd','hot']\n",
    "cmap = plt.get_cmap(cmaps[3])\n",
    "plt.imshow(sr_mats_pre_readscount[idx][6:34,6:34],cmap=cmap)\n",
    "plt.grid(False)\n",
    "plt.colorbar()\n",
    "plt.show()\n",
    "plt.imshow(Y_pre[idx],cmap=cmap)\n",
    "plt.grid(False)\n",
    "plt.colorbar()\n",
    "plt.show()\n",
    "plt.imshow(hr_mats_test_readscount[idx,6:34,6:34,0],cmap=cmap)\n",
    "plt.grid(False)\n",
    "plt.colorbar()\n",
    "plt.show()"
   ]
  },
  {
   "cell_type": "code",
   "execution_count": 254,
   "metadata": {
    "ExecuteTime": {
     "end_time": "2018-12-18T12:53:46.840864Z",
     "start_time": "2018-12-18T12:53:46.716041Z"
    }
   },
   "outputs": [
    {
     "data": {
      "text/plain": [
       "3215.147507253413"
      ]
     },
     "execution_count": 254,
     "metadata": {},
     "output_type": "execute_result"
    },
    {
     "data": {
      "text/plain": [
       "5137.0"
      ]
     },
     "execution_count": 254,
     "metadata": {},
     "output_type": "execute_result"
    },
    {
     "data": {
      "text/plain": [
       "0.0"
      ]
     },
     "execution_count": 254,
     "metadata": {},
     "output_type": "execute_result"
    },
    {
     "data": {
      "text/plain": [
       "0.0"
      ]
     },
     "execution_count": 254,
     "metadata": {},
     "output_type": "execute_result"
    }
   ],
   "source": [
    "#hr_mats_test_readscount=hr_mats_test_readscount.astype('float64')\n",
    "np.max(sr_mats_pre_readscount)\n",
    "np.max(hr_mats_test_readscount)\n",
    "np.min(sr_mats_pre_readscount)\n",
    "np.min(hr_mats_test_readscount)"
   ]
  },
  {
   "cell_type": "code",
   "execution_count": 13,
   "metadata": {
    "ExecuteTime": {
     "end_time": "2018-12-19T03:16:21.870051Z",
     "start_time": "2018-12-19T03:16:21.857331Z"
    }
   },
   "outputs": [],
   "source": [
    "def calculate_psnr(mat1,mat2):\n",
    "    data_range=np.max(mat1)-np.min(mat1)\n",
    "    err=compare_mse(mat1,mat2)\n",
    "    return 10 * np.log10((data_range ** 2) / err)\n",
    "def calculate_ssim(mat1,mat2):\n",
    "    data_range=np.max(mat1)-np.min(mat1)\n",
    "    return compare_ssim(mat1,mat2,data_range=data_range)"
   ]
  },
  {
   "cell_type": "code",
   "execution_count": 14,
   "metadata": {
    "ExecuteTime": {
     "end_time": "2018-12-19T03:16:29.016169Z",
     "start_time": "2018-12-19T03:16:26.435732Z"
    }
   },
   "outputs": [
    {
     "data": {
      "text/plain": [
       "0.031524656390000017"
      ]
     },
     "execution_count": 14,
     "metadata": {},
     "output_type": "execute_result"
    },
    {
     "data": {
      "text/plain": [
       "15.165395256803713"
      ]
     },
     "execution_count": 14,
     "metadata": {},
     "output_type": "execute_result"
    },
    {
     "data": {
      "text/plain": [
       "0.2114983329061766"
      ]
     },
     "execution_count": 14,
     "metadata": {},
     "output_type": "execute_result"
    }
   ],
   "source": [
    "mse_hicGAN_norm=map(compare_mse,hr_mats_test[:,:,:,0],sr_mats_pre[:,:,:,0])\n",
    "psnr_hicGAN_norm=map(calculate_psnr,hr_mats_test[:,:,:,0],sr_mats_pre[:,:,:,0])\n",
    "ssim_hicGAN_norm=map(calculate_ssim,hr_mats_test[:,:,:,0],sr_mats_pre[:,:,:,0])\n",
    "np.median(mse_hicGAN_norm)\n",
    "np.median(psnr_hicGAN_norm)\n",
    "np.median(ssim_hicGAN_norm)"
   ]
  },
  {
   "cell_type": "code",
   "execution_count": 301,
   "metadata": {
    "ExecuteTime": {
     "end_time": "2018-12-18T13:40:12.825816Z",
     "start_time": "2018-12-18T13:40:10.630757Z"
    }
   },
   "outputs": [
    {
     "data": {
      "text/plain": [
       "18.92418488956922"
      ]
     },
     "execution_count": 301,
     "metadata": {},
     "output_type": "execute_result"
    },
    {
     "data": {
      "text/plain": [
       "16.972512668165628"
      ]
     },
     "execution_count": 301,
     "metadata": {},
     "output_type": "execute_result"
    },
    {
     "data": {
      "text/plain": [
       "0.23878203226551947"
      ]
     },
     "execution_count": 301,
     "metadata": {},
     "output_type": "execute_result"
    }
   ],
   "source": [
    "mse_hicGAN=map(compare_mse,hr_mats_test_readscount[:,:,:,0],sr_mats_pre_readscount)\n",
    "psnr_hicGAN=map(calculate_psnr,hr_mats_test_readscount[:,:,:,0],sr_mats_pre_readscount)\n",
    "ssim_hicGAN=map(calculate_ssim,hr_mats_test_readscount[:,:,:,0],sr_mats_pre_readscount)\n",
    "np.median(mse_hicGAN)\n",
    "np.median(psnr_hicGAN)\n",
    "np.median(ssim_hicGAN)"
   ]
  },
  {
   "cell_type": "code",
   "execution_count": 165,
   "metadata": {
    "ExecuteTime": {
     "end_time": "2018-12-18T08:35:21.249780Z",
     "start_time": "2018-12-18T08:35:18.962881Z"
    }
   },
   "outputs": [
    {
     "data": {
      "text/plain": [
       "16.367188848878897"
      ]
     },
     "execution_count": 165,
     "metadata": {},
     "output_type": "execute_result"
    },
    {
     "data": {
      "text/plain": [
       "17.730949271285937"
      ]
     },
     "execution_count": 165,
     "metadata": {},
     "output_type": "execute_result"
    },
    {
     "data": {
      "text/plain": [
       "0.27520744028037347"
      ]
     },
     "execution_count": 165,
     "metadata": {},
     "output_type": "execute_result"
    }
   ],
   "source": [
    "#best so far\n",
    "mse_hicGAN=map(compare_mse,hr_mats_test_readscount[:,:,:,0],sr_mats_pre_readscount)\n",
    "psnr_hicGAN=map(calculate_psnr,hr_mats_test_readscount[:,:,:,0],sr_mats_pre_readscount)\n",
    "ssim_hicGAN=map(calculate_ssim,hr_mats_test_readscount[:,:,:,0],sr_mats_pre_readscount)\n",
    "np.median(mse_hicGAN)\n",
    "np.median(psnr_hicGAN)\n",
    "np.median(ssim_hicGAN)"
   ]
  },
  {
   "cell_type": "code",
   "execution_count": 118,
   "metadata": {
    "ExecuteTime": {
     "end_time": "2018-12-17T15:06:01.579669Z",
     "start_time": "2018-12-17T15:06:00.778731Z"
    }
   },
   "outputs": [],
   "source": [
    "#load hicPlus data\n",
    "Y_test_crop,Y_pre = hkl.load('./GM12878_primary/hicPlus_pre.hkl')"
   ]
  },
  {
   "cell_type": "code",
   "execution_count": 166,
   "metadata": {
    "ExecuteTime": {
     "end_time": "2018-12-18T08:35:24.284769Z",
     "start_time": "2018-12-18T08:35:22.406252Z"
    }
   },
   "outputs": [
    {
     "data": {
      "text/plain": [
       "25.869742942854582"
      ]
     },
     "execution_count": 166,
     "metadata": {},
     "output_type": "execute_result"
    },
    {
     "data": {
      "text/plain": [
       "13.317420576092731"
      ]
     },
     "execution_count": 166,
     "metadata": {},
     "output_type": "execute_result"
    },
    {
     "data": {
      "text/plain": [
       "0.28485226247188344"
      ]
     },
     "execution_count": 166,
     "metadata": {},
     "output_type": "execute_result"
    }
   ],
   "source": [
    "mse_hicPlus=map(compare_mse,Y_test_crop,Y_pre)\n",
    "psnr_hicPlus=map(calculate_psnr,Y_test_crop,Y_pre)\n",
    "ssim_hicPlus=map(calculate_ssim,Y_test_crop,Y_pre)\n",
    "np.median(mse_hicPlus)\n",
    "np.median(psnr_hicPlus)\n",
    "np.median(ssim_hicPlus)"
   ]
  },
  {
   "cell_type": "code",
   "execution_count": 173,
   "metadata": {
    "ExecuteTime": {
     "end_time": "2018-12-18T08:38:42.827667Z",
     "start_time": "2018-12-18T08:38:42.794478Z"
    }
   },
   "outputs": [],
   "source": [
    "ind_0,ind_40,ind_80,ind_120,ind_160=[],[],[],[],[]\n",
    "for i in range(len(distance_all)):\n",
    "    if abs(distance_all[i][0])==0:\n",
    "        ind_0.append(i)\n",
    "    elif abs(distance_all[i][0])==40:\n",
    "        ind_40.append(i)\n",
    "    elif abs(distance_all[i][0])==80:\n",
    "        ind_80.append(i)\n",
    "    elif abs(distance_all[i][0])==120:\n",
    "        ind_120.append(i)\n",
    "    elif abs(distance_all[i][0])==160:\n",
    "        ind_160.append(i)\n",
    "    else:\n",
    "        print 'error'"
   ]
  },
  {
   "cell_type": "code",
   "execution_count": 180,
   "metadata": {
    "ExecuteTime": {
     "end_time": "2018-12-18T08:45:14.438244Z",
     "start_time": "2018-12-18T08:45:14.426608Z"
    }
   },
   "outputs": [
    {
     "data": {
      "text/plain": [
       "21534.73058098359"
      ]
     },
     "execution_count": 180,
     "metadata": {},
     "output_type": "execute_result"
    },
    {
     "data": {
      "text/plain": [
       "5503.80604091826"
      ]
     },
     "execution_count": 180,
     "metadata": {},
     "output_type": "execute_result"
    }
   ],
   "source": [
    "np.max(mse_hicGAN)\n",
    "np.max(mse_hicPlus)"
   ]
  },
  {
   "cell_type": "code",
   "execution_count": 247,
   "metadata": {
    "ExecuteTime": {
     "end_time": "2018-12-18T12:50:39.472306Z",
     "start_time": "2018-12-18T12:50:39.445355Z"
    }
   },
   "outputs": [],
   "source": [
    "data_mse_hicGAN = [np.array(mse_hicGAN)[ind_0],np.array(mse_hicGAN)[ind_40],np.array(mse_hicGAN)[ind_80],np.array(mse_hicGAN)[ind_120],np.array(mse_hicGAN)[ind_160]]\n",
    "data_ssim_hicGAN = [np.array(psnr_hicGAN)[ind_0],np.array(psnr_hicGAN)[ind_40],np.array(psnr_hicGAN)[ind_80],np.array(psnr_hicGAN)[ind_120],np.array(psnr_hicGAN)[ind_160]]\n",
    "data_psnr_hicGAN = [np.array(ssim_hicGAN)[ind_0],np.array(ssim_hicGAN)[ind_40],np.array(ssim_hicGAN)[ind_80],np.array(ssim_hicGAN)[ind_120],np.array(ssim_hicGAN)[ind_160]]"
   ]
  },
  {
   "cell_type": "code",
   "execution_count": 303,
   "metadata": {
    "ExecuteTime": {
     "end_time": "2018-12-18T13:41:25.181905Z",
     "start_time": "2018-12-18T13:41:25.167662Z"
    }
   },
   "outputs": [],
   "source": [
    "data_mse_hicGAN_norm = [np.array(mse_hicGAN_norm)[ind_0],np.array(mse_hicGAN_norm)[ind_40],np.array(mse_hicGAN_norm)[ind_80],np.array(mse_hicGAN_norm)[ind_120],np.array(mse_hicGAN_norm)[ind_160]]\n",
    "data_ssim_hicGAN_norm = [np.array(psnr_hicGAN_norm)[ind_0],np.array(psnr_hicGAN_norm)[ind_40],np.array(psnr_hicGAN_norm)[ind_80],np.array(psnr_hicGAN_norm)[ind_120],np.array(psnr_hicGAN_norm)[ind_160]]\n",
    "data_psnr_hicGAN_norm = [np.array(ssim_hicGAN_norm)[ind_0],np.array(ssim_hicGAN_norm)[ind_40],np.array(ssim_hicGAN_norm)[ind_80],np.array(ssim_hicGAN_norm)[ind_120],np.array(ssim_hicGAN_norm)[ind_160]]"
   ]
  },
  {
   "cell_type": "code",
   "execution_count": 181,
   "metadata": {
    "ExecuteTime": {
     "end_time": "2018-12-18T08:46:50.529282Z",
     "start_time": "2018-12-18T08:46:50.510070Z"
    }
   },
   "outputs": [],
   "source": [
    "data_mse_hicPlus = [np.array(mse_hicPlus)[ind_0],np.array(mse_hicPlus)[ind_40],np.array(mse_hicPlus)[ind_80],np.array(mse_hicPlus)[ind_120],np.array(mse_hicPlus)[ind_160]]\n",
    "data_ssim_hicPlus = [np.array(psnr_hicPlus)[ind_0],np.array(psnr_hicPlus)[ind_40],np.array(psnr_hicPlus)[ind_80],np.array(psnr_hicPlus)[ind_120],np.array(psnr_hicPlus)[ind_160]]\n",
    "data_psnr_hicPlus = [np.array(ssim_hicPlus)[ind_0],np.array(ssim_hicPlus)[ind_40],np.array(ssim_hicPlus)[ind_80],np.array(ssim_hicPlus)[ind_120],np.array(ssim_hicPlus)[ind_160]]"
   ]
  },
  {
   "cell_type": "code",
   "execution_count": 236,
   "metadata": {
    "ExecuteTime": {
     "end_time": "2018-12-18T12:39:32.703256Z",
     "start_time": "2018-12-18T12:39:32.362778Z"
    }
   },
   "outputs": [
    {
     "data": {
      "text/plain": [
       "{'boxes': [<matplotlib.lines.Line2D at 0x7f0e98a56410>,\n",
       "  <matplotlib.lines.Line2D at 0x7f0e989fab10>,\n",
       "  <matplotlib.lines.Line2D at 0x7f0e989915d0>,\n",
       "  <matplotlib.lines.Line2D at 0x7f0e989a6090>,\n",
       "  <matplotlib.lines.Line2D at 0x7f0e989b3b10>],\n",
       " 'caps': [<matplotlib.lines.Line2D at 0x7f0e98a56c50>,\n",
       "  <matplotlib.lines.Line2D at 0x7f0e989fa050>,\n",
       "  <matplotlib.lines.Line2D at 0x7f0e98a05710>,\n",
       "  <matplotlib.lines.Line2D at 0x7f0e98a05ad0>,\n",
       "  <matplotlib.lines.Line2D at 0x7f0e9899c1d0>,\n",
       "  <matplotlib.lines.Line2D at 0x7f0e9899c590>,\n",
       "  <matplotlib.lines.Line2D at 0x7f0e989a6c50>,\n",
       "  <matplotlib.lines.Line2D at 0x7f0e989b3050>,\n",
       "  <matplotlib.lines.Line2D at 0x7f0e989be710>,\n",
       "  <matplotlib.lines.Line2D at 0x7f0e989bead0>],\n",
       " 'fliers': [<matplotlib.lines.Line2D at 0x7f0e989fa7d0>,\n",
       "  <matplotlib.lines.Line2D at 0x7f0e98991290>,\n",
       "  <matplotlib.lines.Line2D at 0x7f0e9899cd10>,\n",
       "  <matplotlib.lines.Line2D at 0x7f0e989b37d0>,\n",
       "  <matplotlib.lines.Line2D at 0x7f0e989c9290>],\n",
       " 'means': [],\n",
       " 'medians': [<matplotlib.lines.Line2D at 0x7f0e989fa410>,\n",
       "  <matplotlib.lines.Line2D at 0x7f0e98a05e90>,\n",
       "  <matplotlib.lines.Line2D at 0x7f0e9899c950>,\n",
       "  <matplotlib.lines.Line2D at 0x7f0e989b3410>,\n",
       "  <matplotlib.lines.Line2D at 0x7f0e989bee90>],\n",
       " 'whiskers': [<matplotlib.lines.Line2D at 0x7f0e98a564d0>,\n",
       "  <matplotlib.lines.Line2D at 0x7f0e98a56890>,\n",
       "  <matplotlib.lines.Line2D at 0x7f0e989faf50>,\n",
       "  <matplotlib.lines.Line2D at 0x7f0e98a05350>,\n",
       "  <matplotlib.lines.Line2D at 0x7f0e98991a10>,\n",
       "  <matplotlib.lines.Line2D at 0x7f0e98991dd0>,\n",
       "  <matplotlib.lines.Line2D at 0x7f0e989a64d0>,\n",
       "  <matplotlib.lines.Line2D at 0x7f0e989a6890>,\n",
       "  <matplotlib.lines.Line2D at 0x7f0e989b3f50>,\n",
       "  <matplotlib.lines.Line2D at 0x7f0e989be350>]}"
      ]
     },
     "execution_count": 236,
     "metadata": {},
     "output_type": "execute_result"
    },
    {
     "data": {
      "text/plain": [
       "Text(0.5,1,u'MSE')"
      ]
     },
     "execution_count": 236,
     "metadata": {},
     "output_type": "execute_result"
    },
    {
     "data": {
      "image/png": "[encoded data removed]",
      "text/plain": [
       "<matplotlib.figure.Figure at 0x7f0e98ba7910>"
      ]
     },
     "metadata": {},
     "output_type": "display_data"
    }
   ],
   "source": [
    "import seaborn as sns\n",
    "sns.set_style(\"whitegrid\")  # 白色网格背景\n",
    "fig, axes = plt.subplots(nrows=1, ncols=1, figsize=(3, 6), sharey=True)\n",
    "axes.grid(False)\n",
    "axes.boxplot(data_mse_hicGAN_norm)\n",
    "axes.set_title('MSE', fontsize=10)\n",
    "# axes[1].boxplot(data_ssim)\n",
    "# axes[1].set_title('SSIM', fontsize=10)\n",
    "# axes[2].boxplot(data_psnr)\n",
    "# axes[2].set_title('PSNR', fontsize=10)\n",
    "#plt.savefig('boxplot_psnr.pdf')\n",
    "plt.show()"
   ]
  },
  {
   "cell_type": "code",
   "execution_count": 191,
   "metadata": {
    "ExecuteTime": {
     "end_time": "2018-12-18T09:01:16.646059Z",
     "start_time": "2018-12-18T09:01:16.638197Z"
    }
   },
   "outputs": [
    {
     "data": {
      "text/plain": [
       "array([[1, 2],\n",
       "       [3, 4]])"
      ]
     },
     "execution_count": 191,
     "metadata": {},
     "output_type": "execute_result"
    },
    {
     "data": {
      "text/plain": [
       "array([3])"
      ]
     },
     "execution_count": 191,
     "metadata": {},
     "output_type": "execute_result"
    },
    {
     "data": {
      "text/plain": [
       "array([2])"
      ]
     },
     "execution_count": 191,
     "metadata": {},
     "output_type": "execute_result"
    }
   ],
   "source": [
    "a=np.array([[1,2],[3,4]])\n",
    "a\n",
    "a.diagonal(offset=-1)\n",
    "a.diagonal(offset=1)"
   ]
  },
  {
   "cell_type": "code",
   "execution_count": 248,
   "metadata": {
    "ExecuteTime": {
     "end_time": "2018-12-18T12:50:55.333097Z",
     "start_time": "2018-12-18T12:50:52.182493Z"
    }
   },
   "outputs": [],
   "source": [
    "dic={}\n",
    "for i in range(200):\n",
    "    dic[i]=[[],[]]#true and pre\n",
    "for i in range(len(distance_all)):\n",
    "    for j in range(-39,40,1):\n",
    "        dis = distance_all[i][0]-j\n",
    "        dic[abs(dis)][0]+=hr_mats_test_readscount[i,:,:,0].diagonal(offset=j).tolist()\n",
    "        dic[abs(dis)][1]+=sr_mats_pre_readscount[i].diagonal(offset=j).tolist()"
   ]
  },
  {
   "cell_type": "code",
   "execution_count": 304,
   "metadata": {
    "ExecuteTime": {
     "end_time": "2018-12-18T13:41:39.181769Z",
     "start_time": "2018-12-18T13:41:36.544815Z"
    }
   },
   "outputs": [],
   "source": [
    "dic_norm={}\n",
    "for i in range(200):\n",
    "    dic_norm[i]=[[],[]]#true and pre\n",
    "for i in range(len(distance_all)):\n",
    "    for j in range(-39,40,1):\n",
    "        dis = distance_all[i][0]-j\n",
    "        dic_norm[abs(dis)][0]+=hr_mats_test[i,:,:,0].diagonal(offset=j).tolist()\n",
    "        dic_norm[abs(dis)][1]+=sr_mats_pre[i,:,:,0].diagonal(offset=j).tolist()"
   ]
  },
  {
   "cell_type": "code",
   "execution_count": 227,
   "metadata": {
    "ExecuteTime": {
     "end_time": "2018-12-18T09:51:48.436139Z",
     "start_time": "2018-12-18T09:51:46.508601Z"
    }
   },
   "outputs": [],
   "source": [
    "dic_hicPlus={}\n",
    "for i in range(200):\n",
    "    dic_hicPlus[i]=[[],[]]#true and pre\n",
    "for i in range(len(distance_all)):\n",
    "    for j in range(-27,28,1):\n",
    "        dis = distance_all[i][0]-j\n",
    "        dic_hicPlus[abs(dis)][0]+=Y_test_crop[i].diagonal(offset=j).tolist()\n",
    "        dic_hicPlus[abs(dis)][1]+=Y_pre[i].diagonal(offset=j).tolist()"
   ]
  },
  {
   "cell_type": "code",
   "execution_count": 155,
   "metadata": {
    "ExecuteTime": {
     "end_time": "2018-10-10T04:26:53.062757Z",
     "start_time": "2018-10-10T04:25:38.449780Z"
    }
   },
   "outputs": [],
   "source": [
    "dic={}\n",
    "for i in range(200):\n",
    "    dic[i]=[[],[]]#true and pre\n",
    "for i in range(sr_mats_pre_readscount.shape[0]):\n",
    "    for ii in range(40):\n",
    "        for jj in range(40):\n",
    "            dis = distance_all[i][0]+ii-jj\n",
    "            if out[i][ii][jj][0]==0 and dis==0:\n",
    "                print i,ii,jj\n",
    "                sys.exit()\n",
    "            dic[abs(dis)][0].append(hr_mats_test[i][ii][jj][0])\n",
    "            dic[abs(dis)][1].append(lr_mats_test[i][ii][jj][0])\n",
    "    "
   ]
  },
  {
   "cell_type": "code",
   "execution_count": 194,
   "metadata": {
    "ExecuteTime": {
     "end_time": "2018-12-18T09:05:20.436156Z",
     "start_time": "2018-12-18T09:05:20.292771Z"
    }
   },
   "outputs": [
    {
     "data": {
      "text/plain": [
       "(0.9386172095542112, 0.0)"
      ]
     },
     "execution_count": 194,
     "metadata": {},
     "output_type": "execute_result"
    }
   ],
   "source": [
    "scipy.stats.pearsonr(dic[1][0],dic[1][1])"
   ]
  },
  {
   "cell_type": "code",
   "execution_count": 156,
   "metadata": {
    "ExecuteTime": {
     "end_time": "2018-10-10T04:27:01.942130Z",
     "start_time": "2018-10-10T04:27:01.914722Z"
    }
   },
   "outputs": [
    {
     "data": {
      "text/plain": [
       "(0.9806626049349695, 0.0)"
      ]
     },
     "execution_count": 156,
     "metadata": {},
     "output_type": "execute_result"
    }
   ],
   "source": [
    "scipy.stats.pearsonr(dic[1][0],dic[1][1])"
   ]
  },
  {
   "cell_type": "code",
   "execution_count": 305,
   "metadata": {
    "ExecuteTime": {
     "end_time": "2018-12-18T13:41:44.567185Z",
     "start_time": "2018-12-18T13:41:42.428256Z"
    }
   },
   "outputs": [],
   "source": [
    "y=[]\n",
    "y_norm=[]\n",
    "y_hicPlus=[]\n",
    "for i in range(200):\n",
    "    y.append(scipy.stats.pearsonr(dic[i][0],dic[i][1])[0])\n",
    "    y_norm.append(scipy.stats.pearsonr(dic_norm[i][0],dic_norm[i][1])[0])\n",
    "    y_hicPlus.append(scipy.stats.pearsonr(dic_hicPlus[i][0],dic_hicPlus[i][1])[0])\n",
    "    \n",
    "    "
   ]
  },
  {
   "cell_type": "code",
   "execution_count": 220,
   "metadata": {
    "ExecuteTime": {
     "end_time": "2018-12-18T09:44:42.807668Z",
     "start_time": "2018-12-18T09:44:42.744845Z"
    }
   },
   "outputs": [
    {
     "name": "stdout",
     "output_type": "stream",
     "text": [
      "0 0.9175817572349901\n",
      "1 0.9386172095542112\n",
      "2 0.940545573502152\n",
      "3 0.9442855078069214\n",
      "4 0.9429679212953898\n",
      "5 0.9397810465026735\n",
      "6 0.9421940177830774\n",
      "7 0.9397155628655178\n",
      "8 0.9394574545468051\n",
      "9 0.9383925783250733\n",
      "10 0.9394657985170514\n",
      "11 0.9350417085622663\n",
      "12 0.9331936289298125\n",
      "13 0.9336866189524194\n",
      "14 0.9318235470037355\n",
      "15 0.928528689443862\n",
      "16 0.9271185090888217\n",
      "17 0.9247042440360209\n",
      "18 0.9246519669135078\n",
      "19 0.9238055519473083\n",
      "20 0.9181639269943156\n",
      "21 0.9182705036123935\n",
      "22 0.914205878261441\n",
      "23 0.9111546634404531\n",
      "24 0.9060408247864888\n",
      "25 0.8997837813642419\n",
      "26 0.8983671813147572\n",
      "27 0.8924675255264448\n",
      "28 0.8839212992560348\n",
      "29 0.8799032226605249\n",
      "30 0.8694962030477065\n",
      "31 0.861453949271726\n",
      "32 0.8499662398547235\n",
      "33 0.843992818848518\n",
      "34 0.8356872342441819\n",
      "35 0.8353858478338005\n",
      "36 0.8393678962305647\n",
      "37 0.8446773683949035\n",
      "38 0.8488824310551732\n",
      "39 0.8436473481086161\n",
      "40 0.8461584835815461\n",
      "41 0.8609089740607095\n",
      "42 0.8637896202756095\n",
      "43 0.8678998340423982\n",
      "44 0.871421560459674\n",
      "45 0.8759360238709623\n",
      "46 0.8806523052418808\n",
      "47 0.8836496301204892\n",
      "48 0.8844618933152925\n",
      "49 0.8887126909066174\n",
      "50 0.8919148516171865\n",
      "51 0.8990208409558831\n",
      "52 0.903380041045399\n",
      "53 0.9073871864869973\n",
      "54 0.9095366904466987\n",
      "55 0.9115803503195646\n",
      "56 0.9147044891365033\n",
      "57 0.9174213376438423\n",
      "58 0.9211434140587937\n",
      "59 0.9234821039886842\n",
      "60 0.9292081388821906\n",
      "61 0.9302802941509578\n",
      "62 0.9346481126783109\n",
      "63 0.9357246959506023\n",
      "64 0.9381382644991921\n",
      "65 0.9408310067693045\n",
      "66 0.9400976732641649\n",
      "67 0.9390698194952071\n",
      "68 0.9400978216358464\n",
      "69 0.9430417275818833\n",
      "70 0.9462017551781831\n",
      "71 0.9453510635978734\n",
      "72 0.9440009918016234\n",
      "73 0.9506021855991607\n",
      "74 0.9499819101682487\n",
      "75 0.9504047052727316\n",
      "76 0.9573969773338332\n",
      "77 0.9591902069667807\n",
      "78 0.9524049576078738\n",
      "79 0.9606870633412985\n",
      "80 0.7237429385299469\n",
      "81 0.7377710935184955\n",
      "82 0.7349706290424263\n",
      "83 0.7476752651715556\n",
      "84 0.7476466851667886\n",
      "85 0.7618387719287584\n",
      "86 0.763515695588605\n",
      "87 0.7679702913217242\n",
      "88 0.7704113433223562\n",
      "89 0.7711003752753963\n",
      "90 0.7720227166965551\n",
      "91 0.7760764129492131\n",
      "92 0.7858694669690327\n",
      "93 0.7883206658408599\n",
      "94 0.7917535276242199\n",
      "95 0.7966624071448648\n",
      "96 0.801931437941032\n",
      "97 0.8006978882904302\n",
      "98 0.8043905735246908\n",
      "99 0.8114175247882568\n",
      "100 0.8168264424365973\n",
      "101 0.8184279244977349\n",
      "102 0.8203411116380632\n",
      "103 0.8203335233869262\n",
      "104 0.8244898944598672\n",
      "105 0.825527722289697\n",
      "106 0.8282667536112815\n",
      "107 0.836512023925626\n",
      "108 0.8396149021309651\n",
      "109 0.8433024462083941\n",
      "110 0.85337388461131\n",
      "111 0.8632448966203745\n",
      "112 0.8624354956724412\n",
      "113 0.8553261415971071\n",
      "114 0.845902692201418\n",
      "115 0.8441849006894648\n",
      "116 0.8293227712666607\n",
      "117 0.8235595484612043\n",
      "118 0.7892371280506986\n",
      "119 0.7299096614371291\n",
      "120 0.6443502432681734\n",
      "121 0.6454711981156809\n",
      "122 0.652592198847493\n",
      "123 0.6524850167357713\n",
      "124 0.6574503453193111\n",
      "125 0.6607318457611062\n",
      "126 0.6515884121007167\n",
      "127 0.6580735034301477\n",
      "128 0.6580963525668829\n",
      "129 0.6638411423595837\n",
      "130 0.6578554873384154\n",
      "131 0.6682571666669193\n",
      "132 0.6670698034695861\n",
      "133 0.6729357655506283\n",
      "134 0.6633769758394957\n",
      "135 0.6729650070860623\n",
      "136 0.6749504540463888\n",
      "137 0.6771078183699907\n",
      "138 0.6719756301605939\n",
      "139 0.6756589331531354\n",
      "140 0.6809554858772933\n",
      "141 0.6840701448760014\n",
      "142 0.6846446464215298\n",
      "143 0.6869252301195249\n",
      "144 0.6937041106105803\n",
      "145 0.7017981546342453\n",
      "146 0.7223487375427053\n",
      "147 0.7156544594587655\n",
      "148 0.7183019582323342\n",
      "149 0.7191180781560901\n",
      "150 0.7339298917730814\n",
      "151 0.725526506957976\n",
      "152 0.7120232167962252\n",
      "153 0.6952077883513157\n",
      "154 0.6894886325152771\n",
      "155 0.6824341771591009\n",
      "156 0.6652019463259957\n",
      "157 0.6608997078737122\n",
      "158 0.6225860073628673\n",
      "159 0.6037597838216935\n",
      "160 0.5636822826914913\n",
      "161 0.5699717803952964\n",
      "162 0.5738956377443392\n",
      "163 0.5813386729189529\n",
      "164 0.5989629165909336\n",
      "165 0.5927290532096341\n",
      "166 0.5783467522479018\n",
      "167 0.5834366196749864\n",
      "168 0.5690479631675865\n",
      "169 0.5697417788302797\n",
      "170 0.568550497456103\n",
      "171 0.5585056883110977\n",
      "172 0.5607143250116688\n",
      "173 0.5561858893144686\n",
      "174 0.565836186886858\n",
      "175 0.5649419682781889\n",
      "176 0.5724295709686491\n",
      "177 0.5712843741645317\n",
      "178 0.5667114354842457\n",
      "179 0.5684914585993492\n",
      "180 0.5562095653063205\n",
      "181 0.5548824873728238\n",
      "182 0.5631325964414068\n",
      "183 0.563531998899366\n",
      "184 0.5652483578950351\n",
      "185 0.5642531157352889\n",
      "186 0.5800942481094767\n",
      "187 0.581173289622339\n",
      "188 0.591429498374129\n",
      "189 0.5841806197469206\n",
      "190 0.5920655024890569\n",
      "191 0.5641191913610613\n",
      "192 0.5721535520708231\n",
      "193 0.5811954803596246\n",
      "194 0.6064852326472703\n",
      "195 0.6631361011850528\n",
      "196 0.6314723637017225\n",
      "197 0.6430823569682131\n",
      "198 0.6420941911216411\n",
      "199 0.6053177094953407\n"
     ]
    }
   ],
   "source": [
    "for i in range(200):\n",
    "    print i,y[i]"
   ]
  },
  {
   "cell_type": "code",
   "execution_count": 159,
   "metadata": {
    "ExecuteTime": {
     "end_time": "2018-10-10T04:28:19.384941Z",
     "start_time": "2018-10-10T04:28:19.377484Z"
    }
   },
   "outputs": [
    {
     "data": {
      "text/plain": [
       "[0.9928730956673579,\n",
       " 0.9806626049349695,\n",
       " 0.9593037614923982,\n",
       " 0.9349836090471172,\n",
       " 0.911518068672931,\n",
       " 0.8926379923590532,\n",
       " 0.8708091325604917,\n",
       " 0.8543951849676105,\n",
       " 0.8350257801105727,\n",
       " 0.8224163742401144]"
      ]
     },
     "execution_count": 159,
     "metadata": {},
     "output_type": "execute_result"
    },
    {
     "data": {
      "text/plain": [
       "[0.9900924493815453,\n",
       " 0.9898480078900854,\n",
       " 0.9885496715668961,\n",
       " 0.9874297284385198,\n",
       " 0.9852827989894609,\n",
       " 0.9850578404489433,\n",
       " 0.9834741360571855,\n",
       " 0.9819125089912305,\n",
       " 0.980683206341195,\n",
       " 0.9794934716616951]"
      ]
     },
     "execution_count": 159,
     "metadata": {},
     "output_type": "execute_result"
    }
   ],
   "source": [
    "y_low[:10]\n",
    "y[:10]"
   ]
  },
  {
   "cell_type": "code",
   "execution_count": 306,
   "metadata": {
    "ExecuteTime": {
     "end_time": "2018-12-18T13:41:53.636842Z",
     "start_time": "2018-12-18T13:41:52.286839Z"
    }
   },
   "outputs": [
    {
     "data": {
      "text/plain": [
       "[<matplotlib.lines.Line2D at 0x7f0e99ede490>]"
      ]
     },
     "execution_count": 306,
     "metadata": {},
     "output_type": "execute_result"
    },
    {
     "data": {
      "text/plain": [
       "[<matplotlib.lines.Line2D at 0x7f0e988343d0>]"
      ]
     },
     "execution_count": 306,
     "metadata": {},
     "output_type": "execute_result"
    },
    {
     "data": {
      "text/plain": [
       "(0, 1)"
      ]
     },
     "execution_count": 306,
     "metadata": {},
     "output_type": "execute_result"
    },
    {
     "data": {
      "text/plain": [
       "Text(0.5,0,u'genomic distance(10kb)')"
      ]
     },
     "execution_count": 306,
     "metadata": {},
     "output_type": "execute_result"
    },
    {
     "data": {
      "text/plain": [
       "Text(0,0.5,u'Pearson r')"
      ]
     },
     "execution_count": 306,
     "metadata": {},
     "output_type": "execute_result"
    },
    {
     "data": {
      "text/plain": [
       "<matplotlib.legend.Legend at 0x7f0e98d35cd0>"
      ]
     },
     "execution_count": 306,
     "metadata": {},
     "output_type": "execute_result"
    },
    {
     "data": {
      "image/png": "[encoded data removed]",
      "text/plain": [
       "<matplotlib.figure.Figure at 0x7f0e99cb1750>"
      ]
     },
     "metadata": {},
     "output_type": "display_data"
    }
   ],
   "source": [
    "sns.set_style(\"whitegrid\")  # 白色网格背景\n",
    "fig, axes = plt.subplots(nrows=1, ncols=1, figsize=(6, 4), sharey=True)\n",
    "axes.grid(False)\n",
    "axes.plot(list(range(200)),y_norm,'r',label='SR vs HR')\n",
    "axes.plot(list(range(200)),y_hicPlus,'b',label='LR vs HR')\n",
    "plt.ylim(0,1)\n",
    "#plt.ylim(0,100)\n",
    "plt.xlabel('genomic distance(10kb)')\n",
    "plt.ylabel('Pearson r')\n",
    "#plt.xlim(0,120)\n",
    "plt.legend()\n",
    "plt.show()"
   ]
  },
  {
   "cell_type": "code",
   "execution_count": 179,
   "metadata": {
    "ExecuteTime": {
     "end_time": "2018-10-14T05:26:53.480508Z",
     "start_time": "2018-10-14T05:26:52.823551Z"
    }
   },
   "outputs": [
    {
     "data": {
      "text/plain": [
       "[<matplotlib.lines.Line2D at 0x7f1bfa682090>]"
      ]
     },
     "execution_count": 179,
     "metadata": {},
     "output_type": "execute_result"
    },
    {
     "data": {
      "text/plain": [
       "[<matplotlib.lines.Line2D at 0x7f1bf984a490>]"
      ]
     },
     "execution_count": 179,
     "metadata": {},
     "output_type": "execute_result"
    },
    {
     "data": {
      "text/plain": [
       "(0, 1)"
      ]
     },
     "execution_count": 179,
     "metadata": {},
     "output_type": "execute_result"
    },
    {
     "data": {
      "text/plain": [
       "Text(0.5,0,u'genomic distance(10kb)')"
      ]
     },
     "execution_count": 179,
     "metadata": {},
     "output_type": "execute_result"
    },
    {
     "data": {
      "text/plain": [
       "Text(0,0.5,u'Pearson r')"
      ]
     },
     "execution_count": 179,
     "metadata": {},
     "output_type": "execute_result"
    },
    {
     "data": {
      "text/plain": [
       "<matplotlib.legend.Legend at 0x7f1bf97e0d10>"
      ]
     },
     "execution_count": 179,
     "metadata": {},
     "output_type": "execute_result"
    },
    {
     "data": {
      "image/png": "[encoded data removed]",
      "text/plain": [
       "<matplotlib.figure.Figure at 0x7f1bf984a550>"
      ]
     },
     "metadata": {},
     "output_type": "display_data"
    }
   ],
   "source": [
    "sns.set_style(\"whitegrid\")  # 白色网格背景\n",
    "fig, axes = plt.subplots(nrows=1, ncols=1, figsize=(6, 4), sharey=True)\n",
    "axes.grid(False)\n",
    "axes.plot(list(range(200)),y,'r',label='SR vs HR')\n",
    "#axes.plot(x,y_low,'b',label='LR vs HR')\n",
    "plt.ylim(0,1)\n",
    "#plt.ylim(0,100)\n",
    "plt.xlabel('genomic distance(10kb)')\n",
    "plt.ylabel('Pearson r')\n",
    "plt.legend()\n",
    "plt.show()"
   ]
  },
  {
   "cell_type": "code",
   "execution_count": 160,
   "metadata": {
    "ExecuteTime": {
     "end_time": "2018-10-10T13:36:27.777494Z",
     "start_time": "2018-10-10T13:36:24.688635Z"
    }
   },
   "outputs": [
    {
     "data": {
      "text/plain": [
       "[<matplotlib.lines.Line2D at 0x7f1bfb65f790>]"
      ]
     },
     "execution_count": 160,
     "metadata": {},
     "output_type": "execute_result"
    },
    {
     "data": {
      "text/plain": [
       "(0, 1)"
      ]
     },
     "execution_count": 160,
     "metadata": {},
     "output_type": "execute_result"
    },
    {
     "data": {
      "text/plain": [
       "Text(0.5,0,u'genomic distance(10kb)')"
      ]
     },
     "execution_count": 160,
     "metadata": {},
     "output_type": "execute_result"
    },
    {
     "data": {
      "text/plain": [
       "Text(0,0.5,u'Pearson r')"
      ]
     },
     "execution_count": 160,
     "metadata": {},
     "output_type": "execute_result"
    },
    {
     "data": {
      "image/png": "[encoded data removed]",
      "text/plain": [
       "<matplotlib.figure.Figure at 0x7f1bfb58b410>"
      ]
     },
     "metadata": {},
     "output_type": "display_data"
    }
   ],
   "source": [
    "sns.set_style(\"whitegrid\")  # 白色网格背景\n",
    "fig, axes = plt.subplots(nrows=1, ncols=1, figsize=(6, 4), sharey=True)\n",
    "axes.grid(False)\n",
    "axes.plot(x,y,'r')\n",
    "plt.ylim(0,1)\n",
    "#plt.ylim(0,100)\n",
    "plt.xlabel('genomic distance(10kb)')\n",
    "plt.ylabel('Pearson r')\n",
    "plt.show()"
   ]
  },
  {
   "cell_type": "code",
   "execution_count": null,
   "metadata": {},
   "outputs": [],
   "source": []
  }
 ],
 "metadata": {
  "kernelspec": {
   "display_name": "Python 2",
   "language": "python",
   "name": "python2"
  },
  "language_info": {
   "codemirror_mode": {
    "name": "ipython",
    "version": 2
   },
   "file_extension": ".py",
   "mimetype": "text/x-python",
   "name": "python",
   "nbconvert_exporter": "python",
   "pygments_lexer": "ipython2",
   "version": "2.7.14"
  },
  "toc": {
   "base_numbering": 1,
   "nav_menu": {},
   "number_sections": true,
   "sideBar": true,
   "skip_h1_title": false,
   "title_cell": "Table of Contents",
   "title_sidebar": "Contents",
   "toc_cell": false,
   "toc_position": {},
   "toc_section_display": true,
   "toc_window_display": false
  }
 },
 "nbformat": 4,
 "nbformat_minor": 2
}
