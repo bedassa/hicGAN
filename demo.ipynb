{
 "cells": [
  {
   "cell_type": "markdown",
   "metadata": {},
   "source": [
    "# 1 Download Hi-C raw data"
   ]
  },
  {
   "cell_type": "markdown",
   "metadata": {
    "collapsed": true
   },
   "source": [
    "Use raw_data_download_script.sh in preprocess folder for downloading raw Hi-C data across different cell types (GM12878, K562,IMR90,NHEK)"
   ]
  },
  {
   "cell_type": "code",
   "execution_count": 6,
   "metadata": {},
   "outputs": [],
   "source": [
    "#download raw Hi-C data of GM12878 cell type\n",
    "!bash ./preprocess/raw_data_download_script.sh GM12878"
   ]
  },
  {
   "cell_type": "markdown",
   "metadata": {},
   "source": [
    "After download,GSM1551550_HIC001_merged_nodups.txt.gz to GSM1551567_HIC018_merged_nodups.txt.gz files can be found in ./data/GM12878 folder"
   ]
  },
  {
   "cell_type": "markdown",
   "metadata": {
    "collapsed": true
   },
   "source": [
    "# 2 Prapare Hi-C data"
   ]
  },
  {
   "cell_type": "code",
   "execution_count": null,
   "metadata": {
    "collapsed": true
   },
   "outputs": [],
   "source": [
    "# generate Hi-C raw contacts using juicer tool\n",
    "!bash ./preprocess/preprocess.sh GM12878"
   ]
  },
  {
   "cell_type": "markdown",
   "metadata": {},
   "source": [
    "After preprocessing, Hi-C raw contacts by chromosome are listed in ./data/GM12878/intra_NONE"
   ]
  },
  {
   "cell_type": "code",
   "execution_count": null,
   "metadata": {
    "collapsed": true
   },
   "outputs": [],
   "source": [
    "#split training and testing data\n",
    "!python data_split.py /path_to_hicGAN/hicGAN/data/GM12878 /path_to_hicGAN/hicGAN/data/GM12878"
   ]
  },
  {
   "cell_type": "markdown",
   "metadata": {},
   "source": [
    "# 3 Training hicGAN"
   ]
  },
  {
   "cell_type": "code",
   "execution_count": null,
   "metadata": {
    "collapsed": true
   },
   "outputs": [],
   "source": [
    "!python run_hicGAN.py <gpu_id> <checkpoint> <graph> <PATH-TO-SAVA-DATA>"
   ]
  },
  {
   "cell_type": "markdown",
   "metadata": {},
   "source": [
    "model will be saved in checkpoint folder and training precess can be visilized using TensorBoard in graph folder"
   ]
  }
 ],
 "metadata": {
  "kernelspec": {
   "display_name": "Python 2",
   "language": "python",
   "name": "python2"
  },
  "language_info": {
   "codemirror_mode": {
    "name": "ipython",
    "version": 2
   },
   "file_extension": ".py",
   "mimetype": "text/x-python",
   "name": "python",
   "nbconvert_exporter": "python",
   "pygments_lexer": "ipython2",
   "version": "2.7.15"
  }
 },
 "nbformat": 4,
 "nbformat_minor": 2
}
